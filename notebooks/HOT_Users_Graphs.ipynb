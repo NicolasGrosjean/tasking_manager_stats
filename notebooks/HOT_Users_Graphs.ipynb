{
 "cells": [
  {
   "cell_type": "code",
   "execution_count": null,
   "id": "e5d23f08",
   "metadata": {},
   "outputs": [],
   "source": [
    "import datetime\n",
    "import numpy as np\n",
    "import os\n",
    "import pandas as pd\n",
    "import plotly.express as px"
   ]
  },
  {
   "cell_type": "code",
   "execution_count": null,
   "id": "2240e136",
   "metadata": {},
   "outputs": [],
   "source": [
    "data_dir = '../data'"
   ]
  },
  {
   "cell_type": "markdown",
   "id": "12816900",
   "metadata": {},
   "source": [
    "## Load data"
   ]
  },
  {
   "cell_type": "code",
   "execution_count": null,
   "id": "7567ae53",
   "metadata": {},
   "outputs": [],
   "source": [
    "df = pd.read_csv(os.path.join(data_dir, 'merged_stats.csv'), encoding='ANSI') # On Windows\n",
    "# df = pd.read_csv(os.path.join(data_dir, 'merged_stats.csv')) # On Linux\n",
    "df.head()"
   ]
  },
  {
   "cell_type": "markdown",
   "id": "0099116b",
   "metadata": {},
   "source": [
    "## Filter on CartONG projects\n",
    "\n",
    "\n",
    "<font color='red'>WARNING: File to update</font>\n",
    "\n",
    "The next section can be runned without it but we count data from projects where CartONG intervene only in a mapathon."
   ]
  },
  {
   "cell_type": "code",
   "execution_count": null,
   "id": "33b547e2",
   "metadata": {},
   "outputs": [],
   "source": [
    "raw_projects = pd.read_csv(os.path.join(data_dir, 'Orga_Missing_Maps_CartONG_2022_06_05.csv'), header=1)['N° Projet']\n",
    "projects = []\n",
    "for s in raw_projects:\n",
    "    try:\n",
    "        projects.append(int(s))\n",
    "    except:\n",
    "        pass\n",
    "df = df[df['Project'].isin(projects)]"
   ]
  },
  {
   "cell_type": "code",
   "execution_count": null,
   "metadata": {},
   "outputs": [],
   "source": [
    "# Remove old years\n",
    "df = df[df[\"Year\"] > 2017]"
   ]
  },
  {
   "cell_type": "markdown",
   "id": "e81c1add",
   "metadata": {},
   "source": [
    "## New contributors by day"
   ]
  },
  {
   "cell_type": "code",
   "execution_count": null,
   "id": "d1539512",
   "metadata": {},
   "outputs": [],
   "source": [
    "date_cols = [\"Year\", \"Month\", \"Day\"]\n",
    "df['Date'] = pd.to_datetime(df[date_cols].apply(lambda x: '-'.join(x.values.astype(str)), axis=\"columns\"))\n",
    "df.head()"
   ]
  },
  {
   "cell_type": "code",
   "execution_count": null,
   "id": "59a8fd33",
   "metadata": {},
   "outputs": [],
   "source": [
    "contributors_first_date = pd.DataFrame()\n",
    "min_year = df[\"Year\"].min()\n",
    "for year in sorted(df[\"Year\"].unique()):\n",
    "    df_year = df.loc[df[\"Year\"] == year].copy()\n",
    "    \n",
    "    # Set a Date index similar to each year\n",
    "    df_year[\"Fake_Date\"] = df_year[\"Date\"].apply(lambda d: d - pd.DateOffset(years=(year-min_year)))\n",
    "    \n",
    "    # Compute the number of contributors\n",
    "    author_first_date = df_year[[\"Author\", \"Fake_Date\"]].groupby(\"Author\").min()\n",
    "    contributors_first_date_year = author_first_date.reset_index().groupby('Fake_Date').count().cumsum()\n",
    "    contributors_first_date_year[\"Year\"] = year\n",
    "    contributors_first_date = pd.concat([contributors_first_date, contributors_first_date_year], axis=0)\n",
    "contributors_first_date.reset_index(inplace=True)"
   ]
  },
  {
   "cell_type": "code",
   "execution_count": null,
   "id": "d5d06355",
   "metadata": {},
   "outputs": [],
   "source": [
    "fig = px.line(contributors_first_date, x=\"Fake_Date\", y=\"Author\", color=\"Year\")\n",
    "fig.update_xaxes(title_text = 'Date of first contribution')\n",
    "fig.update_yaxes(title_text = \"Contributors number\")\n",
    "fig.update_layout(title={'text':f'Cumulative sum of total contributors in a year'})\n",
    "fig.update_layout(xaxis_tickformat = '%d %B')\n",
    "with open(f'{data_dir}/contributors.json', 'w') as f:\n",
    "    f.write(fig.to_json())\n",
    "fig"
   ]
  },
  {
   "cell_type": "markdown",
   "id": "92aa06d5",
   "metadata": {},
   "source": [
    "## Time contribution"
   ]
  },
  {
   "cell_type": "code",
   "execution_count": null,
   "id": "b57ff897",
   "metadata": {},
   "outputs": [],
   "source": [
    "mapping_time = pd.DataFrame()\n",
    "valid_time = pd.DataFrame()\n",
    "total_time = pd.DataFrame()\n",
    "min_year = df[\"Year\"].min()\n",
    "for year in sorted(df[\"Year\"].unique()):\n",
    "    df_year = df[df[\"Year\"] == year].copy()\n",
    "    \n",
    "    # Set a Date index similar to each year\n",
    "    df_year[\"Fake_Date\"] = df_year[\"Date\"].apply(lambda d: d - pd.DateOffset(years=(year-min_year)))\n",
    "    \n",
    "    # Compute the contribution time\n",
    "    mapping_time_year = df_year[df_year[\"Type\"] == \"MAPPING\"].groupby('Fake_Date').sum().cumsum()\n",
    "    valid_time_year = df_year[df_year[\"Type\"] == \"VALIDATION\"].groupby('Fake_Date').sum().cumsum()\n",
    "    total_time_year = df_year.groupby('Fake_Date').sum().cumsum()\n",
    "    mapping_time_year[\"Year\"] = year\n",
    "    valid_time_year[\"Year\"] = year\n",
    "    total_time_year[\"Year\"] = year\n",
    "    mapping_time = pd.concat([mapping_time, mapping_time_year], axis=0)\n",
    "    valid_time = pd.concat([valid_time, valid_time_year], axis=0)\n",
    "    total_time = pd.concat([total_time, total_time_year], axis=0)\n",
    "mapping_time[\"Duration\"] /= 3600 * 7 * 229\n",
    "valid_time[\"Duration\"] /= 3600 * 7 * 229\n",
    "total_time[\"Duration\"] /= 3600 * 7 * 229\n",
    "mapping_time.reset_index(inplace=True)\n",
    "valid_time.reset_index(inplace=True)\n",
    "total_time.reset_index(inplace=True)"
   ]
  },
  {
   "cell_type": "code",
   "execution_count": null,
   "id": "2fe1d270",
   "metadata": {},
   "outputs": [],
   "source": [
    "fig = px.line(mapping_time, x=\"Fake_Date\", y=\"Duration\", color=\"Year\")\n",
    "fig.update_xaxes(title_text = 'Date')\n",
    "fig.update_yaxes(title_text = \"Mapping time in ETP (229 days of 7 hours)\")\n",
    "fig.update_layout(title={'text':f'Cumulative sum of mapping time in ETP (229 days of 7 hours)'})\n",
    "fig.update_layout(xaxis_tickformat = '%d %B')\n",
    "with open(f'{data_dir}/mapping_time.json', 'w') as f:\n",
    "    f.write(fig.to_json())\n",
    "fig"
   ]
  },
  {
   "cell_type": "code",
   "execution_count": null,
   "id": "2cea1b71",
   "metadata": {},
   "outputs": [],
   "source": [
    "fig = px.line(valid_time, x=\"Fake_Date\", y=\"Duration\", color=\"Year\")\n",
    "fig.update_xaxes(title_text = 'Date')\n",
    "fig.update_yaxes(title_text = \"Validation time in ETP (229 days of 7 hours)\")\n",
    "fig.update_layout(title={'text':f'Cumulative sum of validation time in ETP (229 days of 7 hours)'})\n",
    "fig.update_layout(xaxis_tickformat = '%d %B')\n",
    "with open(f'{data_dir}/validation_time.json', 'w') as f:\n",
    "    f.write(fig.to_json())\n",
    "fig"
   ]
  },
  {
   "cell_type": "code",
   "execution_count": null,
   "id": "6b801172",
   "metadata": {},
   "outputs": [],
   "source": [
    "fig = px.line(total_time, x=\"Fake_Date\", y=\"Duration\", color=\"Year\")\n",
    "fig.update_xaxes(title_text = 'Date')\n",
    "fig.update_yaxes(title_text = \"Contribution time in ETP (229 days of 7 hours)\")\n",
    "fig.update_layout(title={'text':f'Cumulative sum of contribution time in ETP (229 days of 7 hours)'})\n",
    "fig.update_layout(xaxis_tickformat = '%d %B')\n",
    "with open(f'{data_dir}/total_time.json', 'w') as f:\n",
    "    f.write(fig.to_json())\n",
    "fig"
   ]
  },
  {
   "cell_type": "code",
   "execution_count": null,
   "id": "c7bae73f",
   "metadata": {},
   "outputs": [],
   "source": []
  }
 ],
 "metadata": {
  "kernelspec": {
   "display_name": "Python 3",
   "language": "python",
   "name": "python3"
  },
  "language_info": {
   "codemirror_mode": {
    "name": "ipython",
    "version": 3
   },
   "file_extension": ".py",
   "mimetype": "text/x-python",
   "name": "python",
   "nbconvert_exporter": "python",
   "pygments_lexer": "ipython3",
   "version": "3.6.13"
  }
 },
 "nbformat": 4,
 "nbformat_minor": 5
}
