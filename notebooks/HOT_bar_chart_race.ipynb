{
 "cells": [
  {
   "cell_type": "markdown",
   "metadata": {},
   "source": [
    "# Tutorial : https://towardsdatascience.com/bar-chart-race-in-python-with-matplotlib-8e687a5c8a41"
   ]
  },
  {
   "cell_type": "code",
   "execution_count": null,
   "metadata": {},
   "outputs": [],
   "source": [
    "import pandas as pd\n",
    "import matplotlib.pyplot as plt\n",
    "import matplotlib.ticker as ticker\n",
    "import matplotlib.animation as animation\n",
    "from IPython.display import HTML"
   ]
  },
  {
   "cell_type": "code",
   "execution_count": null,
   "metadata": {},
   "outputs": [],
   "source": [
    "df = pd.read_csv('https://gist.githubusercontent.com/johnburnmurdoch/4199dbe55095c3e13de8d5b2e5e5307a/raw/fa018b25c24b7b5f47fd0568937ff6c04e384786/city_populations', \n",
    "                 usecols=['name', 'group', 'year', 'value'])\n",
    "df.head(3)"
   ]
  },
  {
   "cell_type": "code",
   "execution_count": null,
   "metadata": {},
   "outputs": [],
   "source": [
    "current_year = 2018\n",
    "dff = (df[df['year'].eq(current_year)]\n",
    "       .sort_values(by='value', ascending=True)\n",
    "       .head(10))\n",
    "dff"
   ]
  },
  {
   "cell_type": "code",
   "execution_count": null,
   "metadata": {},
   "outputs": [],
   "source": [
    "fig, ax = plt.subplots(figsize=(15, 8))\n",
    "ax.barh(dff['name'], dff['value'])"
   ]
  },
  {
   "cell_type": "code",
   "execution_count": null,
   "metadata": {},
   "outputs": [],
   "source": [
    "colors = dict(zip(\n",
    "    ['India', 'Europe', 'Asia', 'Latin America',\n",
    "     'Middle East', 'North America', 'Africa'],\n",
    "    ['#adb0ff', '#ffb3ff', '#90d595', '#e48381',\n",
    "     '#aafbff', '#f7bb5f', '#eafb50']\n",
    "))\n",
    "group_lk = df.set_index('name')['group'].to_dict()"
   ]
  },
  {
   "cell_type": "code",
   "execution_count": null,
   "metadata": {},
   "outputs": [],
   "source": [
    "fig, ax = plt.subplots(figsize=(15, 8))\n",
    "dff = dff[::-1]   # flip values from top to bottom\n",
    "# pass colors values to `color=`\n",
    "ax.barh(dff['name'], dff['value'], color=[colors[group_lk[x]] for x in dff['name']])\n",
    "# iterate over the values to plot labels and values (Tokyo, Asia, 38194.2)\n",
    "for i, (value, name) in enumerate(zip(dff['value'], dff['name'])):\n",
    "    ax.text(value, i,     name,            ha='right')  # Tokyo: name\n",
    "    ax.text(value, i-.25, group_lk[name],  ha='right')  # Asia: group name\n",
    "    ax.text(value, i,     value,           ha='left')   # 38194.2: value\n",
    "# Add year right middle portion of canvas\n",
    "ax.text(1, 0.4, current_year, transform=ax.transAxes, size=46, ha='right')"
   ]
  },
  {
   "cell_type": "code",
   "execution_count": null,
   "metadata": {},
   "outputs": [],
   "source": [
    "fig, ax = plt.subplots(figsize=(15, 8))\n",
    "def draw_barchart(year):\n",
    "    dff = df[df['year'].eq(year)].sort_values(by='value', ascending=True).tail(10)\n",
    "    ax.clear()\n",
    "    ax.barh(dff['name'], dff['value'], color=[colors[group_lk[x]] for x in dff['name']])\n",
    "    dx = dff['value'].max() / 200\n",
    "    for i, (value, name) in enumerate(zip(dff['value'], dff['name'])):\n",
    "        ax.text(value-dx, i,     name,           size=14, weight=600, ha='right', va='bottom')\n",
    "        ax.text(value-dx, i-.25, group_lk[name], size=10, color='#444444', ha='right', va='baseline')\n",
    "        ax.text(value+dx, i,     f'{value:,.0f}',  size=14, ha='left',  va='center')\n",
    "    # ... polished styles\n",
    "    ax.text(1, 0.4, year, transform=ax.transAxes, color='#777777', size=46, ha='right', weight=800)\n",
    "    ax.text(0, 1.06, 'Population (thousands)', transform=ax.transAxes, size=12, color='#777777')\n",
    "    ax.xaxis.set_major_formatter(ticker.StrMethodFormatter('{x:,.0f}'))\n",
    "    ax.xaxis.set_ticks_position('top')\n",
    "    ax.tick_params(axis='x', colors='#777777', labelsize=12)\n",
    "    ax.set_yticks([])\n",
    "    ax.margins(0, 0.01)\n",
    "    ax.grid(which='major', axis='x', linestyle='-')\n",
    "    ax.set_axisbelow(True)\n",
    "    ax.text(0, 1.12, 'The most populous cities in the world from 1500 to 2018',\n",
    "            transform=ax.transAxes, size=24, weight=600, ha='left')\n",
    "    ax.text(1, 0, 'by @pratapvardhan; credit @jburnmurdoch', transform=ax.transAxes, ha='right',\n",
    "            color='#777777', bbox=dict(facecolor='white', alpha=0.8, edgecolor='white'))\n",
    "    plt.box(False)\n",
    "    \n",
    "draw_barchart(2018)"
   ]
  },
  {
   "cell_type": "code",
   "execution_count": null,
   "metadata": {
    "scrolled": false
   },
   "outputs": [],
   "source": [
    "import matplotlib.animation as animation\n",
    "from IPython.display import HTML\n",
    "fig, ax = plt.subplots(figsize=(15, 8))\n",
    "animator = animation.FuncAnimation(fig, draw_barchart, frames=range(1968, 2019))\n",
    "HTML(animator.to_jshtml())"
   ]
  },
  {
   "cell_type": "code",
   "execution_count": null,
   "metadata": {
    "scrolled": false
   },
   "outputs": [],
   "source": [
    "import matplotlib.animation as animation\n",
    "from IPython.display import HTML\n",
    "fig, ax = plt.subplots(figsize=(15, 8))\n",
    "animator = animation.FuncAnimation(fig, draw_barchart, frames=range(1500, 2019))\n",
    "animator.save('image.mp4', fps=10, writer=\"avconv\", codec=\"libx264\")"
   ]
  },
  {
   "cell_type": "markdown",
   "metadata": {},
   "source": [
    "# Validator data"
   ]
  },
  {
   "cell_type": "markdown",
   "metadata": {},
   "source": [
    "Improve data quality\n",
    "- Filter some tasks (< 5min in validation ?)\n",
    "- Merge some users (Ex: Joean-Yves Longchamp and JYL45)"
   ]
  },
  {
   "cell_type": "code",
   "execution_count": null,
   "metadata": {},
   "outputs": [],
   "source": [
    "%run ../tasking_manager_stats/data_management\n",
    "%run ../tasking_manager_stats/map_tools"
   ]
  },
  {
   "cell_type": "code",
   "execution_count": null,
   "metadata": {},
   "outputs": [],
   "source": [
    "# Read the merged raw data of several projects\n",
    "df = pd.read_csv(os.path.join(get_data_dir(), 'merged_stats.csv'))\n",
    "print(f'{len(df)} lines')\n",
    "df.head()"
   ]
  },
  {
   "cell_type": "code",
   "execution_count": null,
   "metadata": {},
   "outputs": [],
   "source": [
    "# Filter on validation in S1 2019\n",
    "df2 = df[df['Type'] == 'VALIDATION']\n",
    "df2 = df2[df2['Year'] == 2019]\n",
    "df2 = df2[df2['Month'] <= 6]\n",
    "print(f'{len(df2)} lines')\n",
    "df2.head()"
   ]
  },
  {
   "cell_type": "code",
   "execution_count": null,
   "metadata": {},
   "outputs": [],
   "source": [
    "# Keep only one validation by author and task\n",
    "df3 = df2.groupby(['Project', 'Task', 'Year', 'Month', 'Day', 'Rel. Day', 'Author']).max()\n",
    "df3 = df3.reset_index()\n",
    "print(f'{len(df3)} lines')\n",
    "df3.head()"
   ]
  },
  {
   "cell_type": "code",
   "execution_count": null,
   "metadata": {},
   "outputs": [],
   "source": [
    "# Count the number of tasks by day and author\n",
    "df4 = df3.groupby(['Author', 'Year', 'Month', 'Day']).count()\n",
    "df4 = df4['Task']\n",
    "df4 = df4.reset_index()\n",
    "print(f'{len(df4)} lines')\n",
    "df4.head()"
   ]
  },
  {
   "cell_type": "code",
   "execution_count": null,
   "metadata": {},
   "outputs": [],
   "source": [
    "# Add a column for the day of the year\n",
    "df4['Day_of_year'] = None\n",
    "for index, row in df4.iterrows():\n",
    "    df4.loc[index, 'Day_of_year'] = pd.datetime(row['Year'], row['Month'], row['Day']).timetuple().tm_yday\n",
    "df4 = df4[['Author', 'Day_of_year', 'Task']]\n",
    "print(f'{len(df4)} lines')\n",
    "df4.head()"
   ]
  },
  {
   "cell_type": "code",
   "execution_count": null,
   "metadata": {},
   "outputs": [],
   "source": [
    "# Add 0 task validated on all the days\n",
    "for author in df4['Author'].unique():\n",
    "    for day in range(1, max(df4['Day_of_year']) + 1):\n",
    "        df4 = pd.concat([df4, pd.DataFrame(data=[(author, day, 0)], columns=['Author', 'Day_of_year', 'Task'])],\n",
    "                        axis=0, ignore_index=True)\n",
    "print(f'{len(df4)} lines')\n",
    "df4.tail()"
   ]
  },
  {
   "cell_type": "code",
   "execution_count": null,
   "metadata": {},
   "outputs": [],
   "source": [
    "# Sum again the empty lines with existing ones to have a line for a day and an author\n",
    "df4 = df4.groupby(['Author', 'Day_of_year']).sum()\n",
    "df4 = df4.reset_index()\n",
    "print(f'{len(df4)} lines')\n",
    "df4.head()"
   ]
  },
  {
   "cell_type": "code",
   "execution_count": null,
   "metadata": {},
   "outputs": [],
   "source": [
    "# Check the number\n",
    "len(df4['Author'].unique()) * max(df4['Day_of_year'])"
   ]
  },
  {
   "cell_type": "code",
   "execution_count": null,
   "metadata": {},
   "outputs": [],
   "source": [
    "# Add a cumsum column named value\n",
    "df5 = df4.copy()\n",
    "df5['value'] = None\n",
    "for author in df5['Author'].unique():\n",
    "    df_author = df5.loc[df5['Author'] == author,]\n",
    "    df5.loc[df_author.index, 'value'] = df_author['Task'].cumsum()\n",
    "print(f'{len(df5)} lines')\n",
    "df5[df5['Author'] == 'Anaximandre'].head(10)"
   ]
  },
  {
   "cell_type": "code",
   "execution_count": null,
   "metadata": {},
   "outputs": [],
   "source": [
    "# Rename and extract useful columns\n",
    "df6 = df5.rename(index=int, columns={'Author' : 'name'})\n",
    "df6 = df6[['name', 'Day_of_year', 'value']]\n",
    "print(f'{len(df6)} lines')\n",
    "df6[df6['name'] == 'Anaximandre'].head()"
   ]
  },
  {
   "cell_type": "code",
   "execution_count": null,
   "metadata": {},
   "outputs": [],
   "source": [
    "fig, ax = plt.subplots(figsize=(15, 8))\n",
    "def draw_barchart(day_of_year):\n",
    "    dff = df6[df6['Day_of_year'].eq(day_of_year)].sort_values(by='value', ascending=True).tail(10)\n",
    "    ax.clear()\n",
    "    ax.barh(dff['name'], dff['value']) # TODO color\n",
    "    dx = dff['value'].max() / 200\n",
    "    for i, (value, name) in enumerate(zip(dff['value'], dff['name'])):\n",
    "        ax.text(value-dx, i,     name,           size=14, weight=600, ha='right', va='bottom')\n",
    "        ax.text(value+dx, i,     f'{value:,.0f}',  size=14, ha='left',  va='center')\n",
    "    # ... polished styles\n",
    "    ax.text(1, 0.4, day_of_year, transform=ax.transAxes, color='#777777', size=46, ha='right', weight=800)\n",
    "    ax.text(0, 1.06, 'Validated tasks', transform=ax.transAxes, size=12, color='#777777')\n",
    "    ax.xaxis.set_major_formatter(ticker.StrMethodFormatter('{x:,.0f}'))\n",
    "    ax.xaxis.set_ticks_position('top')\n",
    "    ax.tick_params(axis='x', colors='#777777', labelsize=12)\n",
    "    ax.set_yticks([])\n",
    "    ax.margins(0, 0.01)\n",
    "    ax.grid(which='major', axis='x', linestyle='-')\n",
    "    ax.set_axisbelow(True)\n",
    "    ax.text(0, 1.12, 'Number of validated tasks on CartONG project in S1 2019',\n",
    "            transform=ax.transAxes, size=24, weight=600, ha='left')\n",
    "    ax.text(1, 0, 'by CartONG credit @pratapvardhan, @jburnmurdoch', transform=ax.transAxes, ha='right',\n",
    "            color='#777777', bbox=dict(facecolor='white', alpha=0.8, edgecolor='white'))\n",
    "    plt.box(False)\n",
    "    \n",
    "draw_barchart(150)"
   ]
  },
  {
   "cell_type": "code",
   "execution_count": null,
   "metadata": {},
   "outputs": [],
   "source": [
    "from random import seed\n",
    "random.seed(14)"
   ]
  },
  {
   "cell_type": "code",
   "execution_count": null,
   "metadata": {},
   "outputs": [],
   "source": [
    "# Use color from https://medium.com/@6berardi/how-to-create-a-smooth-bar-chart-race-with-python-ad2daf6510dc\n",
    "from random import randint\n",
    "import matplotlib.colors as mc\n",
    "import colorsys\n",
    "def transform_color(color, amount = 0.5):\n",
    "\n",
    "    try:\n",
    "        c = mc.cnames[color]\n",
    "    except:\n",
    "        c = color\n",
    "        c = colorsys.rgb_to_hls(*mc.to_rgb(c))\n",
    "    return colorsys.hls_to_rgb(c[0], 1 - amount * (1 - c[1]), c[2])\n",
    "\n",
    "all_names = df6['name'].unique().tolist()\n",
    "random_hex_colors = []\n",
    "for i in range(len(all_names)):\n",
    "    random_hex_colors.append('#' + '%06X' % randint(0, 0xFFFFFF))\n",
    "\n",
    "rgb_colors = [transform_color(i, 1) for i in random_hex_colors]\n",
    "rgb_colors_opacity = [rgb_colors[x] + (0.825,) for x in range(len(rgb_colors))]\n",
    "rgb_colors_dark = [transform_color(i, 1.12) for i in random_hex_colors]\n",
    "normal_colors = dict(zip(df6['name'].unique(), rgb_colors_opacity))\n",
    "dark_colors = dict(zip(df6['name'].unique(), rgb_colors_dark))"
   ]
  },
  {
   "cell_type": "code",
   "execution_count": null,
   "metadata": {},
   "outputs": [],
   "source": [
    "# Add additionnal column to choose initial top\n",
    "df6['initial_ranking'] = 0\n",
    "for name in df6['name'].unique():\n",
    "    if df6[(df6['name'] == name) & (df6['Day_of_year'] == 20)]['value'].sum() > 0:\n",
    "        df6.loc[df6['name'] == name, 'initial_ranking'] = 1\n",
    "print(f'{len(df6)} lines')\n",
    "df6[df6['name'] == 'Anaximandre'].head()"
   ]
  },
  {
   "cell_type": "code",
   "execution_count": null,
   "metadata": {},
   "outputs": [],
   "source": [
    "fig, ax = plt.subplots(figsize=(15, 8))\n",
    "def draw_barchart(day_of_year):\n",
    "    dff = df6[df6['Day_of_year'].eq(day_of_year)].sort_values(by=['value', 'initial_ranking'], ascending=True).tail(10)\n",
    "    ax.clear()    \n",
    "    ax.barh(dff['name'], dff['value'], color = [normal_colors[x] for x in dff['name']], height = 0.8,\n",
    "            edgecolor =([dark_colors[x] for x in dff['name']]), linewidth = '3')\n",
    "    dx = dff['value'].max() / 200\n",
    "    for i, (value, name) in enumerate(zip(dff['value'], dff['name'])):\n",
    "        ax.text(value-dx, i,     name,           size=14, weight=600, ha='right', va='bottom')\n",
    "        ax.text(value+dx, i,     value,  size=14, ha='left',  va='center')\n",
    "    # ... polished styles\n",
    "    date = (datetime.datetime(2019, 1, 1) + datetime.timedelta(day_of_year - 1)).strftime('%B %d')\n",
    "    ax.text(1, 0.4, date, transform=ax.transAxes, color='#777777', size=46, ha='right', weight=800)\n",
    "    ax.text(0, 1.06, 'Validated tasks', transform=ax.transAxes, size=12, color='#777777')\n",
    "    ax.xaxis.set_major_formatter(ticker.StrMethodFormatter('{x:.0f}'))\n",
    "    ax.xaxis.set_ticks_position('top')\n",
    "    ax.tick_params(axis='x', colors='#777777', labelsize=12)\n",
    "    ax.set_yticks([])\n",
    "    ax.margins(0, 0.01)\n",
    "    ax.grid(which='major', axis='x', linestyle='-')\n",
    "    ax.set_axisbelow(True)\n",
    "    ax.text(0, 1.12, 'Number of validated tasks on CartONG project in S1 2019',\n",
    "            transform=ax.transAxes, size=24, weight=600, ha='left')\n",
    "    ax.text(1, 0, 'by CartONG credit @pratapvardhan, @jburnmurdoch', transform=ax.transAxes, ha='right',\n",
    "            color='#777777', bbox=dict(facecolor='white', alpha=0.8, edgecolor='white'))\n",
    "    plt.box(False)\n",
    "    \n",
    "draw_barchart(150)"
   ]
  },
  {
   "cell_type": "code",
   "execution_count": null,
   "metadata": {},
   "outputs": [],
   "source": [
    "# Put logarithms\n",
    "fig, ax = plt.subplots(figsize=(15, 8))\n",
    "def draw_barchart(day_of_year):\n",
    "    dff = df6[df6['Day_of_year'].eq(day_of_year)].sort_values(by=['value', 'initial_ranking'], ascending=True).tail(10)\n",
    "    ax.clear()    \n",
    "    ax.barh(dff['name'], dff['value'], color = [normal_colors[x] for x in dff['name']], height = 0.8,\n",
    "            edgecolor =([dark_colors[x] for x in dff['name']]), linewidth = '3', log=True)\n",
    "    # Add ('', 0) in ax.barh ?\n",
    "    dx = np.log(dff['value'].max() - dff['value'].min()) / np.log(200)\n",
    "    for i, (value, name) in enumerate(zip(dff['value'], dff['name'])):\n",
    "        ax.text(value*.95, i,     name,           size=14, weight=600, ha='right', va='center')\n",
    "        ax.text(value*1.05, i,     value,  size=14, ha='left',  va='center')\n",
    "    # ... polished styles\n",
    "    date = (datetime.datetime(2019, 1, 1) + datetime.timedelta(day_of_year - 1)).strftime('%B %d')\n",
    "    ax.text(1, 0.4, date, transform=ax.transAxes, color='#777777', size=46, ha='right', weight=800)\n",
    "    ax.text(0, 1.06, 'Validated tasks', transform=ax.transAxes, size=12, color='#777777')\n",
    "    ax.xaxis.set_major_formatter(ticker.StrMethodFormatter('{x:.0f}'))\n",
    "    ax.xaxis.set_ticks_position('top')\n",
    "    ax.tick_params(axis='x', colors='#777777', labelsize=12)\n",
    "    ax.set_yticks([])\n",
    "    ax.grid(which='major', axis='x', linestyle='-')\n",
    "    ax.set_axisbelow(True)\n",
    "    ax.text(0, 1.12, 'Number of validated tasks on CartONG project in S1 2019',\n",
    "            transform=ax.transAxes, size=24, weight=600, ha='left')\n",
    "    ax.text(1, 0, 'by CartONG credit @pratapvardhan, @jburnmurdoch', transform=ax.transAxes, ha='right',\n",
    "            color='#777777', bbox=dict(facecolor='white', alpha=0.8, edgecolor='white'))\n",
    "    plt.box(False)\n",
    "    \n",
    "draw_barchart(150)"
   ]
  },
  {
   "cell_type": "code",
   "execution_count": null,
   "metadata": {},
   "outputs": [],
   "source": [
    "import matplotlib.animation as animation\n",
    "from IPython.display import HTML\n",
    "fig, ax = plt.subplots(figsize=(15, 8))\n",
    "animator = animation.FuncAnimation(fig, draw_barchart, frames=range(1, max(df6['Day_of_year'])))\n",
    "HTML(animator.to_jshtml())"
   ]
  },
  {
   "cell_type": "code",
   "execution_count": null,
   "metadata": {},
   "outputs": [],
   "source": [
    "import matplotlib.animation as animation\n",
    "from IPython.display import HTML\n",
    "fig, ax = plt.subplots(figsize=(15, 8))\n",
    "animator = animation.FuncAnimation(fig, draw_barchart, frames=range(1, max(df6['Day_of_year'])))\n",
    "animator.save('validator_s1_2019.mp4', fps=3)"
   ]
  },
  {
   "cell_type": "markdown",
   "metadata": {},
   "source": [
    "# Time spent by project"
   ]
  },
  {
   "cell_type": "code",
   "execution_count": null,
   "metadata": {},
   "outputs": [],
   "source": [
    "print(f'{len(df)} lines')\n",
    "df.head()"
   ]
  },
  {
   "cell_type": "code",
   "execution_count": null,
   "metadata": {},
   "outputs": [],
   "source": [
    "# Group spent time by Project and day\n",
    "df2 = df.groupby(['Project', 'Year', 'Month', 'Day']).sum()\n",
    "df2 = df2['Duration']\n",
    "df2 = df2.reset_index()\n",
    "print(f'{len(df2)} lines')\n",
    "df2.head()"
   ]
  },
  {
   "cell_type": "code",
   "execution_count": null,
   "metadata": {},
   "outputs": [],
   "source": [
    "# Add a column for the day of the year\n",
    "df2['Day_of_year'] = None\n",
    "for index, row in df2.iterrows():\n",
    "    if row['Year'] < 2019:\n",
    "        df2.loc[index, 'Day_of_year'] = 0\n",
    "    else:\n",
    "        df2.loc[index, 'Day_of_year'] = pd.datetime(row['Year'], row['Month'], row['Day']).timetuple().tm_yday\n",
    "df2 = df2[['Project', 'Day_of_year', 'Duration']]\n",
    "print(f'{len(df2)} lines')\n",
    "df2.head()"
   ]
  },
  {
   "cell_type": "code",
   "execution_count": null,
   "metadata": {},
   "outputs": [],
   "source": [
    "# Restrict to a number of days\n",
    "MAX_DAY = 188\n",
    "df2 = df2[df2['Day_of_year'] <= MAX_DAY]"
   ]
  },
  {
   "cell_type": "code",
   "execution_count": null,
   "metadata": {},
   "outputs": [],
   "source": [
    "# Add 0 task validated on all the days\n",
    "for project in df2['Project'].unique():\n",
    "    for day in range(0, MAX_DAY):\n",
    "        df2 = pd.concat([df2, pd.DataFrame(data=[(project, day, 0)], columns=['Project', 'Day_of_year', 'Duration'])],\n",
    "                        axis=0, ignore_index=True)\n",
    "print(f'{len(df2)} lines')\n",
    "df2.tail()"
   ]
  },
  {
   "cell_type": "code",
   "execution_count": null,
   "metadata": {},
   "outputs": [],
   "source": [
    "# Sum again the empty lines with existing ones to have a line for a day and a project\n",
    "df3 = df2.groupby(['Project', 'Day_of_year']).sum()\n",
    "df3 = df3.reset_index()\n",
    "print(f'{len(df3)} lines')\n",
    "df3.head()"
   ]
  },
  {
   "cell_type": "code",
   "execution_count": null,
   "metadata": {},
   "outputs": [],
   "source": [
    "# Check the number of lines\n",
    "len(df3['Project'].unique()) * MAX_DAY"
   ]
  },
  {
   "cell_type": "code",
   "execution_count": null,
   "metadata": {},
   "outputs": [],
   "source": [
    "# Add a cumsum column named value\n",
    "df4 = df3.copy()\n",
    "df4['value'] = None\n",
    "for project in df4['Project'].unique():\n",
    "    df_project = df4.loc[df4['Project'] == project,]\n",
    "    df4.loc[df_project.index, 'value'] = df_project['Duration'].cumsum()\n",
    "print(f'{len(df4)} lines')\n",
    "df4.head(10)"
   ]
  },
  {
   "cell_type": "code",
   "execution_count": null,
   "metadata": {},
   "outputs": [],
   "source": [
    "# Add country data\n",
    "df_countries = pd.read_csv(os.path.join(get_data_dir(), 'Mapathons_countries.csv'), encoding='ISO-8859-1')\n",
    "df_countries['Country'] = df_countries['Country'].apply(lambda s: s.replace(' ', ''))\n",
    "df_countries = df_countries.drop_duplicates()\n",
    "# Subgroup Africa :  http://www.actualite-ouest-africaine.org/content/fr/les-six-r%C3%A9gions-de-l%E2%80%99union-africaine\n",
    "df_countries.loc[df_countries['Country'].isin(['Algérie']), 'Group'] = 'North Africa'\n",
    "df_countries.loc[df_countries['Country'].isin(['BurkinaFaso', 'Niger', 'Sénégal']), 'Group'] = 'West Africa'\n",
    "df_countries.loc[df_countries['Country'].isin(['Angola']), 'Group'] = 'South Africa'\n",
    "df_countries.loc[df_countries['Country'].isin(['Kenya', 'Madagascar', 'Tanzanie', 'Ethiopie', 'Ouganda', 'Soudan']), 'Group'] = 'Est Africa'\n",
    "df_countries.loc[df_countries['Country'].isin(['RDC', 'Cameroun', 'Tchad', 'Kalémie', 'Congo']), 'Group'] = 'Center Africa'\n",
    "df_countries.head()"
   ]
  },
  {
   "cell_type": "code",
   "execution_count": null,
   "metadata": {},
   "outputs": [],
   "source": [
    "df_countries[df_countries['Group'] == 'Africa']"
   ]
  },
  {
   "cell_type": "code",
   "execution_count": null,
   "metadata": {},
   "outputs": [],
   "source": [
    "# Merge country\n",
    "df5 = pd.merge(df4, df_countries, on='Project')\n",
    "df5.head()"
   ]
  },
  {
   "cell_type": "code",
   "execution_count": null,
   "metadata": {},
   "outputs": [],
   "source": [
    "# Rename, reformat extract useful columns\n",
    "df6 = df5.rename(index=int, columns={'Project' : 'name'})\n",
    "df6 = df6[['name', 'Day_of_year', 'value', 'Country', 'Group']]\n",
    "df6['name'] = df6['name'].apply(str)\n",
    "df6['value'] = df6['value'] / 3600\n",
    "print(f'{len(df6)} lines')\n",
    "df6.head()"
   ]
  },
  {
   "cell_type": "code",
   "execution_count": null,
   "metadata": {},
   "outputs": [],
   "source": [
    "df6['Group'].unique()"
   ]
  },
  {
   "cell_type": "code",
   "execution_count": null,
   "metadata": {},
   "outputs": [],
   "source": [
    "colors = dict(zip(\n",
    "    ['Central America', 'South America', 'Asia', 'Est Africa',\n",
    "     'West Africa', 'Central Africa', 'North Africa'],\n",
    "    ['#adb0ff', '#ffb3ff', '#90d595', '#e48381',\n",
    "     '#aafbff', '#f7bb5f', '#eafb50']\n",
    "))"
   ]
  },
  {
   "cell_type": "code",
   "execution_count": null,
   "metadata": {},
   "outputs": [],
   "source": [
    "fig, ax = plt.subplots(figsize=(15, 8))\n",
    "def draw_barchart(day_of_year):\n",
    "    dff = df6[df6['Day_of_year'].eq(day_of_year)].sort_values(by='value', ascending=True).tail(10)\n",
    "    ax.clear()    \n",
    "    ax.barh(dff['name'], dff['value'], color=[colors[x] for x in dff['Group']])\n",
    "    dx = dff['value'].max() / 200\n",
    "    for i, (value, name, country, group) in enumerate(zip(dff['value'], dff['name'], dff['Country'], dff ['Group'])):\n",
    "        ax.text(value-dx, i,     name,           size=14, weight=600, ha='right', va='bottom')\n",
    "        ax.text(value+dx, i,      f'{value:.1f}',  size=14, ha='left',  va='center')\n",
    "        ax.text(value-dx, i-.25, country + ' ( ' + group + ' )', size=10, color='#444444', ha='right', va='baseline')\n",
    "    # ... polished styles\n",
    "    date = (datetime.datetime(2019, 1, 1) + datetime.timedelta(day_of_year - 1)).strftime('%B %d')\n",
    "    ax.text(1, 0.4, date, transform=ax.transAxes, color='#777777', size=46, ha='right', weight=800)\n",
    "    ax.text(0, 1.06, 'Tme spend (hours)', transform=ax.transAxes, size=12, color='#777777')\n",
    "    ax.xaxis.set_major_formatter(ticker.StrMethodFormatter('{x:.0f}'))\n",
    "    ax.xaxis.set_ticks_position('top')\n",
    "    ax.tick_params(axis='x', colors='#777777', labelsize=12)\n",
    "    ax.set_yticks([])\n",
    "    ax.margins(0, 0.01)\n",
    "    ax.grid(which='major', axis='x', linestyle='-')\n",
    "    ax.set_axisbelow(True)\n",
    "    ax.text(0, 1.12, 'Hours spent on CartONG projects finished in S1 2019',\n",
    "            transform=ax.transAxes, size=24, weight=600, ha='left')\n",
    "    ax.text(1, 0, 'by CartONG credit @pratapvardhan, @jburnmurdoch', transform=ax.transAxes, ha='right',\n",
    "            color='#777777', bbox=dict(facecolor='white', alpha=0.8, edgecolor='white'))\n",
    "    plt.box(False)\n",
    "    \n",
    "draw_barchart(150)"
   ]
  },
  {
   "cell_type": "code",
   "execution_count": null,
   "metadata": {},
   "outputs": [],
   "source": [
    "import matplotlib.animation as animation\n",
    "from IPython.display import HTML\n",
    "fig, ax = plt.subplots(figsize=(15, 8))\n",
    "animator = animation.FuncAnimation(fig, draw_barchart, frames=range(1, max(df6['Day_of_year'])))\n",
    "HTML(animator.to_jshtml())"
   ]
  },
  {
   "cell_type": "code",
   "execution_count": null,
   "metadata": {},
   "outputs": [],
   "source": [
    "import matplotlib.animation as animation\n",
    "from IPython.display import HTML\n",
    "fig, ax = plt.subplots(figsize=(15, 8))\n",
    "animator = animation.FuncAnimation(fig, draw_barchart, frames=range(1, max(df6['Day_of_year'])))\n",
    "animator.save('time_spent_s1_2019.mp4', fps=3)"
   ]
  },
  {
   "cell_type": "code",
   "execution_count": null,
   "metadata": {},
   "outputs": [],
   "source": []
  }
 ],
 "metadata": {
  "kernelspec": {
   "display_name": "Python 3",
   "language": "python",
   "name": "python3"
  },
  "language_info": {
   "codemirror_mode": {
    "name": "ipython",
    "version": 3
   },
   "file_extension": ".py",
   "mimetype": "text/x-python",
   "name": "python",
   "nbconvert_exporter": "python",
   "pygments_lexer": "ipython3",
   "version": "3.7.0"
  }
 },
 "nbformat": 4,
 "nbformat_minor": 2
}
