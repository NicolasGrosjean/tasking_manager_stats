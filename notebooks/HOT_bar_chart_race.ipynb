{
 "cells": [
  {
   "cell_type": "markdown",
   "metadata": {},
   "source": [
    "# Tutorial : https://towardsdatascience.com/bar-chart-race-in-python-with-matplotlib-8e687a5c8a41"
   ]
  },
  {
   "cell_type": "code",
   "execution_count": null,
   "metadata": {},
   "outputs": [],
   "source": [
    "from platform import python_version\n",
    "python_version()"
   ]
  },
  {
   "cell_type": "code",
   "execution_count": null,
   "metadata": {
    "collapsed": true
   },
   "outputs": [],
   "source": [
    "import os\n",
    "import pandas as pd\n",
    "import matplotlib.pyplot as plt\n",
    "import matplotlib.ticker as ticker\n",
    "import matplotlib.animation as animation\n",
    "from IPython.display import HTML\n",
    "%matplotlib inline"
   ]
  },
  {
   "cell_type": "code",
   "execution_count": null,
   "metadata": {
    "collapsed": true
   },
   "outputs": [],
   "source": [
    "df = pd.read_csv('https://gist.githubusercontent.com/johnburnmurdoch/4199dbe55095c3e13de8d5b2e5e5307a/raw/fa018b25c24b7b5f47fd0568937ff6c04e384786/city_populations', \n",
    "                 usecols=['name', 'group', 'year', 'value'])\n",
    "df.head(3)"
   ]
  },
  {
   "cell_type": "code",
   "execution_count": null,
   "metadata": {
    "collapsed": true
   },
   "outputs": [],
   "source": [
    "current_year = 2018\n",
    "dff = (df[df['year'].eq(current_year)]\n",
    "       .sort_values(by='value', ascending=True)\n",
    "       .head(10))\n",
    "dff"
   ]
  },
  {
   "cell_type": "code",
   "execution_count": null,
   "metadata": {
    "collapsed": true
   },
   "outputs": [],
   "source": [
    "fig, ax = plt.subplots(figsize=(15, 8))\n",
    "ax.barh(dff['name'], dff['value'])"
   ]
  },
  {
   "cell_type": "code",
   "execution_count": null,
   "metadata": {
    "collapsed": true
   },
   "outputs": [],
   "source": [
    "colors = dict(zip(\n",
    "    ['India', 'Europe', 'Asia', 'Latin America',\n",
    "     'Middle East', 'North America', 'Africa'],\n",
    "    ['#adb0ff', '#ffb3ff', '#90d595', '#e48381',\n",
    "     '#aafbff', '#f7bb5f', '#eafb50']\n",
    "))\n",
    "group_lk = df.set_index('name')['group'].to_dict()"
   ]
  },
  {
   "cell_type": "code",
   "execution_count": null,
   "metadata": {
    "collapsed": true
   },
   "outputs": [],
   "source": [
    "fig, ax = plt.subplots(figsize=(15, 8))\n",
    "dff = dff[::-1]   # flip values from top to bottom\n",
    "# pass colors values to `color=`\n",
    "ax.barh(dff['name'], dff['value'], color=[colors[group_lk[x]] for x in dff['name']])\n",
    "# iterate over the values to plot labels and values (Tokyo, Asia, 38194.2)\n",
    "for i, (value, name) in enumerate(zip(dff['value'], dff['name'])):\n",
    "    ax.text(value, i,     name,            ha='right')  # Tokyo: name\n",
    "    ax.text(value, i-.25, group_lk[name],  ha='right')  # Asia: group name\n",
    "    ax.text(value, i,     value,           ha='left')   # 38194.2: value\n",
    "# Add year right middle portion of canvas\n",
    "ax.text(1, 0.4, current_year, transform=ax.transAxes, size=46, ha='right')"
   ]
  },
  {
   "cell_type": "code",
   "execution_count": null,
   "metadata": {
    "collapsed": true
   },
   "outputs": [],
   "source": [
    "fig, ax = plt.subplots(figsize=(15, 8))\n",
    "def draw_barchart(year):\n",
    "    dff = df[df['year'].eq(year)].sort_values(by='value', ascending=True).tail(10)\n",
    "    ax.clear()\n",
    "    ax.barh(dff['name'], dff['value'], color=[colors[group_lk[x]] for x in dff['name']])\n",
    "    dx = dff['value'].max() / 200\n",
    "    for i, (value, name) in enumerate(zip(dff['value'], dff['name'])):\n",
    "        ax.text(value-dx, i,     name,           size=14, weight=600, ha='right', va='bottom')\n",
    "        ax.text(value-dx, i-.25, group_lk[name], size=10, color='#444444', ha='right', va='baseline')\n",
    "        ax.text(value+dx, i,     f'{value:,.0f}',  size=14, ha='left',  va='center')\n",
    "    # ... polished styles\n",
    "    ax.text(1, 0.4, year, transform=ax.transAxes, color='#777777', size=46, ha='right', weight=800)\n",
    "    ax.text(0, 1.06, 'Population (thousands)', transform=ax.transAxes, size=12, color='#777777')\n",
    "    ax.xaxis.set_major_formatter(ticker.StrMethodFormatter('{x:,.0f}'))\n",
    "    ax.xaxis.set_ticks_position('top')\n",
    "    ax.tick_params(axis='x', colors='#777777', labelsize=12)\n",
    "    ax.set_yticks([])\n",
    "    ax.margins(0, 0.01)\n",
    "    ax.grid(which='major', axis='x', linestyle='-')\n",
    "    ax.set_axisbelow(True)\n",
    "    ax.text(0, 1.12, 'The most populous cities in the world from 1500 to 2018',\n",
    "            transform=ax.transAxes, size=24, weight=600, ha='left')\n",
    "    ax.text(1, 0, 'by @pratapvardhan; credit @jburnmurdoch', transform=ax.transAxes, ha='right',\n",
    "            color='#777777', bbox=dict(facecolor='white', alpha=0.8, edgecolor='white'))\n",
    "    plt.box(False)\n",
    "    \n",
    "draw_barchart(2018)"
   ]
  },
  {
   "cell_type": "code",
   "execution_count": null,
   "metadata": {
    "collapsed": true,
    "scrolled": false
   },
   "outputs": [],
   "source": [
    "import matplotlib.animation as animation\n",
    "from IPython.display import HTML\n",
    "fig, ax = plt.subplots(figsize=(15, 8))\n",
    "animator = animation.FuncAnimation(fig, draw_barchart, frames=range(1968, 2019))\n",
    "HTML(animator.to_jshtml())"
   ]
  },
  {
   "cell_type": "code",
   "execution_count": null,
   "metadata": {
    "collapsed": true,
    "scrolled": false
   },
   "outputs": [],
   "source": [
    "import matplotlib.animation as animation\n",
    "from IPython.display import HTML\n",
    "fig, ax = plt.subplots(figsize=(15, 8))\n",
    "animator = animation.FuncAnimation(fig, draw_barchart, frames=range(1500, 2019))\n",
    "animator.save('image.mp4', fps=10, writer=\"avconv\", codec=\"libx264\")"
   ]
  },
  {
   "cell_type": "markdown",
   "metadata": {},
   "source": [
    "# Validator data"
   ]
  },
  {
   "cell_type": "markdown",
   "metadata": {},
   "source": [
    "Improve data quality\n",
    "- Filter some tasks (< 5min in validation ?)"
   ]
  },
  {
   "cell_type": "code",
   "execution_count": null,
   "metadata": {},
   "outputs": [],
   "source": [
    "%run ../tasking_manager_stats/data_management\n",
    "%run ../tasking_manager_stats/map_tools"
   ]
  },
  {
   "cell_type": "code",
   "execution_count": null,
   "metadata": {},
   "outputs": [],
   "source": [
    "# Read the merged raw data of several projects\n",
    "df = pd.read_csv(os.path.join(get_data_dir(), 'merged_stats.csv'), encoding='ISO-8859-1')\n",
    "print(f'{len(df)} lines')\n",
    "df.head()"
   ]
  },
  {
   "cell_type": "code",
   "execution_count": null,
   "metadata": {},
   "outputs": [],
   "source": [
    "'Jean-Yves Longchamp' in df['Author'].unique()"
   ]
  },
  {
   "cell_type": "code",
   "execution_count": null,
   "metadata": {},
   "outputs": [],
   "source": [
    "'JYL45' in df['Author'].unique()"
   ]
  },
  {
   "cell_type": "code",
   "execution_count": null,
   "metadata": {},
   "outputs": [],
   "source": [
    "# Replace Jean-Yves Longchamp by new user name\n",
    "df['Author'] = df['Author'].apply(lambda author: 'JYL45' if author =='Jean-Yves Longchamp' else author)\n",
    "'Jean-Yves Longchamp' in df['Author'].unique()"
   ]
  },
  {
   "cell_type": "code",
   "execution_count": null,
   "metadata": {},
   "outputs": [],
   "source": [
    "# Filter on validation in 2019\n",
    "df2 = df[df['Type'] == 'VALIDATION']\n",
    "df2 = df2[df2['Year'] == 2019]\n",
    "print(f'{len(df2)} lines')\n",
    "df2.head()"
   ]
  },
  {
   "cell_type": "code",
   "execution_count": null,
   "metadata": {},
   "outputs": [],
   "source": [
    "# Keep only one validation by author and task\n",
    "df3 = df2.groupby(['Project', 'Task', 'Year', 'Month', 'Day', 'Rel. Day', 'Author']).max()\n",
    "df3 = df3.reset_index()\n",
    "print(f'{len(df3)} lines')\n",
    "df3.head()"
   ]
  },
  {
   "cell_type": "code",
   "execution_count": null,
   "metadata": {},
   "outputs": [],
   "source": [
    "# Count the number of tasks by day and author\n",
    "df4 = df3.groupby(['Author', 'Year', 'Month', 'Day']).count()\n",
    "df4 = df4['Task']\n",
    "df4 = df4.reset_index()\n",
    "print(f'{len(df4)} lines')\n",
    "df4.head()"
   ]
  },
  {
   "cell_type": "code",
   "execution_count": null,
   "metadata": {},
   "outputs": [],
   "source": [
    "# Add a column for the day of the year\n",
    "df4['Day_of_year'] = None\n",
    "for index, row in df4.iterrows():\n",
    "    df4.loc[index, 'Day_of_year'] = pd.datetime(row['Year'], row['Month'], row['Day']).timetuple().tm_yday\n",
    "df4 = df4[['Author', 'Day_of_year', 'Task']]\n",
    "print(f'{len(df4)} lines')\n",
    "df4.head()"
   ]
  },
  {
   "cell_type": "code",
   "execution_count": null,
   "metadata": {},
   "outputs": [],
   "source": [
    "# Add 0 task validated on all the days\n",
    "for author in df4['Author'].unique():\n",
    "    for day in range(1, max(df4['Day_of_year']) + 1):\n",
    "        df4 = pd.concat([df4, pd.DataFrame(data=[(author, day, 0)], columns=['Author', 'Day_of_year', 'Task'])],\n",
    "                        axis=0, ignore_index=True)\n",
    "print(f'{len(df4)} lines')\n",
    "df4.tail()"
   ]
  },
  {
   "cell_type": "code",
   "execution_count": null,
   "metadata": {},
   "outputs": [],
   "source": [
    "# Sum again the empty lines with existing ones to have a line for a day and an author\n",
    "df4 = df4.groupby(['Author', 'Day_of_year']).sum()\n",
    "df4 = df4.reset_index()\n",
    "print(f'{len(df4)} lines')\n",
    "df4.head()"
   ]
  },
  {
   "cell_type": "code",
   "execution_count": null,
   "metadata": {},
   "outputs": [],
   "source": [
    "# Check the number\n",
    "len(df4['Author'].unique()) * max(df4['Day_of_year'])"
   ]
  },
  {
   "cell_type": "code",
   "execution_count": null,
   "metadata": {},
   "outputs": [],
   "source": [
    "# Add a cumsum column named value\n",
    "df5 = df4.copy()\n",
    "df5['value'] = None\n",
    "for author in df5['Author'].unique():\n",
    "    df_author = df5.loc[df5['Author'] == author,]\n",
    "    df5.loc[df_author.index, 'value'] = df_author['Task'].cumsum()\n",
    "print(f'{len(df5)} lines')\n",
    "df5[df5['Author'] == 'Anaximandre'].head(10)"
   ]
  },
  {
   "cell_type": "code",
   "execution_count": null,
   "metadata": {},
   "outputs": [],
   "source": [
    "# Rename and extract useful columns\n",
    "df6 = df5.rename(index=int, columns={'Author' : 'name'})\n",
    "df6 = df6[['name', 'Day_of_year', 'value']]\n",
    "print(f'{len(df6)} lines')\n",
    "df6[df6['name'] == 'Anaximandre'].head()"
   ]
  },
  {
   "cell_type": "code",
   "execution_count": null,
   "metadata": {},
   "outputs": [],
   "source": [
    "fig, ax = plt.subplots(figsize=(15, 8))\n",
    "def draw_barchart(day_of_year):\n",
    "    top_nb = 10\n",
    "    dff = df6[df6['Day_of_year'].eq(day_of_year)].sort_values(by='value', ascending=True).tail(top_nb)\n",
    "    ax.clear()\n",
    "    ax.barh(np.arange(top_nb), dff['value']) # TODO color\n",
    "    dx = dff['value'].max() / 200\n",
    "    for i, (value, name) in enumerate(zip(dff['value'], dff['name'])):\n",
    "        ax.text(value-dx, i,     name,           size=14, weight=600, ha='right', va='bottom')\n",
    "        ax.text(value+dx, i,     f'{value:,.0f}',  size=14, ha='left',  va='center')\n",
    "    # ... polished styles\n",
    "    ax.text(1, 0.4, day_of_year, transform=ax.transAxes, color='#777777', size=46, ha='right', weight=800)\n",
    "    ax.text(0, 1.06, 'Validated tasks', transform=ax.transAxes, size=12, color='#777777')\n",
    "    ax.xaxis.set_major_formatter(ticker.StrMethodFormatter('{x:,.0f}'))\n",
    "    ax.xaxis.set_ticks_position('top')\n",
    "    ax.tick_params(axis='x', colors='#777777', labelsize=12)\n",
    "    ax.set_yticks([])\n",
    "    ax.margins(0, 0.01)\n",
    "    ax.grid(which='major', axis='x', linestyle='-')\n",
    "    ax.set_axisbelow(True)\n",
    "    ax.text(0, 1.12, 'Number of validated tasks on CartONG project in S1 2019',\n",
    "            transform=ax.transAxes, size=24, weight=600, ha='left')\n",
    "    ax.text(1, 0, 'by CartONG credit @pratapvardhan, @jburnmurdoch', transform=ax.transAxes, ha='right',\n",
    "            color='#777777', bbox=dict(facecolor='white', alpha=0.8, edgecolor='white'))\n",
    "    plt.box(False)\n",
    "    \n",
    "draw_barchart(150)"
   ]
  },
  {
   "cell_type": "code",
   "execution_count": null,
   "metadata": {
    "collapsed": true
   },
   "outputs": [],
   "source": [
    "from random import seed\n",
    "random.seed(3)"
   ]
  },
  {
   "cell_type": "code",
   "execution_count": null,
   "metadata": {
    "collapsed": true
   },
   "outputs": [],
   "source": [
    "# Use color from https://medium.com/@6berardi/how-to-create-a-smooth-bar-chart-race-with-python-ad2daf6510dc\n",
    "from random import randint\n",
    "import matplotlib.colors as mc\n",
    "import colorsys\n",
    "def transform_color(color, amount = 0.5):\n",
    "\n",
    "    try:\n",
    "        c = mc.cnames[color]\n",
    "    except:\n",
    "        c = color\n",
    "        c = colorsys.rgb_to_hls(*mc.to_rgb(c))\n",
    "    return colorsys.hls_to_rgb(c[0], 1 - amount * (1 - c[1]), c[2])\n",
    "\n",
    "all_names = df6['name'].unique().tolist()\n",
    "random_hex_colors = []\n",
    "for i in range(len(all_names)):\n",
    "    random_hex_colors.append('#' + '%06X' % randint(0, 0xFFFFFF))\n",
    "\n",
    "rgb_colors = [transform_color(i, 1) for i in random_hex_colors]\n",
    "rgb_colors_opacity = [rgb_colors[x] + (0.825,) for x in range(len(rgb_colors))]\n",
    "rgb_colors_dark = [transform_color(i, 1.12) for i in random_hex_colors]\n",
    "normal_colors = dict(zip(df6['name'].unique(), rgb_colors_opacity))\n",
    "dark_colors = dict(zip(df6['name'].unique(), rgb_colors_dark))"
   ]
  },
  {
   "cell_type": "code",
   "execution_count": null,
   "metadata": {},
   "outputs": [],
   "source": [
    "# Add additionnal column to choose initial top\n",
    "df6['initial_ranking'] = 0\n",
    "for name in df6['name'].unique():\n",
    "    if df6[(df6['name'] == name) & (df6['Day_of_year'] == 20)]['value'].sum() > 0:\n",
    "        df6.loc[df6['name'] == name, 'initial_ranking'] = 1\n",
    "print(f'{len(df6)} lines')\n",
    "df6[df6['name'] == 'Anaximandre'].head()"
   ]
  },
  {
   "cell_type": "code",
   "execution_count": null,
   "metadata": {},
   "outputs": [],
   "source": [
    "fig, ax = plt.subplots(figsize=(15, 8))\n",
    "def draw_barchart(day_of_year):\n",
    "    top_nb = 10\n",
    "    dff = df6[df6['Day_of_year'].eq(day_of_year)].sort_values(by=['value', 'initial_ranking'], ascending=True).tail(top_nb)\n",
    "    total_task_nb = df6[df6['Day_of_year'].eq(day_of_year)]['value'].sum()\n",
    "    ax.clear()    \n",
    "    ax.barh(np.arange(top_nb), dff['value'], color = [normal_colors[x] for x in dff['name']], height = 0.8,\n",
    "            edgecolor =([dark_colors[x] for x in dff['name']]), linewidth = '3')\n",
    "    dx = dff['value'].max() / 200\n",
    "    for i, (value, name) in enumerate(zip(dff['value'], dff['name'])):\n",
    "        ax.text(value-dx, i,     name,           size=14, weight=600, ha='right', va='bottom')\n",
    "        ax.text(value+dx, i,     value,  size=14, ha='left',  va='center')\n",
    "    # ... polished styles\n",
    "    date = (datetime.datetime(2019, 1, 1) + datetime.timedelta(day_of_year - 1)).strftime('%B %d')\n",
    "    ax.text(1, 0.4, date, transform=ax.transAxes, color='#777777', size=46, ha='right', weight=800)\n",
    "    ax.text(0, 1.06, 'Validated tasks', transform=ax.transAxes, size=12, color='#777777')\n",
    "    ax.xaxis.set_major_formatter(ticker.StrMethodFormatter('{x:.0f}'))\n",
    "    ax.xaxis.set_ticks_position('top')\n",
    "    ax.tick_params(axis='x', colors='#777777', labelsize=12)\n",
    "    ax.set_yticks([])\n",
    "    ax.margins(0, 0.01)\n",
    "    ax.grid(which='major', axis='x', linestyle='-')\n",
    "    ax.set_axisbelow(True)\n",
    "    ax.text(0, 1.12, f'Number of validated tasks on CartONG project in S1 2019 (total {total_task_nb} tasks)',\n",
    "            transform=ax.transAxes, size=24, weight=600, ha='left')\n",
    "    ax.text(1, 0, 'by CartONG credit @pratapvardhan, @jburnmurdoch', transform=ax.transAxes, ha='right',\n",
    "            color='#777777', bbox=dict(facecolor='white', alpha=0.8, edgecolor='white'))\n",
    "    plt.box(False)\n",
    "    \n",
    "draw_barchart(150)"
   ]
  },
  {
   "cell_type": "code",
   "execution_count": null,
   "metadata": {},
   "outputs": [],
   "source": [
    "# Put logarithms\n",
    "fig, ax = plt.subplots(figsize=(15, 8))\n",
    "def draw_barchart(day_of_year):\n",
    "    top_nb = 10\n",
    "    dff = df6[df6['Day_of_year'].eq(day_of_year)].sort_values(by=['value', 'initial_ranking'], ascending=True).tail(top_nb)\n",
    "    total_task_nb = df6[df6['Day_of_year'].eq(day_of_year)]['value'].sum()\n",
    "    ax.clear()    \n",
    "    ax.barh(np.arange(top_nb), dff['value'], color = [normal_colors[x] for x in dff['name']], height = 0.8,\n",
    "            edgecolor =([dark_colors[x] for x in dff['name']]), linewidth = '3', log=True)\n",
    "    # Add ('', 0) in ax.barh ?\n",
    "    dx = np.log(dff['value'].max() - dff['value'].min()) / np.log(200)\n",
    "    for i, (value, name) in enumerate(zip(dff['value'], dff['name'])):\n",
    "        ax.text(value*.95, i,     name,           size=14, weight=600, ha='right', va='center')\n",
    "        ax.text(value*1.05, i,     value,  size=14, ha='left',  va='center')\n",
    "    # ... polished styles\n",
    "    date = (datetime.datetime(2019, 1, 1) + datetime.timedelta(day_of_year - 1)).strftime('%B %d')\n",
    "    ax.text(1, 0.4, date, transform=ax.transAxes, color='#777777', size=46, ha='right', weight=800)\n",
    "    ax.text(0, 1.06, 'Validated tasks', transform=ax.transAxes, size=12, color='#777777')\n",
    "    ax.xaxis.set_major_formatter(ticker.StrMethodFormatter('{x:.0f}'))\n",
    "    ax.xaxis.set_ticks_position('top')\n",
    "    ax.tick_params(axis='x', colors='#777777', labelsize=12)\n",
    "    ax.set_yticks([])\n",
    "    ax.grid(which='major', axis='x', linestyle='-')\n",
    "    ax.set_axisbelow(True)\n",
    "    ax.text(0, 1.12, f'Number of validated tasks on CartONG project in S1 2019 (total {total_task_nb} tasks)',\n",
    "            transform=ax.transAxes, size=24, weight=600, ha='left')\n",
    "    ax.text(1, 0, 'by CartONG credit @pratapvardhan, @jburnmurdoch', transform=ax.transAxes, ha='right',\n",
    "            color='#777777', bbox=dict(facecolor='white', alpha=0.8, edgecolor='white'))\n",
    "    plt.box(False)\n",
    "    \n",
    "draw_barchart(150)"
   ]
  },
  {
   "cell_type": "code",
   "execution_count": null,
   "metadata": {
    "scrolled": false
   },
   "outputs": [],
   "source": [
    "import matplotlib.animation as animation\n",
    "from IPython.display import HTML\n",
    "fig, ax = plt.subplots(figsize=(17, 10))\n",
    "animator = animation.FuncAnimation(fig, draw_barchart, frames=range(5, 10))\n",
    "HTML(animator.to_jshtml())"
   ]
  },
  {
   "cell_type": "code",
   "execution_count": null,
   "metadata": {
    "collapsed": true
   },
   "outputs": [],
   "source": [
    "import matplotlib.animation as animation\n",
    "from IPython.display import HTML\n",
    "fig, ax = plt.subplots(figsize=(17, 10))\n",
    "animator = animation.FuncAnimation(fig, draw_barchart, frames=range(1, max(df6['Day_of_year'])))\n",
    "HTML(animator.to_jshtml())"
   ]
  },
  {
   "cell_type": "code",
   "execution_count": null,
   "metadata": {
    "collapsed": true
   },
   "outputs": [],
   "source": [
    "import matplotlib.animation as animation\n",
    "from IPython.display import HTML\n",
    "fig, ax = plt.subplots(figsize=(17, 10))\n",
    "animator = animation.FuncAnimation(fig, draw_barchart, frames=range(1, max(df6['Day_of_year'])))\n",
    "animator.save('validator_s1_2019.mp4', fps=3)"
   ]
  },
  {
   "cell_type": "markdown",
   "metadata": {},
   "source": [
    "# Time spent by project"
   ]
  },
  {
   "cell_type": "code",
   "execution_count": null,
   "metadata": {},
   "outputs": [],
   "source": [
    "print(f'{len(df)} lines')\n",
    "df.head()"
   ]
  },
  {
   "cell_type": "code",
   "execution_count": null,
   "metadata": {},
   "outputs": [],
   "source": [
    "# Group spent time by Project and day\n",
    "df2 = df.groupby(['Project', 'Year', 'Month', 'Day']).sum()\n",
    "df2 = df2['Duration']\n",
    "df2 = df2.reset_index()\n",
    "print(f'{len(df2)} lines')\n",
    "df2.head()"
   ]
  },
  {
   "cell_type": "code",
   "execution_count": null,
   "metadata": {},
   "outputs": [],
   "source": [
    "# Add a column for the day of the year\n",
    "df2['Day_of_year'] = None\n",
    "for index, row in df2.iterrows():\n",
    "    if row['Year'] < 2019:\n",
    "        df2.loc[index, 'Day_of_year'] = 0\n",
    "    else:\n",
    "        df2.loc[index, 'Day_of_year'] = pd.datetime(row['Year'], row['Month'], row['Day']).timetuple().tm_yday\n",
    "df2 = df2[['Project', 'Day_of_year', 'Duration']]\n",
    "print(f'{len(df2)} lines')\n",
    "df2.head()"
   ]
  },
  {
   "cell_type": "code",
   "execution_count": null,
   "metadata": {
    "collapsed": true
   },
   "outputs": [],
   "source": [
    "# Restrict to a number of days\n",
    "MAX_DAY = 366\n",
    "df2 = df2[df2['Day_of_year'] <= MAX_DAY]"
   ]
  },
  {
   "cell_type": "code",
   "execution_count": null,
   "metadata": {},
   "outputs": [],
   "source": [
    "# Add 0 duration on all the days\n",
    "for project in df2['Project'].unique():\n",
    "    for day in range(0, MAX_DAY):\n",
    "        df2 = pd.concat([df2, pd.DataFrame(data=[(project, day, 0)], columns=['Project', 'Day_of_year', 'Duration'])],\n",
    "                        axis=0, ignore_index=True)\n",
    "print(f'{len(df2)} lines')\n",
    "df2.tail()"
   ]
  },
  {
   "cell_type": "code",
   "execution_count": null,
   "metadata": {},
   "outputs": [],
   "source": [
    "# Sum again the empty lines with existing ones to have a line for a day and a project\n",
    "df3 = df2.groupby(['Project', 'Day_of_year']).sum()\n",
    "df3 = df3.reset_index()\n",
    "print(f'{len(df3)} lines')\n",
    "df3.head()"
   ]
  },
  {
   "cell_type": "code",
   "execution_count": null,
   "metadata": {},
   "outputs": [],
   "source": [
    "# Check if there are projects with no contribution\n",
    "temp_df = df3.groupby('Project').sum() - df3[df3['Day_of_year'] == 0].set_index('Project')\n",
    "temp_df[temp_df['Duration'] == 0]"
   ]
  },
  {
   "cell_type": "code",
   "execution_count": null,
   "metadata": {
    "collapsed": true
   },
   "outputs": [],
   "source": [
    "# Remove projects with no contribution\n",
    "df3 = df3[df3['Project'].apply(lambda project: project not in temp_df[temp_df['Duration'] == 0].index)]"
   ]
  },
  {
   "cell_type": "code",
   "execution_count": null,
   "metadata": {},
   "outputs": [],
   "source": [
    "# Check the number of lines\n",
    "len(df3['Project'].unique()) * MAX_DAY"
   ]
  },
  {
   "cell_type": "code",
   "execution_count": null,
   "metadata": {},
   "outputs": [],
   "source": [
    "# Add a cumsum column named value\n",
    "df4 = df3.copy()\n",
    "df4['value'] = None\n",
    "for project in df4['Project'].unique():\n",
    "    df_project = df4.loc[df4['Project'] == project,]\n",
    "    df4.loc[df_project.index, 'value'] = df_project['Duration'].cumsum()\n",
    "print(f'{len(df4)} lines')\n",
    "df4.head(10)"
   ]
  },
  {
   "cell_type": "code",
   "execution_count": null,
   "metadata": {},
   "outputs": [],
   "source": [
    "# Add country data\n",
    "df_countries = pd.read_csv(os.path.join(get_data_dir(), 'Mapathons_countries.csv'), encoding='ISO-8859-1')\n",
    "df_countries['Country'] = df_countries['Country'].apply(lambda s: s.replace(' ', ''))\n",
    "df_countries = df_countries.drop_duplicates()\n",
    "# Africa :  http://www.actualite-ouest-africaine.org/content/fr/les-six-r%C3%A9gions-de-l%E2%80%99union-africaine\n",
    "df_countries.loc[df_countries['Country'].isin(['Algérie']), 'Group'] = 'North Africa'\n",
    "df_countries.loc[df_countries['Country'].isin(['BurkinaFaso', 'Niger', 'Sénégal', 'Mali', 'Nigeria']), 'Group'] = 'West Africa'\n",
    "df_countries.loc[df_countries['Country'].isin(['Angola', 'AfriqueduSud', 'Zimbabwe', 'Malawi', 'Zambie', 'Mozambique']), 'Group'] = 'South Africa'\n",
    "df_countries.loc[df_countries['Country'].isin(['Kenya', 'Madagascar', 'Tanzanie', 'Ethiopie', 'Ouganda', 'Uganda', 'Soudan', 'SudSoudan']), 'Group'] = 'Est Africa'\n",
    "df_countries.loc[df_countries['Country'].isin(['RDC', 'Cameroun', 'Tchad', 'Kalémie', 'Congo']), 'Group'] = 'Central Africa'\n",
    "# Other continents\n",
    "df_countries.loc[df_countries['Country'].isin(['Népal', 'Birmanie', 'Bangladesh', 'Kirghizistan', 'Laos', 'Irak']), 'Group'] = 'Asia'\n",
    "df_countries.loc[df_countries['Country'].isin(['Guyane', 'Equateur']), 'Group'] = 'South America'\n",
    "df_countries.loc[df_countries['Country'].isin(['Haiti']), 'Group'] = 'Central America'\n",
    "df_countries.head()"
   ]
  },
  {
   "cell_type": "code",
   "execution_count": null,
   "metadata": {},
   "outputs": [],
   "source": [
    "df_countries[pd.isnull(df_countries['Group'])]"
   ]
  },
  {
   "cell_type": "code",
   "execution_count": null,
   "metadata": {},
   "outputs": [],
   "source": [
    "len(df4)"
   ]
  },
  {
   "cell_type": "code",
   "execution_count": null,
   "metadata": {},
   "outputs": [],
   "source": [
    "# Project without county (normal to have 5848, it is MSF not CartONG)\n",
    "idx = [df4['Project'].unique()[i] not in df_countries['Project'].unique() for i in range(len(df4['Project'].unique()))]\n",
    "df4['Project'].unique()[idx]"
   ]
  },
  {
   "cell_type": "code",
   "execution_count": null,
   "metadata": {},
   "outputs": [],
   "source": [
    "# Merge country\n",
    "df5 = pd.merge(df4, df_countries, on='Project')\n",
    "print(f'{len(df5)} lines')\n",
    "df5.head()"
   ]
  },
  {
   "cell_type": "code",
   "execution_count": null,
   "metadata": {},
   "outputs": [],
   "source": [
    "# Rename, reformat extract useful columns\n",
    "df6 = df5.rename(index=int, columns={'Project' : 'name'})\n",
    "df6 = df6[['name', 'Day_of_year', 'value', 'Country', 'Group']]\n",
    "df6['name'] = df6['name'].apply(str)\n",
    "df6['value'] = df6['value'] / 3600\n",
    "print(f'{len(df6)} lines')\n",
    "df6.head()"
   ]
  },
  {
   "cell_type": "code",
   "execution_count": null,
   "metadata": {},
   "outputs": [],
   "source": [
    "df6['Group'].unique()"
   ]
  },
  {
   "cell_type": "code",
   "execution_count": null,
   "metadata": {
    "collapsed": true
   },
   "outputs": [],
   "source": [
    "colors = dict(zip(\n",
    "    ['Central America', 'South America', 'Asia', 'Est Africa',\n",
    "     'West Africa', 'Central Africa', 'North Africa'],\n",
    "    ['#adb0ff', '#ffb3ff', '#90d595', '#e48381',\n",
    "     '#aafbff', '#f7bb5f', '#eafb50']\n",
    "))"
   ]
  },
  {
   "cell_type": "code",
   "execution_count": null,
   "metadata": {},
   "outputs": [],
   "source": [
    "df6[df6['name'] == '5571']"
   ]
  },
  {
   "cell_type": "code",
   "execution_count": null,
   "metadata": {},
   "outputs": [],
   "source": [
    "fig, ax = plt.subplots(figsize=(15, 8))\n",
    "def draw_barchart(day_of_year):\n",
    "    top_nb = 10\n",
    "    dff = df6[df6['Day_of_year'].eq(day_of_year)].sort_values(by='value', ascending=True).tail(top_nb)\n",
    "    total_hour = df6[df6['Day_of_year'].eq(day_of_year)]['value'].sum()\n",
    "    ax.clear()    \n",
    "    ax.barh(np.arange(top_nb), dff['value'], color=[colors[x] for x in dff['Group']])\n",
    "    dx = dff['value'].max() / 200\n",
    "    for i, (value, name, country, group) in enumerate(zip(dff['value'], dff['name'], dff['Country'], dff ['Group'])):\n",
    "        ax.text(value-dx, i,     name,           size=14, weight=600, ha='right', va='bottom')\n",
    "        ax.text(value+dx, i,      f'{value:.1f}',  size=14, ha='left',  va='center')\n",
    "        ax.text(value-dx, i-.25, country + ' ( ' + group + ' )', size=10, color='#444444', ha='right', va='baseline')\n",
    "    # ... polished styles\n",
    "    date = (datetime.datetime(2019, 1, 1) + datetime.timedelta(day_of_year - 1)).strftime('%B %d')\n",
    "    ax.text(1, 0.4, date, transform=ax.transAxes, color='#777777', size=46, ha='right', weight=800)\n",
    "    ax.text(0, 1.06, 'Time spend (hours)', transform=ax.transAxes, size=12, color='#777777')\n",
    "    ax.xaxis.set_major_formatter(ticker.StrMethodFormatter('{x:.0f}'))\n",
    "    ax.xaxis.set_ticks_position('top')\n",
    "    ax.tick_params(axis='x', colors='#777777', labelsize=12)\n",
    "    ax.set_yticks([])\n",
    "    ax.margins(0, 0.01)\n",
    "    ax.grid(which='major', axis='x', linestyle='-')\n",
    "    ax.set_axisbelow(True)\n",
    "    ax.text(0, 1.12, f'Hours spent on CartONG projects finished in S1 2019 (total : {total_hour:.0f}h)',\n",
    "            transform=ax.transAxes, size=24, weight=600, ha='left')\n",
    "    ax.text(1, 0, 'by CartONG credit @pratapvardhan, @jburnmurdoch', transform=ax.transAxes, ha='right',\n",
    "            color='#777777', bbox=dict(facecolor='white', alpha=0.8, edgecolor='white'))\n",
    "    plt.box(False)\n",
    "    \n",
    "draw_barchart(150)"
   ]
  },
  {
   "cell_type": "code",
   "execution_count": null,
   "metadata": {
    "collapsed": true
   },
   "outputs": [],
   "source": [
    "import matplotlib.animation as animation\n",
    "from IPython.display import HTML\n",
    "fig, ax = plt.subplots(figsize=(16, 9))\n",
    "animator = animation.FuncAnimation(fig, draw_barchart, frames=range(1, max(df6['Day_of_year'])))\n",
    "HTML(animator.to_jshtml())"
   ]
  },
  {
   "cell_type": "code",
   "execution_count": null,
   "metadata": {
    "collapsed": true
   },
   "outputs": [],
   "source": [
    "import matplotlib.animation as animation\n",
    "from IPython.display import HTML\n",
    "fig, ax = plt.subplots(figsize=(16, 9))\n",
    "animator = animation.FuncAnimation(fig, draw_barchart, frames=range(1, max(df6['Day_of_year'])))\n",
    "animator.save('time_spent_s1_2019.mp4', fps=3)"
   ]
  },
  {
   "cell_type": "markdown",
   "metadata": {},
   "source": [
    "### Mapping and validation"
   ]
  },
  {
   "cell_type": "code",
   "execution_count": null,
   "metadata": {},
   "outputs": [],
   "source": [
    "df.head()"
   ]
  },
  {
   "cell_type": "code",
   "execution_count": null,
   "metadata": {},
   "outputs": [],
   "source": [
    "# Group spent time by Project and day\n",
    "df2 = df.groupby(['Project', 'Year', 'Month', 'Day', 'Type']).sum()\n",
    "df2 = df2['Duration']\n",
    "df2 = df2.reset_index()\n",
    "print(f'{len(df2)} lines')\n",
    "df2.head()"
   ]
  },
  {
   "cell_type": "code",
   "execution_count": null,
   "metadata": {},
   "outputs": [],
   "source": [
    "# Add a column for the day of the year\n",
    "df2['Day_of_year'] = None\n",
    "for index, row in df2.iterrows():\n",
    "    if row['Year'] < 2019:\n",
    "        df2.loc[index, 'Day_of_year'] = 0\n",
    "    else:\n",
    "        df2.loc[index, 'Day_of_year'] = pd.datetime(row['Year'], row['Month'], row['Day']).timetuple().tm_yday\n",
    "df2 = df2[['Project', 'Type', 'Day_of_year', 'Duration']]\n",
    "print(f'{len(df2)} lines')\n",
    "df2.head()"
   ]
  },
  {
   "cell_type": "code",
   "execution_count": null,
   "metadata": {
    "collapsed": true
   },
   "outputs": [],
   "source": [
    "# Restrict to a number of days\n",
    "MAX_DAY = 366\n",
    "df2 = df2[df2['Day_of_year'] <= MAX_DAY]"
   ]
  },
  {
   "cell_type": "code",
   "execution_count": null,
   "metadata": {},
   "outputs": [],
   "source": [
    "# Add 0 duration on all the days\n",
    "for project in df2['Project'].unique():\n",
    "    for day in range(0, MAX_DAY):\n",
    "        df2 = pd.concat([df2, pd.DataFrame(data=[(project, 'MAPPING', day, 0)],\n",
    "                                           columns=['Project', 'Type', 'Day_of_year', 'Duration'])],\n",
    "                        axis=0, ignore_index=True)\n",
    "        df2 = pd.concat([df2, pd.DataFrame(data=[(project, 'VALIDATION', day, 0)],\n",
    "                                           columns=['Project', 'Type', 'Day_of_year', 'Duration'])],\n",
    "                        axis=0, ignore_index=True)\n",
    "print(f'{len(df2)} lines')\n",
    "df2.tail()"
   ]
  },
  {
   "cell_type": "code",
   "execution_count": null,
   "metadata": {},
   "outputs": [],
   "source": [
    "# Sum again the empty lines with existing ones to have a line for a day and a project\n",
    "df3 = df2.groupby(['Project', 'Type', 'Day_of_year']).sum()\n",
    "df3 = df3.reset_index()\n",
    "print(f'{len(df3)} lines')\n",
    "df3.head()"
   ]
  },
  {
   "cell_type": "code",
   "execution_count": null,
   "metadata": {},
   "outputs": [],
   "source": [
    "# Check if there are projects with no contribution\n",
    "temp_df = df3.groupby('Project').sum() - df3[df3['Day_of_year'] == 0].set_index('Project')\n",
    "temp_df[temp_df['Duration'] == 0]"
   ]
  },
  {
   "cell_type": "code",
   "execution_count": null,
   "metadata": {
    "collapsed": true
   },
   "outputs": [],
   "source": [
    "# Remove projects with no contribution\n",
    "df3 = df3[df3['Project'].apply(lambda project: project not in temp_df[temp_df['Duration'] == 0].index)]"
   ]
  },
  {
   "cell_type": "code",
   "execution_count": null,
   "metadata": {},
   "outputs": [],
   "source": [
    "# Check the number of lines\n",
    "len(df3['Project'].unique()) * MAX_DAY * 2"
   ]
  },
  {
   "cell_type": "code",
   "execution_count": null,
   "metadata": {},
   "outputs": [],
   "source": [
    "# Add country data\n",
    "df_countries = pd.read_csv(os.path.join(get_data_dir(), 'Mapathons_countries.csv'), encoding='ISO-8859-1')\n",
    "df_countries['Country'] = df_countries['Country'].apply(lambda s: s.replace(' ', ''))\n",
    "df_countries = df_countries.drop_duplicates()\n",
    "# Africa :  http://www.actualite-ouest-africaine.org/content/fr/les-six-r%C3%A9gions-de-l%E2%80%99union-africaine\n",
    "df_countries.loc[df_countries['Country'].isin(['Algérie']), 'Group'] = 'North Africa'\n",
    "df_countries.loc[df_countries['Country'].isin(['BurkinaFaso', 'Niger', 'Sénégal', 'Mali', 'Nigeria']), 'Group'] = 'West Africa'\n",
    "df_countries.loc[df_countries['Country'].isin(['Angola', 'AfriqueduSud', 'Zimbabwe', 'Malawi', 'Zambie', 'Mozambique']), 'Group'] = 'South Africa'\n",
    "df_countries.loc[df_countries['Country'].isin(['Kenya', 'Madagascar', 'Tanzanie', 'Ethiopie', 'Ouganda', 'Uganda', 'Soudan', 'SudSoudan']), 'Group'] = 'Est Africa'\n",
    "df_countries.loc[df_countries['Country'].isin(['RDC', 'Cameroun', 'Tchad', 'Kalémie', 'Congo']), 'Group'] = 'Central Africa'\n",
    "# Other continents\n",
    "df_countries.loc[df_countries['Country'].isin(['Népal', 'Birmanie', 'Bangladesh', 'Kirghizistan', 'Laos', 'Irak']), 'Group'] = 'Asia'\n",
    "df_countries.loc[df_countries['Country'].isin(['Guyane', 'Equateur']), 'Group'] = 'South America'\n",
    "df_countries.loc[df_countries['Country'].isin(['Haiti']), 'Group'] = 'Central America'\n",
    "df_countries.head()"
   ]
  },
  {
   "cell_type": "code",
   "execution_count": null,
   "metadata": {},
   "outputs": [],
   "source": [
    "df_countries[pd.isnull(df_countries['Group'])]"
   ]
  },
  {
   "cell_type": "code",
   "execution_count": null,
   "metadata": {},
   "outputs": [],
   "source": [
    "len(df3)"
   ]
  },
  {
   "cell_type": "code",
   "execution_count": null,
   "metadata": {},
   "outputs": [],
   "source": [
    "# Project without county (normal to have 5848, it is MSF not CartONG)\n",
    "idx = [df3['Project'].unique()[i] not in df_countries['Project'].unique() for i in range(len(df3['Project'].unique()))]\n",
    "df3['Project'].unique()[idx]"
   ]
  },
  {
   "cell_type": "code",
   "execution_count": null,
   "metadata": {},
   "outputs": [],
   "source": [
    "# Merge country\n",
    "df4 = pd.merge(df3, df_countries, on='Project')\n",
    "print(f'{len(df4)} lines')\n",
    "df4.head()"
   ]
  },
  {
   "cell_type": "code",
   "execution_count": null,
   "metadata": {
    "collapsed": true
   },
   "outputs": [],
   "source": [
    "colors = dict(zip(\n",
    "    ['Central America', 'South America', 'Asia', 'Est Africa',\n",
    "     'West Africa', 'Central Africa', 'North Africa'],\n",
    "    ['#adb0ff', '#ffb3ff', '#90d595', '#e48381',\n",
    "     '#aafbff', '#f7bb5f', '#eafb50']\n",
    "))"
   ]
  },
  {
   "cell_type": "code",
   "execution_count": null,
   "metadata": {
    "collapsed": true
   },
   "outputs": [],
   "source": [
    "# Split in mapping and validation\n",
    "df_map = df4[df4['Type'] == 'MAPPING']\n",
    "df_val = df4[df4['Type'] == 'VALIDATION']"
   ]
  },
  {
   "cell_type": "code",
   "execution_count": null,
   "metadata": {
    "collapsed": true
   },
   "outputs": [],
   "source": [
    "def create_df_with_cumsum(df):\n",
    "    res = df.copy()\n",
    "    res['value'] = None\n",
    "    for project in res['Project'].unique():\n",
    "        df_project = res.loc[res['Project'] == project,]\n",
    "        res.loc[df_project.index, 'value'] = df_project['Duration'].cumsum()\n",
    "    return res"
   ]
  },
  {
   "cell_type": "code",
   "execution_count": null,
   "metadata": {},
   "outputs": [],
   "source": [
    "# Add a cumsum column named value\n",
    "df_map2 = create_df_with_cumsum(df_map)\n",
    "print(f'{len(df_map2)} lines')\n",
    "df_map2.head()"
   ]
  },
  {
   "cell_type": "code",
   "execution_count": null,
   "metadata": {},
   "outputs": [],
   "source": [
    "# Add a cumsum column named value\n",
    "df_val2 = create_df_with_cumsum(df_val)\n",
    "print(f'{len(df_val2)} lines')\n",
    "df_val2.head()"
   ]
  },
  {
   "cell_type": "code",
   "execution_count": null,
   "metadata": {
    "collapsed": true
   },
   "outputs": [],
   "source": [
    "def reformat(df):\n",
    "    res = df.rename(index=int, columns={'Project' : 'name'})\n",
    "    res = res[['name', 'Day_of_year', 'Type', 'value', 'Country', 'Group']]\n",
    "    res['name'] = res['name'].apply(str)\n",
    "    res['value'] = res['value'] / 3600\n",
    "    return res"
   ]
  },
  {
   "cell_type": "code",
   "execution_count": null,
   "metadata": {},
   "outputs": [],
   "source": [
    "# Rename, reformat extract useful columns\n",
    "df_map3 = reformat(df_map2)\n",
    "print(f'{len(df_map3)} lines')\n",
    "df_map3.head()"
   ]
  },
  {
   "cell_type": "code",
   "execution_count": null,
   "metadata": {},
   "outputs": [],
   "source": [
    "# Rename, reformat extract useful columns\n",
    "df_val3 = reformat(df_val2)\n",
    "print(f'{len(df_val3)} lines')\n",
    "df_val3.head()"
   ]
  },
  {
   "cell_type": "markdown",
   "metadata": {},
   "source": [
    "### Filter on HCR projects"
   ]
  },
  {
   "cell_type": "code",
   "execution_count": null,
   "metadata": {},
   "outputs": [],
   "source": [
    "projects = [5847, 5861, 5889, 5890, 5891, 6067, 6068, 6069, 6070, 6072, 6174, 7249, 7390]\n",
    "len(projects)"
   ]
  },
  {
   "cell_type": "code",
   "execution_count": null,
   "metadata": {},
   "outputs": [],
   "source": [
    "df_map4 = df_map3[df_map3['name'].apply(lambda name: int(name) in projects)]\n",
    "print(f'{len(df_map4)} lines')\n",
    "df_map4.head()"
   ]
  },
  {
   "cell_type": "code",
   "execution_count": null,
   "metadata": {},
   "outputs": [],
   "source": [
    "df_val4 = df_val3[df_val3['name'].apply(lambda name: int(name) in projects)]\n",
    "print(f'{len(df_val4)} lines')\n",
    "df_val4.head()"
   ]
  },
  {
   "cell_type": "code",
   "execution_count": null,
   "metadata": {},
   "outputs": [],
   "source": [
    "(df_val4.set_index(['name', 'Day_of_year']) + df_map4.set_index(['name', 'Day_of_year']))['value']"
   ]
  },
  {
   "cell_type": "code",
   "execution_count": null,
   "metadata": {},
   "outputs": [],
   "source": [
    "fig, ax = plt.subplots(figsize=(16, 9))\n",
    "def draw_barchart(day_of_year):\n",
    "    top_nb = 10\n",
    "    df_map_day = df_map4[df_map4['Day_of_year'].eq(day_of_year)]\n",
    "    df_val_day = df_val4[df_val4['Day_of_year'].eq(day_of_year)]\n",
    "    df_total = (df_val_day.set_index(['name', 'Day_of_year']) + df_map_day.set_index(['name', 'Day_of_year']))['value'].reset_index()\n",
    "    df_total = df_total.sort_values(by='value', ascending=True).tail(top_nb)\n",
    "    df_map_day = df_map_day.set_index('name').loc[df_total['name']].reset_index()\n",
    "    df_val_day = df_val_day.set_index('name').loc[df_total['name']].reset_index()\n",
    "    total_hour = df_total['value'].sum()\n",
    "    ax.clear()\n",
    "    ax.barh(np.arange(10), df_map_day['value'], color='y')\n",
    "    ax.barh(np.arange(10), df_val_day['value'], left=df_map_day['value'].values, color='g')\n",
    "    dx = df_total['value'].max() / 200\n",
    "    for i, (value, name) in enumerate(zip(df_total['value'], df_total['name'])):\n",
    "        ax.text(value-dx, i,     name,           size=14, weight=600, ha='right', va='bottom')\n",
    "        ax.text(value+dx, i,      f'{value:.1f}',  size=14, ha='left',  va='center')\n",
    "    # ... polished styles\n",
    "    date = (datetime.datetime(2019, 1, 1) + datetime.timedelta(day_of_year - 1)).strftime('%B %d')\n",
    "    ax.text(1, 0.23, date, transform=ax.transAxes, color='#777777', size=46, ha='right', weight=800)\n",
    "    ax.text(0, 1.06, 'Time spend (hours) : mapping time in yellow, validation time in green',\n",
    "            transform=ax.transAxes, size=12, color='#777777')\n",
    "    ax.xaxis.set_major_formatter(ticker.StrMethodFormatter('{x:.0f}'))\n",
    "    ax.xaxis.set_ticks_position('top')\n",
    "    ax.tick_params(axis='x', colors='#777777', labelsize=12)\n",
    "    ax.set_yticks([])\n",
    "    ax.margins(0, 0.01)\n",
    "    ax.grid(which='major', axis='x', linestyle='-')\n",
    "    ax.set_axisbelow(True)\n",
    "    ax.text(0, 1.12, f'Hours spent on CartONG-HCR Missing Maps projects (total : {total_hour:.0f}h)',\n",
    "            transform=ax.transAxes, size=24, weight=600, ha='left')\n",
    "    ax.text(1, 0, 'by CartONG credit @pratapvardhan, @jburnmurdoch', transform=ax.transAxes, ha='right',\n",
    "            color='#777777', bbox=dict(facecolor='white', alpha=0.8, edgecolor='white'))\n",
    "    plt.box(False)\n",
    "    \n",
    "draw_barchart(150)"
   ]
  },
  {
   "cell_type": "code",
   "execution_count": null,
   "metadata": {
    "collapsed": true
   },
   "outputs": [],
   "source": [
    "os.makedirs('HCR', exist_ok=True)"
   ]
  },
  {
   "cell_type": "code",
   "execution_count": null,
   "metadata": {},
   "outputs": [],
   "source": [
    "for i in range(min(df_map4[df_map4['value'] > 0]['Day_of_year']), 366):\n",
    "    fig, ax = plt.subplots(figsize=(16, 9))\n",
    "    draw_barchart(int(i))\n",
    "    plt.savefig(f'HCR/{i}.png')\n",
    "    plt.close()\n",
    "    print(i)"
   ]
  },
  {
   "cell_type": "code",
   "execution_count": null,
   "metadata": {
    "collapsed": true
   },
   "outputs": [],
   "source": [
    "from random import seed\n",
    "random.seed(0)"
   ]
  },
  {
   "cell_type": "code",
   "execution_count": null,
   "metadata": {
    "collapsed": true
   },
   "outputs": [],
   "source": [
    "# Use color from https://medium.com/@6berardi/how-to-create-a-smooth-bar-chart-race-with-python-ad2daf6510dc\n",
    "from random import randint\n",
    "import matplotlib.colors as mc\n",
    "import colorsys\n",
    "def transform_color(color, amount = 0.5):\n",
    "\n",
    "    try:\n",
    "        c = mc.cnames[color]\n",
    "    except:\n",
    "        c = color\n",
    "        c = colorsys.rgb_to_hls(*mc.to_rgb(c))\n",
    "    return colorsys.hls_to_rgb(c[0], 1 - amount * (1 - c[1]), c[2])\n",
    "\n",
    "all_names = df_map4['name'].unique().tolist()\n",
    "random_hex_colors = []\n",
    "for i in range(len(all_names)):\n",
    "    random_hex_colors.append('#' + '%06X' % randint(0, 0xFFFFFF))\n",
    "\n",
    "rgb_colors = [transform_color(i, 1) for i in random_hex_colors]\n",
    "rgb_colors_opacity = [rgb_colors[x] + (0.825,) for x in range(len(rgb_colors))]\n",
    "rgb_colors_dark = [transform_color(i, 1.12) for i in random_hex_colors]\n",
    "normal_colors = dict(zip(df_map4['name'].unique(), rgb_colors_opacity))\n",
    "dark_colors = dict(zip(df_map4['name'].unique(), rgb_colors_dark))"
   ]
  },
  {
   "cell_type": "code",
   "execution_count": null,
   "metadata": {},
   "outputs": [],
   "source": [
    "fig, ax = plt.subplots(figsize=(16, 9))\n",
    "def draw_barchart2(day_of_year):\n",
    "    top_nb = 10\n",
    "    df_map_day = df_map4[df_map4['Day_of_year'].eq(day_of_year)]\n",
    "    df_val_day = df_val4[df_val4['Day_of_year'].eq(day_of_year)]\n",
    "    df_total = (df_val_day.set_index(['name', 'Day_of_year']) + df_map_day.set_index(['name', 'Day_of_year']))['value'].reset_index()\n",
    "    df_total = df_total.sort_values(by='value', ascending=True).tail(top_nb)\n",
    "    df_map_day = df_map_day.set_index('name').loc[df_total['name']].reset_index()\n",
    "    df_val_day = df_val_day.set_index('name').loc[df_total['name']].reset_index()\n",
    "    total_hour = df_total['value'].sum()\n",
    "    ax.clear()\n",
    "    ax.barh(np.arange(10) + .1, df_total['value'], height=.8, color = [normal_colors[x] for x in df_total['name']],\n",
    "            edgecolor =([dark_colors[x] for x in df_total['name']]), linewidth = '3')\n",
    "    ax.barh(np.arange(10) - .2, df_map_day['value'], height=.3, color='y')\n",
    "    ax.barh(np.arange(10) - .2, df_val_day['value'], height=.3, left=df_map_day['value'].values, color='g')\n",
    "    dx = df_total['value'].max() / 200\n",
    "    for i, (value, name) in enumerate(zip(df_total['value'], df_total['name'])):\n",
    "        ax.text(value-dx, i,     name,           size=14, weight=600, ha='right', va='bottom')\n",
    "        ax.text(value+dx, i,      f'{value:.1f}',  size=14, ha='left',  va='center')\n",
    "    # ... polished styles\n",
    "    date = (datetime.datetime(2019, 1, 1) + datetime.timedelta(day_of_year - 1)).strftime('%B %d')\n",
    "    ax.text(1, 0.23, date, transform=ax.transAxes, color='#777777', size=46, ha='right', weight=800)\n",
    "    ax.text(0, 1.06, 'Time spend (hours) : mapping time in yellow, validation time in green',\n",
    "            transform=ax.transAxes, size=12, color='#777777')\n",
    "    ax.xaxis.set_major_formatter(ticker.StrMethodFormatter('{x:.0f}'))\n",
    "    ax.xaxis.set_ticks_position('top')\n",
    "    ax.tick_params(axis='x', colors='#777777', labelsize=12)\n",
    "    ax.set_yticks([])\n",
    "    ax.margins(0, 0.01)\n",
    "    ax.grid(which='major', axis='x', linestyle='-')\n",
    "    ax.set_axisbelow(True)\n",
    "    ax.text(0, 1.12, f'Hours spent on CartONG-HCR Missing Maps projects (total : {total_hour:.0f}h)',\n",
    "            transform=ax.transAxes, size=24, weight=600, ha='left')\n",
    "    ax.text(1, 0, 'by CartONG credit @pratapvardhan, @jburnmurdoch', transform=ax.transAxes, ha='right',\n",
    "            color='#777777', bbox=dict(facecolor='white', alpha=0.8, edgecolor='white'))\n",
    "    plt.box(False)\n",
    "    \n",
    "draw_barchart2(350)"
   ]
  },
  {
   "cell_type": "code",
   "execution_count": null,
   "metadata": {},
   "outputs": [],
   "source": [
    "os.makedirs('HCR2', exist_ok=True)\n",
    "for i in range(min(df_map4[df_map4['value'] > 0]['Day_of_year']), 366):\n",
    "    fig, ax = plt.subplots(figsize=(16, 9))\n",
    "    draw_barchart2(int(i))\n",
    "    plt.savefig(f'HCR2/{i}.png')\n",
    "    plt.close()\n",
    "    print(i)"
   ]
  },
  {
   "cell_type": "code",
   "execution_count": null,
   "metadata": {
    "collapsed": true
   },
   "outputs": [],
   "source": [
    "names = {\n",
    "    7390: 'Maratane',\n",
    "    7249: 'Ifo',\n",
    "    6174: 'Kakuma I',\n",
    "    6072: 'Tabareybarey',\n",
    "    6070: 'Abala',\n",
    "    6069: 'Kakuma II-III',\n",
    "    6068: 'Kakuma IV',\n",
    "    6067: 'Kakuma I',\n",
    "    5891: 'Kebribeyah',\n",
    "    5890: 'MaiAini',\n",
    "    5889: 'Aysaita',\n",
    "    5861: 'Shimelba',\n",
    "    5847: 'Berhale'\n",
    "}"
   ]
  },
  {
   "cell_type": "code",
   "execution_count": null,
   "metadata": {},
   "outputs": [],
   "source": [
    "fig, ax = plt.subplots(figsize=(16, 9))\n",
    "def draw_barchart3(day_of_year):\n",
    "    top_nb = 10\n",
    "    df_map_day = df_map4[df_map4['Day_of_year'].eq(day_of_year)]\n",
    "    df_val_day = df_val4[df_val4['Day_of_year'].eq(day_of_year)]\n",
    "    df_total = (df_val_day.set_index(['name', 'Day_of_year']) + df_map_day.set_index(['name', 'Day_of_year']))['value'].reset_index()\n",
    "    df_total = df_total.sort_values(by='value', ascending=True).tail(top_nb)\n",
    "    df_map_day = df_map_day.set_index('name').loc[df_total['name']].reset_index()\n",
    "    df_val_day = df_val_day.set_index('name').loc[df_total['name']].reset_index()\n",
    "    total_hour = df_total['value'].sum()\n",
    "    ax.clear()\n",
    "    ax.barh(np.arange(10) + .1, df_total['value'], height=.8, color = [normal_colors[x] for x in df_total['name']],\n",
    "            edgecolor =([dark_colors[x] for x in df_total['name']]), linewidth = '3')\n",
    "    ax.barh(np.arange(10) - .2, df_map_day['value'], height=.3, color='y')\n",
    "    ax.barh(np.arange(10) - .2, df_val_day['value'], height=.3, left=df_map_day['value'].values, color='g')\n",
    "    dx = df_total['value'].max() / 200\n",
    "    for i, (value, name) in enumerate(zip(df_total['value'], df_total['name'])):\n",
    "        text = names[int(name)] + ' #' + name if value > max(df_total['value']) / 10 else name\n",
    "        ax.text(value-dx, i,      text,            size=14, weight=600, ha='right', va='bottom')\n",
    "        ax.text(value+dx, i,      f'{value:.1f}',  size=14, ha='left',  va='center')\n",
    "    # ... polished styles\n",
    "    date = (datetime.datetime(2019, 1, 1) + datetime.timedelta(day_of_year - 1)).strftime('%B %d')\n",
    "    ax.text(1, 0.23, date, transform=ax.transAxes, color='#777777', size=46, ha='right', weight=800)\n",
    "    ax.text(0, 1.06, 'Time spend (hours) : mapping time in yellow, validation time in green',\n",
    "            transform=ax.transAxes, size=12, color='#777777')\n",
    "    ax.xaxis.set_major_formatter(ticker.StrMethodFormatter('{x:.0f}'))\n",
    "    ax.xaxis.set_ticks_position('top')\n",
    "    ax.tick_params(axis='x', colors='#777777', labelsize=12)\n",
    "    ax.set_yticks([])\n",
    "    ax.margins(0, 0.01)\n",
    "    ax.grid(which='major', axis='x', linestyle='-')\n",
    "    ax.set_axisbelow(True)\n",
    "    ax.text(0, 1.12, f'Hours spent on CartONG-HCR Missing Maps projects (total : {total_hour:.0f}h)',\n",
    "            transform=ax.transAxes, size=24, weight=600, ha='left')\n",
    "    ax.text(1, 0, 'by CartONG credit @pratapvardhan, @jburnmurdoch', transform=ax.transAxes, ha='right',\n",
    "            color='#777777', bbox=dict(facecolor='white', alpha=0.8, edgecolor='white'))\n",
    "    plt.box(False)\n",
    "    \n",
    "draw_barchart3(350)"
   ]
  },
  {
   "cell_type": "code",
   "execution_count": null,
   "metadata": {},
   "outputs": [],
   "source": [
    "fig, ax = plt.subplots(figsize=(16, 9))\n",
    "draw_barchart3(150)"
   ]
  },
  {
   "cell_type": "code",
   "execution_count": null,
   "metadata": {},
   "outputs": [],
   "source": [
    "directory = 'HCR3'\n",
    "os.makedirs(directory, exist_ok=True)\n",
    "for i in range(min(df_map4[df_map4['value'] > 0]['Day_of_year']), 366):\n",
    "    fig, ax = plt.subplots(figsize=(16, 9))\n",
    "    draw_barchart3(int(i))\n",
    "    plt.savefig(directory + f'/{i}.png')\n",
    "    plt.close()\n",
    "    print(i)"
   ]
  },
  {
   "cell_type": "code",
   "execution_count": null,
   "metadata": {},
   "outputs": [],
   "source": [
    "mapathons = pd.read_csv(os.path.join('..', 'data', 'Mapathons_2020_02_08.csv'))\n",
    "mapathons.head()"
   ]
  },
  {
   "cell_type": "code",
   "execution_count": null,
   "metadata": {},
   "outputs": [],
   "source": [
    "mapathons.loc[mapathons['Date'] == '05/04/2019', 'Place'] = 'Nuit de la Géo'\n",
    "nb_city_nuit_geo = (mapathons['Date'] == '05/04/2019').sum()\n",
    "mapathons.loc[mapathons['Date'] == '05/04/2019', 'City'] = f'{nb_city_nuit_geo} villes'\n",
    "mapathons2 = mapathons[mapathons['Requesting NGO (project)'] == 'UNHCR'][['Date', 'City', 'Place']]\n",
    "mapathons2['Date'] = pd.to_datetime(mapathons2['Date'], format='%d/%m/%Y')\n",
    "mapathons2['Day_of_year'] = None\n",
    "for index, row in mapathons2.iterrows():\n",
    "    mapathons2.loc[index, 'Day_of_year'] = row['Date'].timetuple().tm_yday\n",
    "print(f'{len(mapathons2)} lines')\n",
    "mapathons2.head()"
   ]
  },
  {
   "cell_type": "code",
   "execution_count": null,
   "metadata": {},
   "outputs": [],
   "source": [
    "mapathons2"
   ]
  },
  {
   "cell_type": "code",
   "execution_count": null,
   "metadata": {},
   "outputs": [],
   "source": [
    "fig, ax = plt.subplots(figsize=(16, 9))\n",
    "def draw_barchart4(day_of_year):\n",
    "    top_nb = 10\n",
    "    df_map_day = df_map4[df_map4['Day_of_year'].eq(day_of_year)]\n",
    "    df_val_day = df_val4[df_val4['Day_of_year'].eq(day_of_year)]\n",
    "    df_total = (df_val_day.set_index(['name', 'Day_of_year']) + df_map_day.set_index(['name', 'Day_of_year']))['value'].reset_index()\n",
    "    df_total = df_total.sort_values(by='value', ascending=True).tail(top_nb)\n",
    "    df_map_day = df_map_day.set_index('name').loc[df_total['name']].reset_index()\n",
    "    df_val_day = df_val_day.set_index('name').loc[df_total['name']].reset_index()\n",
    "    total_hour = df_total['value'].sum()\n",
    "    ax.clear()\n",
    "    ax.barh(np.arange(10) + .1, df_total['value'], height=.8, color = [normal_colors[x] for x in df_total['name']],\n",
    "            edgecolor =([dark_colors[x] for x in df_total['name']]), linewidth = '3')\n",
    "    ax.barh(np.arange(10) - .2, df_map_day['value'], height=.3, color='y')\n",
    "    ax.barh(np.arange(10) - .2, df_val_day['value'], height=.3, left=df_map_day['value'].values, color='g')\n",
    "    dx = df_total['value'].max() / 200\n",
    "    for i, (value, name) in enumerate(zip(df_total['value'], df_total['name'])):\n",
    "        text = names[int(name)] + ' #' + name if value > max(df_total['value']) / 10 else name\n",
    "        ax.text(value-dx, i,      text,            size=14, weight=600, ha='right', va='bottom')\n",
    "        ax.text(value+dx, i,      f'{value:.1f}',  size=14, ha='left',  va='center')\n",
    "    # ... polished styles\n",
    "    date = (datetime.datetime(2019, 1, 1) + datetime.timedelta(day_of_year - 1)).strftime('%B %d')\n",
    "    ax.text(1, 0.23, date, transform=ax.transAxes, color='#777777', size=46, ha='right', weight=800)\n",
    "    ax.text(0, 1.06, 'Time spend (hours) : mapping time in yellow, validation time in green',\n",
    "            transform=ax.transAxes, size=12, color='#777777')\n",
    "    ax.xaxis.set_major_formatter(ticker.StrMethodFormatter('{x:.0f}'))\n",
    "    ax.xaxis.set_ticks_position('top')\n",
    "    ax.tick_params(axis='x', colors='#777777', labelsize=12)\n",
    "    ax.set_yticks([])\n",
    "    ax.margins(0, 0.01)\n",
    "    ax.grid(which='major', axis='x', linestyle='-')\n",
    "    ax.set_axisbelow(True)\n",
    "    ax.text(0, 1.12, f'Hours spent on CartONG-HCR Missing Maps projects (total : {total_hour:.0f}h)',\n",
    "            transform=ax.transAxes, size=24, weight=600, ha='left')\n",
    "    ax.text(1, 0, 'by CartONG credit @pratapvardhan, @jburnmurdoch', transform=ax.transAxes, ha='right',\n",
    "            color='#777777', bbox=dict(facecolor='white', alpha=0.8, edgecolor='white'))\n",
    "    if day_of_year in mapathons2['Day_of_year'].values:\n",
    "        mapathon_day = mapathons2[mapathons2['Day_of_year'] == day_of_year].iloc[-1]\n",
    "        ax.text(1, 0.18, mapathon_day['Place'] + ', ' + mapathon_day['City'], transform=ax.transAxes,\n",
    "                color='#777777', size=16, ha='right', weight=800)\n",
    "    plt.box(False)\n",
    "draw_barchart4(323)"
   ]
  },
  {
   "cell_type": "code",
   "execution_count": null,
   "metadata": {},
   "outputs": [],
   "source": [
    "fig, ax = plt.subplots(figsize=(16, 9))\n",
    "draw_barchart4(95)"
   ]
  },
  {
   "cell_type": "code",
   "execution_count": null,
   "metadata": {},
   "outputs": [],
   "source": [
    "directory = 'HCR4'\n",
    "os.makedirs(directory, exist_ok=True)\n",
    "for i in range(min(df_map4[df_map4['value'] > 0]['Day_of_year']), 366):\n",
    "    fig, ax = plt.subplots(figsize=(16, 9))\n",
    "    draw_barchart4(int(i))\n",
    "    plt.savefig(directory + f'/{i}.png')\n",
    "    plt.close()\n",
    "    print(i)"
   ]
  },
  {
   "cell_type": "markdown",
   "metadata": {
    "collapsed": true
   },
   "source": [
    "# Merge of 2 templates"
   ]
  },
  {
   "cell_type": "code",
   "execution_count": null,
   "metadata": {},
   "outputs": [],
   "source": [
    "%run ../tasking_manager_stats/data_management\n",
    "%run ../tasking_manager_stats/map_tools"
   ]
  },
  {
   "cell_type": "code",
   "execution_count": null,
   "metadata": {},
   "outputs": [],
   "source": [
    "# Read the merged raw data of several projects\n",
    "df = pd.read_csv(os.path.join(get_data_dir(), 'merged_stats_2020_01_01.csv'), encoding='ISO-8859-1')\n",
    "print(f'{len(df)} lines')\n",
    "df.head()"
   ]
  },
  {
   "cell_type": "code",
   "execution_count": null,
   "metadata": {
    "collapsed": true
   },
   "outputs": [],
   "source": [
    "STAT_YEAR = 2019"
   ]
  },
  {
   "cell_type": "markdown",
   "metadata": {},
   "source": [
    "### Mapping and validation"
   ]
  },
  {
   "cell_type": "code",
   "execution_count": null,
   "metadata": {},
   "outputs": [],
   "source": [
    "df.head()"
   ]
  },
  {
   "cell_type": "code",
   "execution_count": null,
   "metadata": {},
   "outputs": [],
   "source": [
    "# Group spent time by Project, Type and Day\n",
    "df2 = df.groupby(['Project', 'Year', 'Month', 'Day', 'Type']).sum()\n",
    "df2 = df2['Duration']\n",
    "df2 = df2.reset_index()\n",
    "print(f'{len(df2)} lines')\n",
    "df2.head()"
   ]
  },
  {
   "cell_type": "code",
   "execution_count": null,
   "metadata": {},
   "outputs": [],
   "source": [
    "# Add a column for the day of the year\n",
    "df2['Day_of_year'] = None\n",
    "for index, row in df2.iterrows():\n",
    "    if row['Year'] < STAT_YEAR:\n",
    "        df2.loc[index, 'Day_of_year'] = 0\n",
    "    else:\n",
    "        df2.loc[index, 'Day_of_year'] = pd.datetime(row['Year'], row['Month'], row['Day']).timetuple().tm_yday\n",
    "df2 = df2[['Project', 'Type', 'Day_of_year', 'Duration']]\n",
    "print(f'{len(df2)} lines')\n",
    "df2.head()"
   ]
  },
  {
   "cell_type": "code",
   "execution_count": null,
   "metadata": {
    "collapsed": true
   },
   "outputs": [],
   "source": [
    "# Restrict to a number of days\n",
    "MAX_DAY = 366\n",
    "df2 = df2[df2['Day_of_year'] <= MAX_DAY]"
   ]
  },
  {
   "cell_type": "code",
   "execution_count": null,
   "metadata": {},
   "outputs": [],
   "source": [
    "# Add 0 duration on all the days\n",
    "for project in df2['Project'].unique():\n",
    "    for day in range(0, MAX_DAY):\n",
    "        df2 = pd.concat([df2, pd.DataFrame(data=[(project, 'MAPPING', day, 0)],\n",
    "                                           columns=['Project', 'Type', 'Day_of_year', 'Duration'])],\n",
    "                        axis=0, ignore_index=True)\n",
    "        df2 = pd.concat([df2, pd.DataFrame(data=[(project, 'VALIDATION', day, 0)],\n",
    "                                           columns=['Project', 'Type', 'Day_of_year', 'Duration'])],\n",
    "                        axis=0, ignore_index=True)\n",
    "print(f'{len(df2)} lines')\n",
    "df2.tail()"
   ]
  },
  {
   "cell_type": "code",
   "execution_count": null,
   "metadata": {},
   "outputs": [],
   "source": [
    "# Sum again the empty lines with existing ones to have a line for a day and a project\n",
    "df3 = df2.groupby(['Project', 'Type', 'Day_of_year']).sum()\n",
    "df3 = df3.reset_index()\n",
    "print(f'{len(df3)} lines')\n",
    "df3.head()"
   ]
  },
  {
   "cell_type": "code",
   "execution_count": null,
   "metadata": {
    "collapsed": true
   },
   "outputs": [],
   "source": [
    "# Remove projects with no contribution if there is\n",
    "temp_df = df3.groupby('Project').sum() - df3[df3['Day_of_year'] == 0].set_index('Project')\n",
    "if (temp_df['Duration'] == 0).any():\n",
    "    df3 = df3[df3['Project'].apply(lambda project: project not in temp_df[temp_df['Duration'] == 0].index)]"
   ]
  },
  {
   "cell_type": "code",
   "execution_count": null,
   "metadata": {},
   "outputs": [],
   "source": [
    "# Check the number of lines\n",
    "assert(len(df3) == len(df3['Project'].unique()) * MAX_DAY * 2)\n",
    "len(df3['Project'].unique()) * MAX_DAY * 2"
   ]
  },
  {
   "cell_type": "code",
   "execution_count": null,
   "metadata": {},
   "outputs": [],
   "source": [
    "# Add country data\n",
    "df_countries = pd.read_csv(os.path.join(get_data_dir(), 'Mapathons_countries.csv'), encoding='ISO-8859-1')\n",
    "df_countries['Country'] = df_countries['Country'].apply(lambda s: s.replace(' ', ''))\n",
    "df_countries = df_countries.drop_duplicates()\n",
    "# Africa :  http://www.actualite-ouest-africaine.org/content/fr/les-six-r%C3%A9gions-de-l%E2%80%99union-africaine\n",
    "df_countries.loc[df_countries['Country'].isin(['Algérie']), 'Group'] = 'North Africa'\n",
    "df_countries.loc[df_countries['Country'].isin(['BurkinaFaso', 'Niger', 'Sénégal', 'Mali', 'Nigeria']), 'Group'] = 'West Africa'\n",
    "df_countries.loc[df_countries['Country'].isin(['Angola', 'AfriqueduSud', 'Zimbabwe', 'Malawi', 'Zambie', 'Mozambique']), 'Group'] = 'South Africa'\n",
    "df_countries.loc[df_countries['Country'].isin(['Kenya', 'Madagascar', 'Tanzanie', 'Ethiopie', 'Ouganda', 'Uganda', 'Soudan', 'SudSoudan']), 'Group'] = 'Est Africa'\n",
    "df_countries.loc[df_countries['Country'].isin(['RDC', 'Cameroun', 'Tchad', 'Kalémie', 'Congo']), 'Group'] = 'Central Africa'\n",
    "# Other continents\n",
    "df_countries.loc[df_countries['Country'].isin(['Népal', 'Birmanie', 'Bangladesh', 'Kirghizistan', 'Laos', 'Irak']), 'Group'] = 'Asia'\n",
    "df_countries.loc[df_countries['Country'].isin(['Guyane', 'Equateur']), 'Group'] = 'South America'\n",
    "df_countries.loc[df_countries['Country'].isin(['Haiti']), 'Group'] = 'Central America'\n",
    "df_countries.head()"
   ]
  },
  {
   "cell_type": "code",
   "execution_count": null,
   "metadata": {},
   "outputs": [],
   "source": [
    "df_countries[pd.isnull(df_countries['Group'])]"
   ]
  },
  {
   "cell_type": "code",
   "execution_count": null,
   "metadata": {},
   "outputs": [],
   "source": [
    "len(df3)"
   ]
  },
  {
   "cell_type": "code",
   "execution_count": null,
   "metadata": {},
   "outputs": [],
   "source": [
    "# Project without county (normal to have 5848, it is MSF not CartONG)\n",
    "idx = [df3['Project'].unique()[i] not in df_countries['Project'].unique() for i in range(len(df3['Project'].unique()))]\n",
    "df3['Project'].unique()[idx]"
   ]
  },
  {
   "cell_type": "code",
   "execution_count": null,
   "metadata": {},
   "outputs": [],
   "source": [
    "# Merge country\n",
    "df4 = pd.merge(df3, df_countries, on='Project')\n",
    "print(f'{len(df4)} lines')\n",
    "df4.head()"
   ]
  },
  {
   "cell_type": "code",
   "execution_count": null,
   "metadata": {
    "collapsed": true
   },
   "outputs": [],
   "source": [
    "# Split in mapping and validation\n",
    "df_map = df4[df4['Type'] == 'MAPPING']\n",
    "df_val = df4[df4['Type'] == 'VALIDATION']"
   ]
  },
  {
   "cell_type": "code",
   "execution_count": null,
   "metadata": {
    "collapsed": true
   },
   "outputs": [],
   "source": [
    "def create_df_with_cumsum(df):\n",
    "    res = df.copy()\n",
    "    res['value'] = None\n",
    "    for project in res['Project'].unique():\n",
    "        df_project = res.loc[res['Project'] == project,]\n",
    "        res.loc[df_project.index, 'value'] = df_project['Duration'].cumsum()\n",
    "    return res"
   ]
  },
  {
   "cell_type": "code",
   "execution_count": null,
   "metadata": {},
   "outputs": [],
   "source": [
    "# Add a cumsum column named value for mapping\n",
    "df_map2 = create_df_with_cumsum(df_map)\n",
    "print(f'{len(df_map2)} lines')\n",
    "df_map2.head()"
   ]
  },
  {
   "cell_type": "code",
   "execution_count": null,
   "metadata": {},
   "outputs": [],
   "source": [
    "# Add a cumsum column named value for validation\n",
    "df_val2 = create_df_with_cumsum(df_val)\n",
    "print(f'{len(df_val2)} lines')\n",
    "df_val2.head()"
   ]
  },
  {
   "cell_type": "code",
   "execution_count": null,
   "metadata": {
    "collapsed": true
   },
   "outputs": [],
   "source": [
    "def reformat(df):\n",
    "    res = df.rename(index=int, columns={'Project' : 'name'})\n",
    "    res = res[['name', 'Day_of_year', 'Type', 'value', 'Country', 'Group']]\n",
    "    res['name'] = res['name'].apply(str)\n",
    "    res['value'] = res['value'] / 3600\n",
    "    return res"
   ]
  },
  {
   "cell_type": "code",
   "execution_count": null,
   "metadata": {},
   "outputs": [],
   "source": [
    "# Rename, reformat extract useful columns for mapping\n",
    "df_map3 = reformat(df_map2)\n",
    "print(f'{len(df_map3)} lines')\n",
    "df_map3.head()"
   ]
  },
  {
   "cell_type": "code",
   "execution_count": null,
   "metadata": {},
   "outputs": [],
   "source": [
    "# Rename, reformat extract useful columns for validation\n",
    "df_val3 = reformat(df_val2)\n",
    "print(f'{len(df_val3)} lines')\n",
    "df_val3.head()"
   ]
  },
  {
   "cell_type": "markdown",
   "metadata": {},
   "source": [
    "### Filter on projects"
   ]
  },
  {
   "cell_type": "code",
   "execution_count": null,
   "metadata": {},
   "outputs": [],
   "source": [
    "# WARNING : projects is a list of string !!!!!\n",
    "projects = df_map3['name'].unique()\n",
    "len(projects)"
   ]
  },
  {
   "cell_type": "code",
   "execution_count": null,
   "metadata": {},
   "outputs": [],
   "source": [
    "df_map4 = df_map3[df_map3['name'].apply(lambda name: name in projects)]\n",
    "print(f'{len(df_map4)} lines')\n",
    "df_map4.head()"
   ]
  },
  {
   "cell_type": "code",
   "execution_count": null,
   "metadata": {},
   "outputs": [],
   "source": [
    "df_val4 = df_val3[df_val3['name'].apply(lambda name: name in projects)]\n",
    "print(f'{len(df_val4)} lines')\n",
    "df_val4.head()"
   ]
  },
  {
   "cell_type": "markdown",
   "metadata": {},
   "source": [
    "### Mapathon data"
   ]
  },
  {
   "cell_type": "code",
   "execution_count": null,
   "metadata": {},
   "outputs": [],
   "source": [
    "nuit_geo_date = '05/04/2019'\n",
    "mapathons = pd.read_csv(os.path.join('..', 'data', 'Mapathons_2020_02_08.csv'))\n",
    "mapathons.head(2)"
   ]
  },
  {
   "cell_type": "code",
   "execution_count": null,
   "metadata": {
    "collapsed": true
   },
   "outputs": [],
   "source": [
    "# Filter on date\n",
    "mapathons = mapathons[mapathons['Year'] == STAT_YEAR]"
   ]
  },
  {
   "cell_type": "code",
   "execution_count": null,
   "metadata": {
    "collapsed": true
   },
   "outputs": [],
   "source": [
    "# Add filter on projects\n",
    "mapathons['Filter'] = False\n",
    "for project in projects:\n",
    "    mapathons['Filter'] |= mapathons['Tasks'].apply(lambda s: project in str(s))"
   ]
  },
  {
   "cell_type": "code",
   "execution_count": null,
   "metadata": {
    "collapsed": true
   },
   "outputs": [],
   "source": [
    "# Agregate Nuit de la Géo\n",
    "mapathons.loc[mapathons['Date'] == nuit_geo_date, 'Place'] = 'Nuit de la Géo'\n",
    "nb_city_nuit_geo = (mapathons['Date'] == nuit_geo_date).sum()\n",
    "mapathons.loc[mapathons['Date'] == nuit_geo_date, 'City'] = f'{nb_city_nuit_geo} villes'"
   ]
  },
  {
   "cell_type": "code",
   "execution_count": null,
   "metadata": {},
   "outputs": [],
   "source": [
    "# Extract only useful column\n",
    "mapathons2 = mapathons[mapathons['Filter']][['Date', 'City', 'Place']]\n",
    "mapathons2['Date'] = pd.to_datetime(mapathons2['Date'], format='%d/%m/%Y')\n",
    "mapathons2['Day_of_year'] = None\n",
    "for index, row in mapathons2.iterrows():\n",
    "    mapathons2.loc[index, 'Day_of_year'] = row['Date'].timetuple().tm_yday\n",
    "print(f'{len(mapathons2)} lines')\n",
    "mapathons2.head()"
   ]
  },
  {
   "cell_type": "markdown",
   "metadata": {},
   "source": [
    "### Project name"
   ]
  },
  {
   "cell_type": "code",
   "execution_count": null,
   "metadata": {},
   "outputs": [],
   "source": [
    "tmProjects = pd.read_csv(os.path.join('..', 'data', 'tmProjects.csv'))\n",
    "tmProjects.head()"
   ]
  },
  {
   "cell_type": "code",
   "execution_count": null,
   "metadata": {},
   "outputs": [],
   "source": [
    "names = dict()\n",
    "for i in range(len(tmProjects)):\n",
    "    names[tmProjects.loc[i, 'N° Projet']] = tmProjects.loc[i, 'Short Name']\n",
    "names"
   ]
  },
  {
   "cell_type": "markdown",
   "metadata": {},
   "source": [
    "### Plot"
   ]
  },
  {
   "cell_type": "code",
   "execution_count": null,
   "metadata": {
    "collapsed": true
   },
   "outputs": [],
   "source": [
    "colors = dict(zip(\n",
    "    ['Central America', 'South America', 'Asia', 'Est Africa',\n",
    "     'West Africa', 'Central Africa', 'North Africa'],\n",
    "    ['#adb0ff', '#ffb3ff', '#90d595', '#e48381',\n",
    "     '#aafbff', '#f7bb5f', '#eafb50']\n",
    "))"
   ]
  },
  {
   "cell_type": "code",
   "execution_count": null,
   "metadata": {
    "collapsed": true
   },
   "outputs": [],
   "source": [
    "day_of_year = 323\n",
    "top_nb = 10\n",
    "df_map_day = df_map4[df_map4['Day_of_year'].eq(day_of_year)]\n",
    "df_val_day = df_val4[df_val4['Day_of_year'].eq(day_of_year)]\n",
    "df_total = (df_val_day.set_index(['name', 'Day_of_year']) + df_map_day.set_index(['name', 'Day_of_year']))['value'].reset_index()\n",
    "df_total = pd.merge(df_total, df_map_day[['name', 'Country', 'Group']], how='left', on='name')\n",
    "df_total = df_total.sort_values(by='value', ascending=True).tail(top_nb)"
   ]
  },
  {
   "cell_type": "code",
   "execution_count": null,
   "metadata": {},
   "outputs": [],
   "source": [
    "df_total"
   ]
  },
  {
   "cell_type": "code",
   "execution_count": null,
   "metadata": {
    "collapsed": true
   },
   "outputs": [],
   "source": [
    "def draw_day_mapathon(day_of_year):\n",
    "    if day_of_year in mapathons2['Day_of_year'].values:\n",
    "        mapathon_day = mapathons2[mapathons2['Day_of_year'] == day_of_year].iloc[-1]\n",
    "        ax.text(1, 0.18, mapathon_day['Place'] + ', ' + mapathon_day['City'], transform=ax.transAxes,\n",
    "                color='#777777', size=16, ha='right', weight=800)"
   ]
  },
  {
   "cell_type": "code",
   "execution_count": null,
   "metadata": {
    "collapsed": true
   },
   "outputs": [],
   "source": [
    "def draw_week_mapathon(day_of_year):\n",
    "    j = 0\n",
    "    for i in range(7):\n",
    "        if day_of_year - i in mapathons2['Day_of_year'].values:\n",
    "            mapathon_day = mapathons2[mapathons2['Day_of_year'] == day_of_year - i].iloc[-1]\n",
    "            date = (datetime.datetime(STAT_YEAR, 1, 1) + datetime.timedelta(day_of_year - 1 - i)).strftime('%m-%d')\n",
    "            ax.text(1, 0.18 - 0.04 * j, date + ' : ' + mapathon_day['Place'] + ', ' + mapathon_day['City'],\n",
    "                    transform=ax.transAxes, color='#777777', size=16, ha='right', weight=800)\n",
    "            j += 1"
   ]
  },
  {
   "cell_type": "code",
   "execution_count": null,
   "metadata": {},
   "outputs": [],
   "source": [
    "fig, ax = plt.subplots(figsize=(16, 9))\n",
    "def draw_barchart(day_of_year, draw_mapathon=draw_day_mapathon):\n",
    "    top_nb = 10\n",
    "    df_map_day = df_map4[df_map4['Day_of_year'].eq(day_of_year)]\n",
    "    df_val_day = df_val4[df_val4['Day_of_year'].eq(day_of_year)]\n",
    "    df_total = (df_val_day.set_index(['name', 'Day_of_year']) + df_map_day.set_index(['name', 'Day_of_year']))['value'].reset_index()\n",
    "    df_total = pd.merge(df_total, df_map_day[['name', 'Country', 'Group']], how='left', on='name')\n",
    "    df_total = df_total.sort_values(by='value', ascending=True).tail(top_nb)\n",
    "    df_map_day = df_map_day.set_index('name').loc[df_total['name']].reset_index()\n",
    "    df_val_day = df_val_day.set_index('name').loc[df_total['name']].reset_index()\n",
    "    total_hour = df_total['value'].sum()\n",
    "    ax.clear()\n",
    "    ax.barh(np.arange(10) + .1, df_total['value'], height=.8, color=[colors[x] for x in df_total['Group']], linewidth = '3')\n",
    "    ax.barh(np.arange(10) - .2, df_map_day['value'], height=.3, color='y')\n",
    "    ax.barh(np.arange(10) - .2, df_val_day['value'], height=.3, left=df_map_day['value'].values, color='g')\n",
    "    dx = df_total['value'].max() / 200\n",
    "    for i, (value, name, country, group) in enumerate(zip(df_total['value'], df_total['name'], df_total['Country'], df_total['Group'])):\n",
    "        text = str(names[int(name)]) + ' #' + name if value > max(df_total['value']) / 10 else name\n",
    "        ax.text(value-dx, i+.2,      text,            size=14, weight=600, ha='right', va='bottom')\n",
    "        ax.text(value+dx, i,      f'{value:.1f}',  size=14, ha='left',  va='center')\n",
    "        ax.text(value-dx, i, country + ' ( ' + group + ' )', size=10, color='#444444', ha='right', va='baseline')\n",
    "    date = (datetime.datetime(STAT_YEAR, 1, 1) + datetime.timedelta(day_of_year - 1)).strftime('%B %d')\n",
    "    ax.text(1, 0.23, date, transform=ax.transAxes, color='#777777', size=46, ha='right', weight=800)\n",
    "    ax.text(0, 1.06, 'Time spend (hours) : mapping time in yellow, validation time in green',\n",
    "            transform=ax.transAxes, size=12, color='#777777')\n",
    "    ax.xaxis.set_major_formatter(ticker.StrMethodFormatter('{x:.0f}'))\n",
    "    ax.xaxis.set_ticks_position('top')\n",
    "    ax.tick_params(axis='x', colors='#777777', labelsize=12)\n",
    "    ax.set_yticks([])\n",
    "    ax.margins(0, 0.01)\n",
    "    ax.grid(which='major', axis='x', linestyle='-')\n",
    "    ax.set_axisbelow(True)\n",
    "    ax.text(0, 1.12, f'Hours spent on CartONG-HCR Missing Maps projects (total : {total_hour:.0f}h)',\n",
    "            transform=ax.transAxes, size=24, weight=600, ha='left')\n",
    "    ax.text(1, 0, 'by CartONG credit @pratapvardhan, @jburnmurdoch', transform=ax.transAxes, ha='right',\n",
    "            color='#777777', bbox=dict(facecolor='white', alpha=0.8, edgecolor='white'))\n",
    "    draw_mapathon(day_of_year)\n",
    "    plt.box(False)\n",
    "draw_barchart(323)"
   ]
  },
  {
   "cell_type": "code",
   "execution_count": null,
   "metadata": {},
   "outputs": [],
   "source": [
    "fig, ax = plt.subplots(figsize=(16, 9))\n",
    "draw_barchart(323, draw_week_mapathon)"
   ]
  },
  {
   "cell_type": "code",
   "execution_count": null,
   "metadata": {},
   "outputs": [],
   "source": [
    "directory = 'all'\n",
    "os.makedirs(directory, exist_ok=True)\n",
    "for i in range(max(1, min(df_map4[df_map4['value'] > 0]['Day_of_year'])), 366):\n",
    "    fig, ax = plt.subplots(figsize=(16, 9))\n",
    "    draw_barchart(int(i))\n",
    "    plt.savefig(directory + f'/{i}.png')\n",
    "    plt.close()\n",
    "    print(i)"
   ]
  },
  {
   "cell_type": "code",
   "execution_count": null,
   "metadata": {},
   "outputs": [],
   "source": [
    "directory = 'all_week'\n",
    "os.makedirs(directory, exist_ok=True)\n",
    "for i in np.arange(max(1, min(df_map4[df_map4['value'] > 0]['Day_of_year'])), 366):\n",
    "    if i % 7 == 1:\n",
    "        fig, ax = plt.subplots(figsize=(16, 9))\n",
    "        draw_barchart(int(i), draw_week_mapathon)\n",
    "        plt.savefig(directory + f'/{i}.png')\n",
    "        plt.close()\n",
    "        print(i)"
   ]
  }
 ],
 "metadata": {
  "kernelspec": {
   "display_name": "Python 3",
   "language": "python",
   "name": "python3"
  },
  "language_info": {
   "codemirror_mode": {
    "name": "ipython",
    "version": 3
   },
   "file_extension": ".py",
   "mimetype": "text/x-python",
   "name": "python",
   "nbconvert_exporter": "python",
   "pygments_lexer": "ipython3",
   "version": "3.6.2"
  }
 },
 "nbformat": 4,
 "nbformat_minor": 2
}
