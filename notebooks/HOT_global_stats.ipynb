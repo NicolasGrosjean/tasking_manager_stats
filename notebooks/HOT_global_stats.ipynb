{
 "cells": [
  {
   "cell_type": "code",
   "execution_count": null,
   "metadata": {
    "collapsed": true
   },
   "outputs": [],
   "source": [
    "import numpy as np\n",
    "import pandas as pd\n",
    "\n",
    "import matplotlib.pyplot as plt\n",
    "%matplotlib inline"
   ]
  },
  {
   "cell_type": "code",
   "execution_count": null,
   "metadata": {},
   "outputs": [],
   "source": [
    "%run ../tasking_manager_stats/data_management"
   ]
  },
  {
   "cell_type": "markdown",
   "metadata": {},
   "source": [
    "# Get summaries of a lot of projects"
   ]
  },
  {
   "cell_type": "code",
   "execution_count": null,
   "metadata": {
    "collapsed": true
   },
   "outputs": [],
   "source": [
    "summaries_file = os.path.join(get_data_dir(), 'summaries.json')"
   ]
  },
  {
   "cell_type": "code",
   "execution_count": null,
   "metadata": {
    "collapsed": true
   },
   "outputs": [],
   "source": [
    "summaries = {} \n",
    "with open(summaries_file) as f:\n",
    "    summaries = json.load(f)"
   ]
  },
  {
   "cell_type": "code",
   "execution_count": null,
   "metadata": {},
   "outputs": [],
   "source": [
    "for project_id in tqdm(range(5636, 5650)):\n",
    "    if project_id not in summaries or summaries[project_id]['status'] != 'ARCHIVED':\n",
    "        summaries[project_id] = download_summary_data(project_id)\n",
    "        time.sleep(0.5 + random.random())"
   ]
  },
  {
   "cell_type": "code",
   "execution_count": null,
   "metadata": {},
   "outputs": [],
   "source": [
    "for project_id in tqdm(range(5650, 6100)):\n",
    "    if project_id not in summaries or summaries[project_id]['status'] != 'ARCHIVED':\n",
    "        summaries[project_id] = download_summary_data(project_id)\n",
    "        time.sleep(0.5 + random.random())"
   ]
  },
  {
   "cell_type": "code",
   "execution_count": null,
   "metadata": {
    "collapsed": true
   },
   "outputs": [],
   "source": [
    "with open(summaries_file, 'w') as outfile:\n",
    "    json.dump(summaries, outfile)"
   ]
  },
  {
   "cell_type": "markdown",
   "metadata": {},
   "source": [
    "# Data extraction and cleaning"
   ]
  },
  {
   "cell_type": "code",
   "execution_count": null,
   "metadata": {
    "scrolled": true
   },
   "outputs": [],
   "source": [
    "summary_df = pd.DataFrame()\n",
    "for project_id in summaries:\n",
    "    if 'Error' in summaries[project_id]:\n",
    "        print(str(project_id) + ' : ' + summaries[project_id]['Error'])\n",
    "        continue\n",
    "    summary_df = pd.concat([summary_df, pd.DataFrame(data=[(project_id, summaries[project_id]['created'],\n",
    "                                                            summaries[project_id]['lastUpdated'],\n",
    "                                                            summaries[project_id]['status'],\n",
    "                                                            summaries[project_id]['percentValidated'],\n",
    "                                                            summaries[project_id]['organisationTag'],\n",
    "                                                            summaries[project_id]['projectArea(in sq.km)'])],\n",
    "                                                     columns=['project_id', 'created', 'lastUpdated', 'status',\n",
    "                                                              'percentValidated', 'organisation', 'area'])],\n",
    "                           axis=0, ignore_index=True)\n",
    "summary_df = summary_df.set_index('project_id')"
   ]
  },
  {
   "cell_type": "code",
   "execution_count": null,
   "metadata": {},
   "outputs": [],
   "source": [
    "summary_df['created'] = pd.to_datetime(summary_df['created'])\n",
    "summary_df['lastUpdated'] = pd.to_datetime(summary_df['lastUpdated'])\n",
    "summary_df.info()"
   ]
  },
  {
   "cell_type": "code",
   "execution_count": null,
   "metadata": {},
   "outputs": [],
   "source": [
    "summary_df.head()"
   ]
  },
  {
   "cell_type": "markdown",
   "metadata": {},
   "source": [
    "### Qualitative analysis"
   ]
  },
  {
   "cell_type": "code",
   "execution_count": null,
   "metadata": {},
   "outputs": [],
   "source": [
    "summary_df.hist('percentValidated')"
   ]
  },
  {
   "cell_type": "code",
   "execution_count": null,
   "metadata": {},
   "outputs": [],
   "source": [
    "summary_df['status'].unique()"
   ]
  },
  {
   "cell_type": "code",
   "execution_count": null,
   "metadata": {},
   "outputs": [],
   "source": [
    "summary_df['organisation'].unique()"
   ]
  },
  {
   "cell_type": "code",
   "execution_count": null,
   "metadata": {},
   "outputs": [],
   "source": [
    "summary_df['organisation'] = summary_df['organisation'].apply(lambda s: 'MSF' if s=='Médecins Sans Frontières' else s)\n",
    "summary_df['organisation'].unique()"
   ]
  },
  {
   "cell_type": "markdown",
   "metadata": {},
   "source": [
    "### Restrict to S1 2019"
   ]
  },
  {
   "cell_type": "markdown",
   "metadata": {},
   "source": [
    "Definitions of the restriction\n",
    "- lastUpdated after 1st January 2019\n",
    "- lastUpdated before 1st July 2019\n",
    "- validated > 90%"
   ]
  },
  {
   "cell_type": "code",
   "execution_count": null,
   "metadata": {},
   "outputs": [],
   "source": [
    "summary_df[summary_df['organisation'] == 'CartONG']"
   ]
  },
  {
   "cell_type": "code",
   "execution_count": null,
   "metadata": {},
   "outputs": [],
   "source": [
    "summary_df[summary_df['organisation'] == 'AIT']"
   ]
  },
  {
   "cell_type": "code",
   "execution_count": null,
   "metadata": {},
   "outputs": [],
   "source": [
    "df = summary_df[(summary_df['lastUpdated'] > '2019-01-01') &\n",
    "                (summary_df['lastUpdated'] < '2019-07-19') &\n",
    "                (summary_df['percentValidated'] >= 90)]\n",
    "df.head()"
   ]
  },
  {
   "cell_type": "code",
   "execution_count": null,
   "metadata": {},
   "outputs": [],
   "source": [
    "df['organisation'].unique()"
   ]
  },
  {
   "cell_type": "code",
   "execution_count": null,
   "metadata": {},
   "outputs": [],
   "source": [
    "pd.DataFrame(df.groupby('organisation').count().area.sort_values(ascending=False))"
   ]
  },
  {
   "cell_type": "code",
   "execution_count": null,
   "metadata": {},
   "outputs": [],
   "source": [
    "fig, ax = plt.subplots(nrows=1, ncols=1, figsize=(10, 10), dpi=100, sharex=True)\n",
    "g = df.groupby('organisation').count().area.sort_values()\n",
    "ax.bar(np.arange(len(g)), g.values, color=['black' if index == 'CartONG' else 'lightgray' for index in g.index])\n",
    "plt.xticks(np.arange(len(g)), g.index, rotation=90)\n",
    "ax.set_xlabel('Organisations')\n",
    "ax.set_ylabel('Number of finished projects')\n",
    "ax.set_title('Number of finished projects in S1 2019')\n",
    "plt.savefig('finished_project_nb.png', dpi=100)"
   ]
  },
  {
   "cell_type": "code",
   "execution_count": null,
   "metadata": {},
   "outputs": [],
   "source": [
    "df.groupby('organisation').sum().sort_values('area', ascending=False)"
   ]
  },
  {
   "cell_type": "code",
   "execution_count": null,
   "metadata": {},
   "outputs": [],
   "source": [
    "fig, ax = plt.subplots(nrows=1, ncols=1, figsize=(10, 10), dpi=100, sharex=True)\n",
    "g = df.groupby('organisation').sum().sort_values('area')\n",
    "ax.bar(np.arange(len(g)), g['area'], color=['black' if index == 'CartONG' else 'lightgray' for index in g.index])\n",
    "plt.xticks(np.arange(len(g)), g.index, rotation=90)\n",
    "ax.set_xlabel('Organisations')\n",
    "ax.set_ylabel('Area in km²')\n",
    "ax.set_title('Total area of finished projects in S1 2019')\n",
    "plt.savefig('finished_project_total_area.png', dpi=100)"
   ]
  },
  {
   "cell_type": "code",
   "execution_count": null,
   "metadata": {},
   "outputs": [],
   "source": [
    "fig, ax = plt.subplots(nrows=1, ncols=1, figsize=(10, 10), dpi=100, sharex=True)\n",
    "g = df.groupby('organisation').sum().sort_values('area')[:6]\n",
    "ax.bar(np.arange(len(g)), g['area'], color=['black' if index == 'CartONG' else 'lightgray' for index in g.index])\n",
    "plt.xticks(np.arange(len(g)), g.index, rotation=90)\n",
    "ax.set_xlabel('Organisations')\n",
    "ax.set_ylabel('Area in km²')\n",
    "ax.set_title('[ZOOM IN] Total area of finished projects in S1 2019')\n",
    "plt.savefig('finished_project_total_area_bis.png', dpi=100)"
   ]
  },
  {
   "cell_type": "code",
   "execution_count": null,
   "metadata": {},
   "outputs": [],
   "source": [
    "df.groupby('organisation').mean().sort_values('area', ascending=False)"
   ]
  },
  {
   "cell_type": "code",
   "execution_count": null,
   "metadata": {
    "scrolled": false
   },
   "outputs": [],
   "source": [
    "fig, ax = plt.subplots(nrows=1, ncols=1, figsize=(10, 10), dpi=100, sharex=True)\n",
    "g = df.groupby('organisation').mean().sort_values('area')\n",
    "ax.bar(np.arange(len(g)), g['area'], color=['black' if index == 'CartONG' else 'lightgray' for index in g.index])\n",
    "plt.xticks(np.arange(len(g)), g.index, rotation=90)\n",
    "ax.set_xlabel('Organisations')\n",
    "ax.set_ylabel('Area in km²')\n",
    "ax.set_title('Mean area of finished projects in S1 2019')\n",
    "plt.savefig('finished_project_mean_area.png', dpi=100)"
   ]
  },
  {
   "cell_type": "code",
   "execution_count": null,
   "metadata": {},
   "outputs": [],
   "source": [
    "fig, ax = plt.subplots(nrows=1, ncols=1, figsize=(10, 10), dpi=100, sharex=True)\n",
    "g = df.groupby('organisation').mean().sort_values('area')[:4]\n",
    "ax.bar(np.arange(len(g)), g['area'], color=['black' if index == 'CartONG' else 'lightgray' for index in g.index])\n",
    "plt.xticks(np.arange(len(g)), g.index, rotation=90)\n",
    "ax.set_xlabel('Organisations')\n",
    "ax.set_ylabel('Area in km²')\n",
    "ax.set_title('[ZOOM IN] Mean area of finished projects in S1 2019')\n",
    "plt.savefig('finished_project_mean_area_bis.png', dpi=100)"
   ]
  },
  {
   "cell_type": "code",
   "execution_count": null,
   "metadata": {
    "collapsed": true
   },
   "outputs": [],
   "source": []
  }
 ],
 "metadata": {
  "kernelspec": {
   "display_name": "Python 3",
   "language": "python",
   "name": "python3"
  },
  "language_info": {
   "codemirror_mode": {
    "name": "ipython",
    "version": 3
   },
   "file_extension": ".py",
   "mimetype": "text/x-python",
   "name": "python",
   "nbconvert_exporter": "python",
   "pygments_lexer": "ipython3",
   "version": "3.6.2"
  }
 },
 "nbformat": 4,
 "nbformat_minor": 2
}
