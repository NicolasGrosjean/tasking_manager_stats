{
 "cells": [
  {
   "cell_type": "code",
   "execution_count": null,
   "metadata": {
    "collapsed": true
   },
   "outputs": [],
   "source": [
    "import numpy as np\n",
    "import pandas as pd\n",
    "\n",
    "import matplotlib.pyplot as plt\n",
    "%matplotlib inline"
   ]
  },
  {
   "cell_type": "code",
   "execution_count": null,
   "metadata": {
    "collapsed": true
   },
   "outputs": [],
   "source": [
    "%run ../tasking_manager_stats/data_management\n",
    "%run ../tasking_manager_stats/map_tools"
   ]
  },
  {
   "cell_type": "markdown",
   "metadata": {},
   "source": [
    "# Validation spent time one project "
   ]
  },
  {
   "cell_type": "code",
   "execution_count": null,
   "metadata": {
    "collapsed": true
   },
   "outputs": [],
   "source": [
    "project_id = 5861"
   ]
  },
  {
   "cell_type": "code",
   "execution_count": null,
   "metadata": {
    "collapsed": true
   },
   "outputs": [],
   "source": [
    "db = Database(project_id)"
   ]
  },
  {
   "cell_type": "code",
   "execution_count": null,
   "metadata": {},
   "outputs": [],
   "source": [
    "start = db.get_start_date()\n",
    "start"
   ]
  },
  {
   "cell_type": "code",
   "execution_count": null,
   "metadata": {},
   "outputs": [],
   "source": [
    "nb_days = compute_nb_days(db, start)\n",
    "nb_days"
   ]
  },
  {
   "cell_type": "code",
   "execution_count": null,
   "metadata": {
    "collapsed": true
   },
   "outputs": [],
   "source": [
    "validation_day_duration = np.zeros(nb_days + 1)\n",
    "validation_cumulative_day_task = np.zeros(nb_days + 1)\n",
    "unvalidated_tasks = []\n",
    "mapping_day_duration = np.zeros(nb_days + 1)\n",
    "mapping_cumulative_day_task = np.zeros(nb_days + 1)\n",
    "unmapped_tasks = []"
   ]
  },
  {
   "cell_type": "code",
   "execution_count": null,
   "metadata": {
    "collapsed": true
   },
   "outputs": [],
   "source": [
    "def add_task_spent_time(task_data, day_duration, task_type_lock):\n",
    "    for task_hist in task_data['taskHistory']:\n",
    "        if task_hist['action'] == task_type_lock:\n",
    "            date = pd.to_datetime(task_hist['actionDate']).date()\n",
    "            day = (date - start).days\n",
    "\n",
    "            date_duration = pd.to_datetime(task_hist['actionText'])\n",
    "            duration = date_duration.second + 60 * date_duration.minute + 3600 * date_duration.hour\n",
    "\n",
    "            day_duration[day] += duration"
   ]
  },
  {
   "cell_type": "code",
   "execution_count": null,
   "metadata": {
    "collapsed": true
   },
   "outputs": [],
   "source": [
    "def add_task_validation_spent_time(task_data, day_duration):\n",
    "    add_task_spent_time(task_data, day_duration, 'LOCKED_FOR_VALIDATION')"
   ]
  },
  {
   "cell_type": "code",
   "execution_count": null,
   "metadata": {
    "collapsed": true
   },
   "outputs": [],
   "source": [
    "def add_task_mapping_spent_time(task_data, day_duration):\n",
    "    add_task_spent_time(task_data, day_duration, 'LOCKED_FOR_MAPPING')"
   ]
  },
  {
   "cell_type": "code",
   "execution_count": null,
   "metadata": {
    "collapsed": true
   },
   "outputs": [],
   "source": [
    "def add_task_validation_status(db, task_id, cumulative_day_task, unvalidated_tasks):\n",
    "    task_validated = np.zeros(nb_days + 1)\n",
    "    for task_hist in reversed(db.get_task_history()[str(task_id)]['taskHistory']):\n",
    "        date = pd.to_datetime(task_hist['actionDate']).date()\n",
    "        day = (date - start).days\n",
    "        if task_hist['actionText'] == 'VALIDATED':\n",
    "            task_validated[day:] = 1\n",
    "    cumulative_day_task += task_validated\n",
    "    \n",
    "    if task_validated[-1] == 0:\n",
    "        unvalidated_tasks.append(task_id) "
   ]
  },
  {
   "cell_type": "code",
   "execution_count": null,
   "metadata": {
    "collapsed": true
   },
   "outputs": [],
   "source": [
    "def add_task_mapping_status(db, task_id, cumulative_day_task, unmapped_tasks):\n",
    "    task_mapped = np.zeros(nb_days + 1)\n",
    "    for task_hist in reversed(db.get_task_history()[str(task_id)]['taskHistory']):\n",
    "        date = pd.to_datetime(task_hist['actionDate']).date()\n",
    "        day = (date - start).days\n",
    "        if task_hist['actionText'] == 'MAPPED':\n",
    "            task_mapped[day:] = 1\n",
    "        elif task_hist['actionText'] == 'INVALIDATED':\n",
    "            task_mapped[day:] = 0\n",
    "    cumulative_day_task += task_mapped\n",
    "    \n",
    "    if task_mapped[-1] == 0:\n",
    "        unmapped_tasks.append(task_id) "
   ]
  },
  {
   "cell_type": "code",
   "execution_count": null,
   "metadata": {
    "collapsed": true
   },
   "outputs": [],
   "source": [
    "for task_id in db.get_task_ids():\n",
    "    add_task_validation_spent_time(db.get_task_history()[str(task_id)], validation_day_duration)\n",
    "    add_task_validation_status(db, task_id, validation_cumulative_day_task, unvalidated_tasks)\n",
    "    add_task_mapping_spent_time(db.get_task_history()[str(task_id)], mapping_day_duration)\n",
    "    add_task_mapping_status(db, task_id, mapping_cumulative_day_task, unmapped_tasks)"
   ]
  },
  {
   "cell_type": "code",
   "execution_count": null,
   "metadata": {},
   "outputs": [],
   "source": [
    "validation_day_duration"
   ]
  },
  {
   "cell_type": "code",
   "execution_count": null,
   "metadata": {},
   "outputs": [],
   "source": [
    "validation_cumulative_day_task"
   ]
  },
  {
   "cell_type": "code",
   "execution_count": null,
   "metadata": {},
   "outputs": [],
   "source": [
    "unvalidated_tasks"
   ]
  },
  {
   "cell_type": "code",
   "execution_count": null,
   "metadata": {},
   "outputs": [],
   "source": [
    "mapping_day_duration"
   ]
  },
  {
   "cell_type": "code",
   "execution_count": null,
   "metadata": {},
   "outputs": [],
   "source": [
    "mapping_cumulative_day_task"
   ]
  },
  {
   "cell_type": "code",
   "execution_count": null,
   "metadata": {},
   "outputs": [],
   "source": [
    "validation_day_duration.sum() / 3600.0"
   ]
  },
  {
   "cell_type": "code",
   "execution_count": null,
   "metadata": {
    "collapsed": true
   },
   "outputs": [],
   "source": [
    "times = []\n",
    "for day in range(nb_days + 1):\n",
    "    times.append(start + pd.Timedelta(days=day))"
   ]
  },
  {
   "cell_type": "code",
   "execution_count": null,
   "metadata": {
    "collapsed": true
   },
   "outputs": [],
   "source": [
    "dpi = 50"
   ]
  },
  {
   "cell_type": "code",
   "execution_count": null,
   "metadata": {},
   "outputs": [],
   "source": [
    "fig, ax = plt.subplots(nrows=1, ncols=1, figsize=(10, 10), dpi=dpi, sharex=True)\n",
    "ax.plot(times, validation_day_duration / 3600.0, linewidth=2)\n",
    "ax.set_title('Validation spent time in #' + str(project_id) + f' (total = {validation_day_duration.sum() / 3600.0:.3} h)', fontsize=16)\n",
    "ax.set_xlabel('Date', fontsize=16)\n",
    "ax.set_ylabel('Time spent in hours', fontsize=16)\n",
    "for item in ([ax.title, ax.xaxis.label, ax.yaxis.label] +\n",
    "             ax.get_xticklabels() + ax.get_yticklabels()):\n",
    "    item.set_fontsize(16)\n",
    "plt.savefig(str(project_id) + '_validation_spent_time', dpi=dpi)"
   ]
  },
  {
   "cell_type": "code",
   "execution_count": null,
   "metadata": {},
   "outputs": [],
   "source": [
    "fig, ax = plt.subplots(nrows=1, ncols=1, figsize=(10, 10), dpi=dpi, sharex=True)\n",
    "ax.plot(times, validation_day_duration.cumsum() / 3600.0, linewidth=2)\n",
    "ax.set_title('Cumulative validation spent time in #' + str(project_id) + f' (total = {validation_day_duration.sum() / 3600.0:.3} h)', fontsize=16)\n",
    "ax.set_xlabel('Date', fontsize=16)\n",
    "ax.set_ylabel('Time spent in hours', fontsize=16)\n",
    "for item in ([ax.title, ax.xaxis.label, ax.yaxis.label] +\n",
    "             ax.get_xticklabels() + ax.get_yticklabels()):\n",
    "    item.set_fontsize(16)\n",
    "plt.savefig(str(project_id) + '_cumulative_validation_spent_time', dpi=dpi)"
   ]
  },
  {
   "cell_type": "code",
   "execution_count": null,
   "metadata": {},
   "outputs": [],
   "source": [
    "fig, ax = plt.subplots(nrows=1, ncols=1, figsize=(10, 10), dpi=dpi, sharex=True)\n",
    "ax.plot(times, validation_day_duration.cumsum() / 3600.0, linewidth=2)\n",
    "\n",
    "ax2 = ax.twinx()\n",
    "color = 'tab:green'\n",
    "ax2.set_ylabel('Number of validated tasks', color=color)\n",
    "ax2.plot(times, validation_cumulative_day_task, color=color)\n",
    "ax2.tick_params(axis='y', labelcolor=color)\n",
    "\n",
    "title = 'Cumulative validation spent time in #' + str(project_id) + f' (total = {validation_day_duration.sum() / 3600.0:.3} h)'\n",
    "title = title + f'\\n{int(validation_cumulative_day_task[-1])} validated tasks on {len(db.get_task_ids())}'\n",
    "ax.set_title(title)\n",
    "ax.set_xlabel('Date')\n",
    "ax.set_ylabel('Time spent in hours')\n",
    "for item in ([ax.title, ax.xaxis.label, ax.yaxis.label, ax2.yaxis.label] +\n",
    "             ax.get_xticklabels() + ax.get_yticklabels() +\n",
    "             ax2.get_xticklabels() + ax2.get_yticklabels()):\n",
    "    item.set_fontsize(16)\n",
    "plt.savefig(str(project_id) + '_cumulative_validation_spent_time_and_validated_tasks', dpi=dpi)"
   ]
  },
  {
   "cell_type": "code",
   "execution_count": null,
   "metadata": {},
   "outputs": [],
   "source": [
    "fig, ax = plt.subplots(nrows=1, ncols=1, figsize=(10, 10), dpi=dpi, sharex=True)\n",
    "ax.plot(times, mapping_day_duration.cumsum() / 3600.0, linewidth=2)\n",
    "\n",
    "ax2 = ax.twinx()\n",
    "color = 'tab:green'\n",
    "ax2.set_ylabel('Number of mapped tasks', color=color)\n",
    "ax2.plot(times, mapping_cumulative_day_task, color=color)\n",
    "ax2.tick_params(axis='y', labelcolor=color)\n",
    "\n",
    "title = 'Cumulative mapping spent time in #' + str(project_id) + f' (total = {mapping_day_duration.sum() / 3600.0:.4} h)'\n",
    "title = title + f'\\n{int(mapping_cumulative_day_task[-1])} mapped tasks on {len(db.get_task_ids())}'\n",
    "ax.set_title(title)\n",
    "ax.set_xlabel('Date')\n",
    "ax.set_ylabel('Time spent in hours')\n",
    "for item in ([ax.title, ax.xaxis.label, ax.yaxis.label, ax2.yaxis.label] +\n",
    "             ax.get_xticklabels() + ax.get_yticklabels() +\n",
    "             ax2.get_xticklabels() + ax2.get_yticklabels()):\n",
    "    item.set_fontsize(16)\n",
    "plt.savefig(str(project_id) + '_cumulative_mapping_spent_time_and_validated_tasks', dpi=dpi)"
   ]
  },
  {
   "cell_type": "markdown",
   "metadata": {},
   "source": [
    "# All projects"
   ]
  },
  {
   "cell_type": "code",
   "execution_count": null,
   "metadata": {},
   "outputs": [],
   "source": [
    "import datetime\n",
    "start = datetime.datetime(2019, 1, 1).date()\n",
    "start"
   ]
  },
  {
   "cell_type": "code",
   "execution_count": null,
   "metadata": {},
   "outputs": [],
   "source": [
    "nb_days = (datetime.datetime.now().date() - start).days\n",
    "nb_days"
   ]
  },
  {
   "cell_type": "code",
   "execution_count": null,
   "metadata": {
    "collapsed": true
   },
   "outputs": [],
   "source": [
    "def add_task_mapping_and_validation_status(db, task_id, cumulative_day_mapped,\n",
    "                                           cumulative_day_validated, unvalidated_tasks):\n",
    "    task_mapped = np.zeros(nb_days + 1)\n",
    "    task_validated = np.zeros(nb_days + 1)\n",
    "    for task_hist in reversed(db.get_task_history()[str(task_id)]['taskHistory']):\n",
    "        date = pd.to_datetime(task_hist['actionDate']).date()\n",
    "        day = (date - start).days\n",
    "        if day < 0:\n",
    "            continue\n",
    "        if task_hist['actionText'] == 'VALIDATED':\n",
    "            task_validated[day:] = 1\n",
    "        if task_hist['actionText'] == 'MAPPED':\n",
    "            task_mapped[day:] = 1\n",
    "    cumulative_day_mapped += task_mapped\n",
    "    cumulative_day_validated += task_validated\n",
    "    \n",
    "    if task_validated.max() == 0:\n",
    "        unvalidated_tasks.append(task_id) "
   ]
  },
  {
   "cell_type": "code",
   "execution_count": null,
   "metadata": {
    "collapsed": true
   },
   "outputs": [],
   "source": [
    "day_duration = np.zeros(nb_days + 1)\n",
    "cumulative_day_mapped = np.zeros(nb_days + 1)\n",
    "cumulative_day_validated = np.zeros(nb_days + 1)\n",
    "unvalidated_tasks = []"
   ]
  },
  {
   "cell_type": "code",
   "execution_count": null,
   "metadata": {
    "collapsed": true
   },
   "outputs": [],
   "source": [
    "projects = ['5847', '5504', '5889', '5654', '4438', '4388']"
   ]
  },
  {
   "cell_type": "code",
   "execution_count": null,
   "metadata": {
    "collapsed": true
   },
   "outputs": [],
   "source": [
    "for project_id in projects:\n",
    "    db = Database(project_id)\n",
    "    for task_id in db.get_task_ids():\n",
    "        add_task_validation_spent_time(db.get_task_history()[str(task_id)], day_duration)\n",
    "        add_task_validation_status(db, task_id, cumulative_day_task, unvalidated_tasks)\n",
    "    time.sleep(10)"
   ]
  },
  {
   "cell_type": "markdown",
   "metadata": {},
   "source": [
    "# Project times"
   ]
  },
  {
   "cell_type": "code",
   "execution_count": null,
   "metadata": {
    "collapsed": true
   },
   "outputs": [],
   "source": [
    "import matplotlib\n",
    "matplotlib.style.use('ggplot')"
   ]
  },
  {
   "cell_type": "code",
   "execution_count": null,
   "metadata": {
    "collapsed": true
   },
   "outputs": [],
   "source": [
    "def get_mapping_validation_dates(db, nb_days):\n",
    "    min_mapped = nb_days\n",
    "    max_mapped = 0\n",
    "    min_validation = nb_days\n",
    "    max_validation = 0\n",
    "    for task_id in db.get_task_ids():\n",
    "        for task_hist in reversed(db.get_task_history()[str(task_id)]['taskHistory']):\n",
    "            date = pd.to_datetime(task_hist['actionDate']).date()\n",
    "            day = (date - start).days\n",
    "            if task_hist['actionText'] == 'VALIDATED':\n",
    "                min_validation = min(min_validation, day)\n",
    "                max_validation = max(max_validation, day)\n",
    "            elif task_hist['actionText'] == 'MAPPED':\n",
    "                min_mapped = min(min_mapped, day)\n",
    "                max_mapped = max(max_mapped, day)\n",
    "    return min_mapped, max_mapped, min_validation, max_validation"
   ]
  },
  {
   "cell_type": "code",
   "execution_count": null,
   "metadata": {},
   "outputs": [],
   "source": [
    "min_mapped, max_mapped, min_validation, max_validation"
   ]
  },
  {
   "cell_type": "code",
   "execution_count": null,
   "metadata": {},
   "outputs": [],
   "source": [
    "min_mapped, max_mapped, min_validation, max_validation = get_mapping_validation_dates(db, nb_days)\n",
    "fig, ax = plt.subplots(nrows=1, ncols=1, figsize=(10, 10), dpi=dpi, sharex=True)\n",
    "ax.plot([start, start + pd.Timedelta(days=nb_days)], [0, 0], linewidth=30, color='black')\n",
    "ax.plot([start + pd.Timedelta(days=min_mapped), start + pd.Timedelta(days=max_mapped)], [0-0.15, 0-0.15],\n",
    "        linewidth=30, color=(254/255., 231/255., 156/255.))\n",
    "ax.plot([start + pd.Timedelta(days=min_validation), start + pd.Timedelta(days=max_validation)], [0-0.3, 0-0.3],\n",
    "        linewidth=30, color=(152/255., 203/255., 151/255.))\n",
    "ax.plot([start, start + pd.Timedelta(days=nb_days)], [-1, -1], linewidth=30, color='black')\n",
    "ax.text(start, 0+0.15, db.get_project_name(), fontsize=16)\n",
    "ax.text(start, -1+0.15, db.get_project_name(), fontsize=16)\n",
    "ax.set_xlabel('Date', fontsize=16)\n",
    "for item in ([ax.title, ax.xaxis.label, ax.yaxis.label] +\n",
    "             ax.get_xticklabels() + ax.get_yticklabels()):\n",
    "    item.set_fontsize(16)\n",
    "ax.get_yaxis().set_visible(False)"
   ]
  },
  {
   "cell_type": "code",
   "execution_count": null,
   "metadata": {
    "collapsed": true
   },
   "outputs": [],
   "source": [
    "projects = ['5504', '5848', '5889', '5654', '5861']"
   ]
  },
  {
   "cell_type": "code",
   "execution_count": null,
   "metadata": {},
   "outputs": [],
   "source": [
    "fig, ax = plt.subplots(nrows=1, ncols=1, figsize=(10, 10), dpi=dpi, sharex=True)\n",
    "i = 0\n",
    "for project_id in projects:\n",
    "    db = Database(project_id)\n",
    "    start = db.get_start_date()\n",
    "    try:\n",
    "        nb_days = compute_nb_days(db, start)\n",
    "        \n",
    "        ax.plot([start, start + pd.Timedelta(days=nb_days)], [i, i], linewidth=30, color='black')\n",
    "        ax.text(start - pd.Timedelta(days=15), i + 0.15, db.get_project_name(), fontsize=16)\n",
    "        \n",
    "        min_mapped, max_mapped, min_validation, max_validation = get_mapping_validation_dates(db, nb_days)\n",
    "        \n",
    "        ax.plot([start + pd.Timedelta(days=min_mapped), start + pd.Timedelta(days=max_mapped)], [i - 0.15, i - 0.15],\n",
    "        linewidth=30, color=(254/255., 231/255., 156/255.))\n",
    "        ax.text(start + pd.Timedelta(days=min_mapped), i - 0.15, f'Mapping ({max_mapped - min_mapped} days)', fontsize=16)\n",
    "        \n",
    "        ax.plot([start + pd.Timedelta(days=min_validation), start + pd.Timedelta(days=max_validation)], [i - 0.3, i - 0.3],\n",
    "        linewidth=30, color=(152/255., 203/255., 151/255.))\n",
    "        ax.text(start + pd.Timedelta(days=min_validation), i - 0.3,\n",
    "                f'Validation ({max_validation - min_validation} days)', fontsize=16)\n",
    "\n",
    "        ax.set_xlabel('Date', fontsize=16)\n",
    "        for item in ([ax.title, ax.xaxis.label, ax.yaxis.label] +\n",
    "                     ax.get_xticklabels() + ax.get_yticklabels()):\n",
    "            item.set_fontsize(16)\n",
    "        i += 1\n",
    "    except:\n",
    "        print(f'Error with project_id={project_id}')\n",
    "        pass\n",
    "ax.get_yaxis().set_visible(False)\n",
    "plt.savefig('../data/projects.png', dpi=dpi)"
   ]
  },
  {
   "cell_type": "code",
   "execution_count": null,
   "metadata": {
    "collapsed": true
   },
   "outputs": [],
   "source": []
  }
 ],
 "metadata": {
  "kernelspec": {
   "display_name": "Python 3",
   "language": "python",
   "name": "python3"
  },
  "language_info": {
   "codemirror_mode": {
    "name": "ipython",
    "version": 3
   },
   "file_extension": ".py",
   "mimetype": "text/x-python",
   "name": "python",
   "nbconvert_exporter": "python",
   "pygments_lexer": "ipython3",
   "version": "3.6.2"
  }
 },
 "nbformat": 4,
 "nbformat_minor": 2
}
