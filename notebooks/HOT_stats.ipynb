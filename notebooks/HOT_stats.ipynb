{
 "cells": [
  {
   "cell_type": "code",
   "execution_count": null,
   "metadata": {
    "collapsed": true
   },
   "outputs": [],
   "source": [
    "import numpy as np\n",
    "import pandas as pd\n",
    "\n",
    "import matplotlib.pyplot as plt\n",
    "%matplotlib inline"
   ]
  },
  {
   "cell_type": "code",
   "execution_count": null,
   "metadata": {
    "collapsed": true
   },
   "outputs": [],
   "source": [
    "%run ../tasking_manager_stats/data_management\n",
    "%run ../tasking_manager_stats/map_tools"
   ]
  },
  {
   "cell_type": "code",
   "execution_count": null,
   "metadata": {
    "collapsed": true
   },
   "outputs": [],
   "source": [
    "project_id = 5889"
   ]
  },
  {
   "cell_type": "code",
   "execution_count": null,
   "metadata": {
    "collapsed": true
   },
   "outputs": [],
   "source": [
    "db = Database(project_id)"
   ]
  },
  {
   "cell_type": "code",
   "execution_count": null,
   "metadata": {},
   "outputs": [],
   "source": [
    "start = db.get_start_date()\n",
    "start"
   ]
  },
  {
   "cell_type": "code",
   "execution_count": null,
   "metadata": {},
   "outputs": [],
   "source": [
    "nb_days = compute_nb_days(db, start)\n",
    "nb_days"
   ]
  },
  {
   "cell_type": "code",
   "execution_count": null,
   "metadata": {
    "collapsed": true
   },
   "outputs": [],
   "source": [
    "day_duration = np.zeros(nb_days + 1)\n",
    "cumulative_day_task = np.zeros(nb_days + 1)\n",
    "unvalidated_tasks = []"
   ]
  },
  {
   "cell_type": "code",
   "execution_count": null,
   "metadata": {
    "collapsed": true
   },
   "outputs": [],
   "source": [
    "def add_task_validation_spent_time(task_data, day_duration):\n",
    "    for task_hist in task_data['taskHistory']:\n",
    "        if task_hist['action'] == 'LOCKED_FOR_VALIDATION':\n",
    "            date = pd.to_datetime(task_hist['actionDate']).date()\n",
    "            day = (date - start).days\n",
    "\n",
    "            date_duration = pd.to_datetime(task_hist['actionText'])\n",
    "            duration = date_duration.second + 60 * date_duration.minute + 3600 * date_duration.hour\n",
    "\n",
    "            day_duration[day] += duration"
   ]
  },
  {
   "cell_type": "code",
   "execution_count": null,
   "metadata": {
    "collapsed": true
   },
   "outputs": [],
   "source": [
    "def add_task_validation_status(db, task_id, cumulative_day_task, unvalidated_tasks):\n",
    "    \n",
    "    task_validated = np.zeros(nb_days + 1)\n",
    "    for task_hist in reversed(db.get_task_history()[str(task_id)]['taskHistory']):\n",
    "        date = pd.to_datetime(task_hist['actionDate']).date()\n",
    "        day = (date - start).days\n",
    "        if task_hist['actionText'] == 'VALIDATED':\n",
    "            task_validated[day:] = 1\n",
    "    cumulative_day_task += task_validated\n",
    "    \n",
    "    if task_validated.max() == 0:\n",
    "        unvalidated_tasks.append(task_id) "
   ]
  },
  {
   "cell_type": "code",
   "execution_count": null,
   "metadata": {
    "collapsed": true
   },
   "outputs": [],
   "source": [
    "for task_id in db.get_task_ids():\n",
    "    add_task_validation_spent_time(db.get_task_history()[str(task_id)], day_duration)\n",
    "    add_task_validation_status(db, task_id, cumulative_day_task, unvalidated_tasks)"
   ]
  },
  {
   "cell_type": "code",
   "execution_count": null,
   "metadata": {},
   "outputs": [],
   "source": [
    "day_duration"
   ]
  },
  {
   "cell_type": "code",
   "execution_count": null,
   "metadata": {},
   "outputs": [],
   "source": [
    "cumulative_day_task"
   ]
  },
  {
   "cell_type": "code",
   "execution_count": null,
   "metadata": {},
   "outputs": [],
   "source": [
    "unvalidated_tasks"
   ]
  },
  {
   "cell_type": "code",
   "execution_count": null,
   "metadata": {},
   "outputs": [],
   "source": [
    "day_duration.sum() / 3600.0"
   ]
  },
  {
   "cell_type": "code",
   "execution_count": null,
   "metadata": {
    "collapsed": true
   },
   "outputs": [],
   "source": [
    "times = []\n",
    "for day in range(nb_days + 1):\n",
    "    times.append(start + pd.Timedelta(days=day))"
   ]
  },
  {
   "cell_type": "code",
   "execution_count": null,
   "metadata": {
    "collapsed": true
   },
   "outputs": [],
   "source": [
    "dpi = 50"
   ]
  },
  {
   "cell_type": "code",
   "execution_count": null,
   "metadata": {},
   "outputs": [],
   "source": [
    "fig, ax = plt.subplots(nrows=1, ncols=1, figsize=(10, 10), dpi=dpi, sharex=True)\n",
    "ax.plot(times, day_duration / 3600.0, linewidth=2)\n",
    "ax.set_title('Validation spent time in #' + str(project_id) + f' (total = {day_duration.sum() / 3600.0:.3} h)', fontsize=16)\n",
    "ax.set_xlabel('Date', fontsize=16)\n",
    "ax.set_ylabel('Time spent in hours', fontsize=16)\n",
    "for item in ([ax.title, ax.xaxis.label, ax.yaxis.label] +\n",
    "             ax.get_xticklabels() + ax.get_yticklabels()):\n",
    "    item.set_fontsize(16)\n",
    "plt.savefig(str(project_id) + '_validation_spent_time', dpi=dpi)"
   ]
  },
  {
   "cell_type": "code",
   "execution_count": null,
   "metadata": {},
   "outputs": [],
   "source": [
    "fig, ax = plt.subplots(nrows=1, ncols=1, figsize=(10, 10), dpi=dpi, sharex=True)\n",
    "ax.plot(times, day_duration.cumsum() / 3600.0, linewidth=2)\n",
    "ax.set_title('Cumulative validation spent time in #' + str(project_id) + f' (total = {day_duration.sum() / 3600.0:.3} h)', fontsize=16)\n",
    "ax.set_xlabel('Date', fontsize=16)\n",
    "ax.set_ylabel('Time spent in hours', fontsize=16)\n",
    "for item in ([ax.title, ax.xaxis.label, ax.yaxis.label] +\n",
    "             ax.get_xticklabels() + ax.get_yticklabels()):\n",
    "    item.set_fontsize(16)\n",
    "plt.savefig(str(project_id) + '_cumulative_validation_spent_time', dpi=dpi)"
   ]
  },
  {
   "cell_type": "code",
   "execution_count": null,
   "metadata": {},
   "outputs": [],
   "source": [
    "fig, ax = plt.subplots(nrows=1, ncols=1, figsize=(10, 10), dpi=dpi, sharex=True)\n",
    "ax.plot(times, day_duration.cumsum() / 3600.0, linewidth=2)\n",
    "\n",
    "ax2 = ax.twinx()\n",
    "color = 'tab:green'\n",
    "ax2.set_ylabel('Number of validated tasks', color=color)\n",
    "ax2.plot(times, cumulative_day_task, color=color)\n",
    "ax2.tick_params(axis='y', labelcolor=color)\n",
    "\n",
    "title = 'Cumulative validation spent time in #' + str(project_id) + f' (total = {day_duration.sum() / 3600.0:.3} h)'\n",
    "title = title + f'\\n{int(cumulative_day_task[-1])} validated tasks on {len(db.get_task_ids())}'\n",
    "ax.set_title(title)\n",
    "ax.set_xlabel('Date')\n",
    "ax.set_ylabel('Time spent in hours')\n",
    "for item in ([ax.title, ax.xaxis.label, ax.yaxis.label, ax2.yaxis.label] +\n",
    "             ax.get_xticklabels() + ax.get_yticklabels() +\n",
    "             ax2.get_xticklabels() + ax2.get_yticklabels()):\n",
    "    item.set_fontsize(16)\n",
    "plt.savefig(str(project_id) + '_cumulative_validation_spent_time_and_validated_tasks', dpi=dpi)"
   ]
  },
  {
   "cell_type": "code",
   "execution_count": null,
   "metadata": {
    "collapsed": true
   },
   "outputs": [],
   "source": []
  }
 ],
 "metadata": {
  "kernelspec": {
   "display_name": "Python 3",
   "language": "python",
   "name": "python3"
  },
  "language_info": {
   "codemirror_mode": {
    "name": "ipython",
    "version": 3
   },
   "file_extension": ".py",
   "mimetype": "text/x-python",
   "name": "python",
   "nbconvert_exporter": "python",
   "pygments_lexer": "ipython3",
   "version": "3.6.2"
  }
 },
 "nbformat": 4,
 "nbformat_minor": 2
}
