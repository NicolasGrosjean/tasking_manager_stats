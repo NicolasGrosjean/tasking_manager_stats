{
 "cells": [
  {
   "cell_type": "code",
   "execution_count": null,
   "metadata": {},
   "outputs": [],
   "source": [
    "import numpy as np\n",
    "import os\n",
    "import pandas as pd\n",
    "import plotly.express as px"
   ]
  },
  {
   "cell_type": "code",
   "execution_count": null,
   "metadata": {},
   "outputs": [],
   "source": [
    "%run ../tasking_manager_stats/data_management\n",
    "%run ../tasking_manager_stats/map_tools"
   ]
  },
  {
   "cell_type": "code",
   "execution_count": null,
   "metadata": {},
   "outputs": [],
   "source": [
    "if os.name == \"nt\":\n",
    "    encoding = 'ANSI' # Windows\n",
    "else:\n",
    "    encoding = 'utf-8' # Linux\n",
    "print(f\"Chosen encoding : {encoding}\")"
   ]
  },
  {
   "cell_type": "markdown",
   "metadata": {},
   "source": [
    "## Load data"
   ]
  },
  {
   "cell_type": "code",
   "execution_count": null,
   "metadata": {},
   "outputs": [],
   "source": [
    "df = pd.read_csv(os.path.join(get_data_dir(), 'merged_stats.csv'), encoding=encoding)\n",
    "df.head()"
   ]
  },
  {
   "cell_type": "markdown",
   "metadata": {},
   "source": [
    "## Filter on CartONG projects\n",
    "\n",
    "\n",
    "<font color='red'>WARNING: File to update</font>\n",
    "\n",
    "The next section can be runned without it but we count data from projects where CartONG intervene only in a mapathon."
   ]
  },
  {
   "cell_type": "code",
   "execution_count": null,
   "metadata": {},
   "outputs": [],
   "source": [
    "raw_projects = pd.read_csv(os.path.join(get_data_dir(), 'Orga_Missing_Maps_CartONG_2022_04_24.csv'), header=1)['N° Projet']\n",
    "projects = []\n",
    "for s in raw_projects:\n",
    "    try:\n",
    "        projects.append(int(s))\n",
    "    except:\n",
    "        pass\n",
    "df = df[df['Project'].isin(projects)]"
   ]
  },
  {
   "cell_type": "markdown",
   "metadata": {},
   "source": [
    "## Filter on a year"
   ]
  },
  {
   "cell_type": "code",
   "execution_count": null,
   "metadata": {},
   "outputs": [],
   "source": [
    "year = 2021"
   ]
  },
  {
   "cell_type": "code",
   "execution_count": null,
   "metadata": {},
   "outputs": [],
   "source": [
    "os.makedirs(str(year), exist_ok=True)"
   ]
  },
  {
   "cell_type": "code",
   "execution_count": null,
   "metadata": {},
   "outputs": [],
   "source": [
    "df = df[df[\"Year\"] == year]"
   ]
  },
  {
   "cell_type": "code",
   "execution_count": null,
   "metadata": {},
   "outputs": [],
   "source": [
    "df.to_csv(os.path.join(str(year), \"raw_data.csv\"), index=None, encoding=encoding)"
   ]
  },
  {
   "cell_type": "markdown",
   "metadata": {},
   "source": [
    "## Remove a week of Nuit de la Géo"
   ]
  },
  {
   "cell_type": "code",
   "execution_count": null,
   "metadata": {},
   "outputs": [],
   "source": [
    "# ndg_month = 4\n",
    "# ndg_day = 8\n",
    "# df = df[(df['Month'] != ndg_month) | (~df['Day'].isin(np.arange(ndg_day, ndg_day + 8)))]"
   ]
  },
  {
   "cell_type": "markdown",
   "metadata": {},
   "source": [
    "## New contributors by day"
   ]
  },
  {
   "cell_type": "code",
   "execution_count": null,
   "metadata": {},
   "outputs": [],
   "source": [
    "date_cols = [\"Year\", \"Month\", \"Day\"]\n",
    "df['Date'] = pd.to_datetime(df[date_cols].apply(lambda x: '-'.join(x.values.astype(str)), axis=\"columns\"))\n",
    "df.head()"
   ]
  },
  {
   "cell_type": "code",
   "execution_count": null,
   "metadata": {},
   "outputs": [],
   "source": [
    "author_first_date = df[[\"Author\", \"Date\"]].groupby(\"Author\").min()\n",
    "author_first_date.head()"
   ]
  },
  {
   "cell_type": "code",
   "execution_count": null,
   "metadata": {},
   "outputs": [],
   "source": [
    "contributors_first_date = author_first_date.reset_index().groupby('Date').count().cumsum()\n",
    "contributors_first_date.head()"
   ]
  },
  {
   "cell_type": "code",
   "execution_count": null,
   "metadata": {},
   "outputs": [],
   "source": [
    "fig = px.line(contributors_first_date.reset_index(), x=\"Date\", y=\"Author\")\n",
    "fig.update_xaxes(title_text = f'Date of first contribution in {year}')\n",
    "fig.update_yaxes(title_text = \"Contributors number\")\n",
    "fig.update_layout(title={'text':f'Cumulative sum of contributors in {year}'})"
   ]
  },
  {
   "cell_type": "markdown",
   "metadata": {},
   "source": [
    "## Duration by date"
   ]
  },
  {
   "cell_type": "code",
   "execution_count": null,
   "metadata": {},
   "outputs": [],
   "source": [
    "df[\"Duration_h\"] = df[\"Duration\"] / 3600"
   ]
  },
  {
   "cell_type": "code",
   "execution_count": null,
   "metadata": {},
   "outputs": [],
   "source": [
    "fig = px.bar(df[[\"Month\", \"Duration_h\"]].groupby(\"Month\").sum().reset_index(), x=\"Month\", y=\"Duration_h\")\n",
    "fig.update_xaxes(title_text = 'Month')\n",
    "fig.update_yaxes(title_text = \"Contribution time in hours\")\n",
    "fig.update_layout(title={'text':f'Contribution time by month in {year}'})"
   ]
  },
  {
   "cell_type": "code",
   "execution_count": null,
   "metadata": {},
   "outputs": [],
   "source": [
    "df2 = df[[\"Month\", \"Day\", \"Hour\", \"Duration_h\"]].copy()\n",
    "# Convert UTC to FR-Paris\n",
    "df2['Hour'] += 1\n",
    "df2.loc[(df2[\"Month\"] < 11) & (df2[\"Month\"] > 3), \"Hour\"] += 1\n",
    "# Offset for better graph\n",
    "df2['Hour'] -= 0.5\n",
    "fig = px.bar(df2.groupby(\"Hour\").sum().reset_index(), x=\"Hour\", y=\"Duration_h\")\n",
    "fig.update_xaxes(title_text = 'Hour of the Day')\n",
    "fig.update_yaxes(title_text = \"Contribution time in hours\")\n",
    "fig.update_layout(title={'text':f'Contribution time by hour of the day in {year}'})"
   ]
  },
  {
   "cell_type": "code",
   "execution_count": null,
   "metadata": {},
   "outputs": [],
   "source": [
    "df[\"DayOfWeek\"] = df[\"Date\"].apply(lambda dt: dt.weekday())\n",
    "df.head()"
   ]
  },
  {
   "cell_type": "code",
   "execution_count": null,
   "metadata": {},
   "outputs": [],
   "source": [
    "fig = px.bar(df[[\"DayOfWeek\", \"Duration_h\"]].groupby(\"DayOfWeek\").sum().reset_index(), x=\"DayOfWeek\", y=\"Duration_h\")\n",
    "fig.update_xaxes(title_text = 'DayOfWeek')\n",
    "fig.update_yaxes(title_text = \"Contribution time in hours\")\n",
    "fig.update_layout(title={'text':f'Contribution time by day of week in {year}'})\n",
    "fig.update_xaxes(tickmode=\"array\",\n",
    "                 tickvals=np.arange(7),\n",
    "                 ticktext=[\"Monday\", \"Tuesday\", \"Wednesday\", \"Thursday\", \"Friday\", \"Saturday\", \"Sunday\"])"
   ]
  },
  {
   "cell_type": "markdown",
   "metadata": {},
   "source": [
    "## Contributors by project"
   ]
  },
  {
   "cell_type": "code",
   "execution_count": null,
   "metadata": {},
   "outputs": [],
   "source": [
    "df_pro_user = df[['Project', 'Author']].drop_duplicates()\n",
    "df_pro_user.head()"
   ]
  },
  {
   "cell_type": "code",
   "execution_count": null,
   "metadata": {},
   "outputs": [],
   "source": [
    "g = df_pro_user.groupby('Author').count()\n",
    "g[g['Project'] >= 10].sort_values('Project', ascending=False)"
   ]
  },
  {
   "cell_type": "code",
   "execution_count": null,
   "metadata": {},
   "outputs": [],
   "source": [
    "more_than_three_projects = (g['Project'] >= 3).sum()\n",
    "print(f\"{len(g)} contributors in {year}\")\n",
    "print(f\"{more_than_three_projects} contributors on 3 projects or more in {year} ({more_than_three_projects/len(g):.0%}) \")"
   ]
  },
  {
   "cell_type": "code",
   "execution_count": null,
   "metadata": {},
   "outputs": [],
   "source": [
    "g.sort_values('Project', ascending=False).reset_index().to_csv(os.path.join(str(year), \"Contributor_by_project_number.csv\"), index=None, encoding=encoding)"
   ]
  },
  {
   "cell_type": "markdown",
   "metadata": {},
   "source": [
    "### Restriction to mapping"
   ]
  },
  {
   "cell_type": "code",
   "execution_count": null,
   "metadata": {},
   "outputs": [],
   "source": [
    "df_pro_user_map = df[df['Type'] == 'MAPPING'][['Project', 'Author']].drop_duplicates()\n",
    "df_pro_user_map.head()"
   ]
  },
  {
   "cell_type": "code",
   "execution_count": null,
   "metadata": {},
   "outputs": [],
   "source": [
    "g_map = df_pro_user_map.groupby('Author').count()\n",
    "g_map[g_map['Project'] > 1].sort_values('Project', ascending=False).head(10)"
   ]
  },
  {
   "cell_type": "code",
   "execution_count": null,
   "metadata": {},
   "outputs": [],
   "source": [
    "map_more_than_three_projects = (g_map['Project'] >= 3).sum()\n",
    "print(f\"{len(g_map)} mapping contributors in {year}\")\n",
    "print(f\"{map_more_than_three_projects} mapping contributors on 3 projects or more in {year} ({map_more_than_three_projects/len(g_map):.0%}) \")"
   ]
  },
  {
   "cell_type": "markdown",
   "metadata": {},
   "source": [
    "### Restriction to validation"
   ]
  },
  {
   "cell_type": "code",
   "execution_count": null,
   "metadata": {},
   "outputs": [],
   "source": [
    "df_pro_user_valid = df[df['Type'] == 'VALIDATION'][['Project', 'Author']].drop_duplicates()\n",
    "df_pro_user_valid.head()"
   ]
  },
  {
   "cell_type": "code",
   "execution_count": null,
   "metadata": {},
   "outputs": [],
   "source": [
    "g_valid = df_pro_user_valid.groupby('Author').count()\n",
    "g_valid[g_valid['Project'] > 1].sort_values('Project', ascending=False).head(10)"
   ]
  },
  {
   "cell_type": "code",
   "execution_count": null,
   "metadata": {},
   "outputs": [],
   "source": [
    "valid_more_than_three_projects = (g_valid['Project'] >= 3).sum()\n",
    "print(f\"{len(g_valid)} validators in {year}\")\n",
    "print(f\"{valid_more_than_three_projects} validators on 3 projects or more in {year} ({valid_more_than_three_projects/len(g_valid):.0%}) \")"
   ]
  },
  {
   "cell_type": "code",
   "execution_count": null,
   "metadata": {},
   "outputs": [],
   "source": [
    "g_valid.sort_values('Project', ascending=False).reset_index().to_csv(os.path.join(str(year), \"Validator_by_project_number.csv\"), index=None, encoding=encoding)"
   ]
  },
  {
   "cell_type": "markdown",
   "metadata": {},
   "source": [
    "### Ideas  :\n",
    "- Keep only people who have participated to a mapathon\n",
    "- Compute the number of mapathons by people\n",
    "- Compute the number of contributions after a mapathons (time, tasks, projects)"
   ]
  },
  {
   "cell_type": "markdown",
   "metadata": {},
   "source": [
    "## Number of day contribution"
   ]
  },
  {
   "cell_type": "code",
   "execution_count": null,
   "metadata": {},
   "outputs": [],
   "source": [
    "df_day = df[[\"Author\", \"Year\", \"Month\", \"Day\"]].drop_duplicates()[[\"Author\",\"Day\"]].groupby(\"Author\").count()\n",
    "df_day[df_day[\"Day\"] > 30].sort_values(\"Day\", ascending=False)"
   ]
  },
  {
   "cell_type": "code",
   "execution_count": null,
   "metadata": {},
   "outputs": [],
   "source": [
    "contrib_5_days = (df_day['Day'] >= 5).sum()\n",
    "print(f\"{contrib_5_days} contributors on 5 days or more in {year} ({contrib_5_days/len(df_day):.1%})\")"
   ]
  },
  {
   "cell_type": "code",
   "execution_count": null,
   "metadata": {},
   "outputs": [],
   "source": [
    "df_day_map = df[df[\"Type\"] == \"MAPPING\"][[\"Author\", \"Year\", \"Month\", \"Day\"]].drop_duplicates()[[\"Author\",\"Day\"]].groupby(\"Author\").count()\n",
    "df_day_map[df_day_map[\"Day\"] > 30].sort_values(\"Day\", ascending=False)"
   ]
  },
  {
   "cell_type": "code",
   "execution_count": null,
   "metadata": {},
   "outputs": [],
   "source": [
    "map_5_days = (df_day_map['Day'] >= 5).sum()\n",
    "print(f\"{map_5_days} mapping contributors on 5 days or more in {year} ({map_5_days/len(df_day_map):.1%})\")"
   ]
  },
  {
   "cell_type": "code",
   "execution_count": null,
   "metadata": {},
   "outputs": [],
   "source": [
    "df_day_valid = df[df[\"Type\"] == \"VALIDATION\"][[\"Author\", \"Year\", \"Month\", \"Day\"]].drop_duplicates()[[\"Author\",\"Day\"]].groupby(\"Author\").count()\n",
    "df_day_valid[df_day_valid[\"Day\"] > 30].sort_values(\"Day\", ascending=False)"
   ]
  },
  {
   "cell_type": "code",
   "execution_count": null,
   "metadata": {},
   "outputs": [],
   "source": [
    "valid_5_days = (df_day_valid['Day'] >= 5).sum()\n",
    "print(f\"{valid_5_days} validators on 5 days or more in 2021 ({valid_5_days/len(df_day_valid):.1%})\")"
   ]
  },
  {
   "cell_type": "code",
   "execution_count": null,
   "metadata": {},
   "outputs": [],
   "source": [
    "df_day.sort_values(\"Day\", ascending=False).reset_index().to_csv(os.path.join(str(year), \"Contributor_by_contribution_days.csv\"), index=None, encoding=encoding)"
   ]
  },
  {
   "cell_type": "markdown",
   "metadata": {},
   "source": [
    "## Contributions"
   ]
  },
  {
   "cell_type": "code",
   "execution_count": null,
   "metadata": {},
   "outputs": [],
   "source": [
    "total_dur = df['Duration'].sum() / 3600\n",
    "total_map = df[df['Type'] == 'MAPPING']['Duration'].sum() / 3600\n",
    "total_val = df[df['Type'] == 'VALIDATION']['Duration'].sum() / 3600\n",
    "print(f\"{total_dur:.5} hours of contributions ({total_dur/7:.4} working days, {total_dur/7/229:.3} ETP)\")\n",
    "print(f\"{total_map:.5} hours of mapping ({total_map/7:.4} working days, {total_map/7/229:.3} ETP)\")\n",
    "print(f\"{total_val:.5} hours of validation ({total_val/7:.4} working days, {total_val/7/229:.3} ETP)\")"
   ]
  },
  {
   "cell_type": "code",
   "execution_count": null,
   "metadata": {},
   "outputs": [],
   "source": [
    "print(f\"{len(df['Project'].unique())} projects\")"
   ]
  },
  {
   "cell_type": "code",
   "execution_count": null,
   "metadata": {},
   "outputs": [],
   "source": [
    "validators = df[df['Type'] == 'VALIDATION'][\"Author\"].unique()\n",
    "mappers = df[df['Type'] == 'MAPPING'][\"Author\"].unique()\n",
    "print(\"Validators who are not mappers\")\n",
    "for validator in validators:\n",
    "    if validator not in mappers:\n",
    "        print(validator)"
   ]
  },
  {
   "cell_type": "markdown",
   "metadata": {},
   "source": [
    "## Duration by project"
   ]
  },
  {
   "cell_type": "code",
   "execution_count": null,
   "metadata": {},
   "outputs": [],
   "source": [
    "project_dur = df[[\"Project\", \"Duration\"]].groupby(\"Project\").sum()\n",
    "project_dur[\"Duration_Hour\"] = project_dur[\"Duration\"] / 3600\n",
    "project_dur[\"Duration_Working_Days\"] = project_dur[\"Duration_Hour\"] / 7\n",
    "project_dur[\"Duration_Working_Days\"] = project_dur[\"Duration_Hour\"] / 7\n",
    "project_dur.sort_values(\"Duration\", ascending=False).head(10)"
   ]
  },
  {
   "cell_type": "code",
   "execution_count": null,
   "metadata": {},
   "outputs": [],
   "source": [
    "project_dur.sort_values(\"Duration\").head(10)"
   ]
  },
  {
   "cell_type": "markdown",
   "metadata": {
    "collapsed": true
   },
   "source": [
    "# Export key stats"
   ]
  },
  {
   "cell_type": "code",
   "execution_count": null,
   "metadata": {},
   "outputs": [],
   "source": [
    "stats = {\n",
    "    \"contrib\": len(g),\n",
    "    \"contrib_3_or_more_projects\": int(more_than_three_projects),\n",
    "    \"map_contrib\": len(g_map),\n",
    "    \"map_contrib_3_or_more_projects\": int(map_more_than_three_projects),\n",
    "    \"valid_contrib\": len(g_valid),\n",
    "    \"valid_contrib_3_or_more_projects\": int(valid_more_than_three_projects),\n",
    "    \"contrib_5_days_or_more\": int(contrib_5_days),\n",
    "    \"map_contrib_5_days_or_more\": int(map_5_days),\n",
    "    \"valid_contrib_5_days_or_more\": int(valid_5_days)\n",
    "}"
   ]
  },
  {
   "cell_type": "code",
   "execution_count": null,
   "metadata": {},
   "outputs": [],
   "source": [
    "with open(os.path.join(str(year), \"stats.json\"), \"w\") as f:\n",
    "    json.dump(stats, f)"
   ]
  },
  {
   "cell_type": "code",
   "execution_count": null,
   "metadata": {},
   "outputs": [],
   "source": []
  }
 ],
 "metadata": {
  "kernelspec": {
   "display_name": "Python 3",
   "language": "python",
   "name": "python3"
  },
  "language_info": {
   "codemirror_mode": {
    "name": "ipython",
    "version": 3
   },
   "file_extension": ".py",
   "mimetype": "text/x-python",
   "name": "python",
   "nbconvert_exporter": "python",
   "pygments_lexer": "ipython3",
   "version": "3.6.2"
  }
 },
 "nbformat": 4,
 "nbformat_minor": 2
}
