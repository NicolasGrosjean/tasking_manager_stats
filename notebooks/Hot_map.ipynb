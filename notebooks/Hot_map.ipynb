{
 "cells": [
  {
   "cell_type": "code",
   "execution_count": null,
   "metadata": {
    "collapsed": true
   },
   "outputs": [],
   "source": [
    "import os\n",
    "import json\n",
    "import time\n",
    "import random\n",
    "from tqdm import tqdm\n",
    "import textwrap\n",
    "import requests\n",
    "from PIL import Image\n",
    "import numpy as np\n",
    "import pandas as pd\n",
    "import matplotlib.patches as patches\n",
    "import matplotlib.pyplot as plt\n",
    "%matplotlib inline"
   ]
  },
  {
   "cell_type": "code",
   "execution_count": null,
   "metadata": {
    "collapsed": true
   },
   "outputs": [],
   "source": [
    "#project_id = 5795\n",
    "project_id = 5654"
   ]
  },
  {
   "cell_type": "markdown",
   "metadata": {},
   "source": [
    "# Data downloading and preparation"
   ]
  },
  {
   "cell_type": "code",
   "execution_count": null,
   "metadata": {},
   "outputs": [],
   "source": [
    "url = 'https://tasks.hotosm.org/api/v1/project/' + str(project_id)\n",
    "headers = {'Accept': 'application/json', 'Authorization': 'Token sessionTokenHere==', 'Accept-Language': 'en'}\n",
    "r = requests.get(url, headers=headers)\n",
    "%time data_project = r.json()"
   ]
  },
  {
   "cell_type": "markdown",
   "metadata": {},
   "source": [
    "### List task ids and store them"
   ]
  },
  {
   "cell_type": "code",
   "execution_count": null,
   "metadata": {
    "collapsed": true
   },
   "outputs": [],
   "source": [
    "tasks_ids = list()\n",
    "for feature in data_project['tasks']['features']:\n",
    "    tasks_ids.append(feature['properties']['taskId'])\n",
    "data_project['tasks_ids'] = tasks_ids"
   ]
  },
  {
   "cell_type": "code",
   "execution_count": null,
   "metadata": {},
   "outputs": [],
   "source": [
    "tasks_ids[:10]"
   ]
  },
  {
   "cell_type": "markdown",
   "metadata": {},
   "source": [
    "### Add some summary data"
   ]
  },
  {
   "cell_type": "code",
   "execution_count": null,
   "metadata": {
    "collapsed": true
   },
   "outputs": [],
   "source": [
    "url = 'https://tasks.hotosm.org/api/v1/project/' + str(project_id) + '/summary'    \n",
    "r = requests.get(url, headers=headers)\n",
    "summary = r.json()"
   ]
  },
  {
   "cell_type": "code",
   "execution_count": null,
   "metadata": {},
   "outputs": [],
   "source": [
    "summary"
   ]
  },
  {
   "cell_type": "code",
   "execution_count": null,
   "metadata": {
    "collapsed": true
   },
   "outputs": [],
   "source": [
    "for key in summary:\n",
    "    if key not in data_project.keys():\n",
    "        data_project[key] = summary[key]"
   ]
  },
  {
   "cell_type": "markdown",
   "metadata": {},
   "source": [
    "### Add task history data"
   ]
  },
  {
   "cell_type": "code",
   "execution_count": null,
   "metadata": {},
   "outputs": [],
   "source": [
    "task_history = dict()\n",
    "missing_taks = list()\n",
    "for task_id in tqdm(tasks_ids):\n",
    "    url = 'https://tasks.hotosm.org/api/v1/project/' + str(project_id) + '/task/' + str(task_id)    \n",
    "    r = requests.get(url, headers=headers)\n",
    "    if r.ok :\n",
    "        task_history[task_id] = r.json()\n",
    "    else :\n",
    "        missing_taks.append(task_id)\n",
    "    time.sleep(0.5 + random.random())\n",
    "print(f'{len(missing_taks)} missing tasks')"
   ]
  },
  {
   "cell_type": "code",
   "execution_count": null,
   "metadata": {
    "collapsed": true
   },
   "outputs": [],
   "source": [
    "data_project['task_history'] = task_history"
   ]
  },
  {
   "cell_type": "markdown",
   "metadata": {},
   "source": [
    "### Store data"
   ]
  },
  {
   "cell_type": "code",
   "execution_count": null,
   "metadata": {
    "collapsed": true
   },
   "outputs": [],
   "source": [
    "with open(os.path.join('..', 'data', str(project_id) + '.json'), 'w') as outfile: \n",
    "    json.dump(data_project, outfile)"
   ]
  },
  {
   "cell_type": "markdown",
   "metadata": {
    "collapsed": true
   },
   "source": [
    "# Mapping"
   ]
  },
  {
   "cell_type": "markdown",
   "metadata": {},
   "source": [
    "### Load data"
   ]
  },
  {
   "cell_type": "code",
   "execution_count": null,
   "metadata": {
    "collapsed": true
   },
   "outputs": [],
   "source": [
    "with open(os.path.join('..', 'data', str(project_id) + '.json')) as f:\n",
    "    data_project = json.load(f)"
   ]
  },
  {
   "cell_type": "code",
   "execution_count": null,
   "metadata": {
    "collapsed": true
   },
   "outputs": [],
   "source": [
    "priority_area =  data_project['priorityAreas'][0]"
   ]
  },
  {
   "cell_type": "code",
   "execution_count": null,
   "metadata": {
    "collapsed": true
   },
   "outputs": [],
   "source": [
    "start = pd.to_datetime(data_project['created']).date()"
   ]
  },
  {
   "cell_type": "code",
   "execution_count": null,
   "metadata": {},
   "outputs": [],
   "source": [
    "nb_days = 0\n",
    "task_history = data_project['task_history']\n",
    "for task_id in data_project['tasks_ids']:\n",
    "    date = pd.to_datetime(task_history[str(task_id)]['taskHistory'][0]['actionDate']).date()\n",
    "    day = (date - start).days\n",
    "    nb_days = max(nb_days, day)\n",
    "print(f'{nb_days} days')"
   ]
  },
  {
   "cell_type": "code",
   "execution_count": null,
   "metadata": {},
   "outputs": [],
   "source": [
    "locked_tasks = []\n",
    "for i in range(nb_days + 1):\n",
    "    locked_tasks.append(set())\n",
    "locked_tasks[0:10]"
   ]
  },
  {
   "cell_type": "code",
   "execution_count": null,
   "metadata": {
    "collapsed": true
   },
   "outputs": [],
   "source": [
    "tasks_states = dict()"
   ]
  },
  {
   "cell_type": "markdown",
   "metadata": {},
   "source": [
    "### Tasks data"
   ]
  },
  {
   "cell_type": "code",
   "execution_count": null,
   "metadata": {
    "collapsed": true
   },
   "outputs": [],
   "source": [
    "def get_task_states(task_data, locked_tasks, start, nb_days):\n",
    "    \"\"\"\n",
    "    Processed each history of a task to fill locked_tasks and return states.\n",
    "    \n",
    "    Return a numpy array indexed by days from start with the following values\n",
    "    * 0 : NOTHING\n",
    "    * 1 : MAPPED\n",
    "    * 2 : INVALIDATED\n",
    "    * 3 : VALIDATED\n",
    "    \"\"\"\n",
    "    task_states = np.zeros(nb_days + 1)\n",
    "    for task_hist in reversed(task_data['taskHistory']):\n",
    "        date = pd.to_datetime(task_hist['actionDate']).date()\n",
    "        day = (date - start).days\n",
    "        if task_hist['action'].startswith('LOCK'):\n",
    "            locked_tasks[day].add(task_data['taskId'])\n",
    "            continue\n",
    "        if task_hist['action'] != 'STATE_CHANGE':\n",
    "            continue\n",
    "        if task_hist['actionText'] == 'MAPPED':\n",
    "            task_states[day:] = 1\n",
    "            continue\n",
    "        if task_hist['actionText'] == 'INVALIDATED':\n",
    "            task_states[day:] = 2\n",
    "            continue\n",
    "        if task_hist['actionText'] == 'VALIDATED':\n",
    "            task_states[day:] = 3\n",
    "            continue\n",
    "        if task_hist['actionText'] == 'BADIMAGERY':\n",
    "            task_states[day:] = 4\n",
    "            continue\n",
    "    return task_states"
   ]
  },
  {
   "cell_type": "code",
   "execution_count": null,
   "metadata": {
    "collapsed": true,
    "scrolled": true
   },
   "outputs": [],
   "source": [
    "task_history = data_project['task_history']\n",
    "for task_id in data_project['tasks_ids']:\n",
    "    tasks_states[task_id] = get_task_states(task_history[str(task_id)], locked_tasks, start, nb_days)"
   ]
  },
  {
   "cell_type": "code",
   "execution_count": null,
   "metadata": {},
   "outputs": [],
   "source": [
    "tasks_states[data_project['tasks_ids'][0]]"
   ]
  },
  {
   "cell_type": "markdown",
   "metadata": {},
   "source": [
    "### Plotting"
   ]
  },
  {
   "cell_type": "code",
   "execution_count": null,
   "metadata": {
    "collapsed": true
   },
   "outputs": [],
   "source": [
    "cartong_logo = Image.open(os.path.join('..', 'data', 'CartONG_logo.png'))"
   ]
  },
  {
   "cell_type": "code",
   "execution_count": null,
   "metadata": {
    "collapsed": true
   },
   "outputs": [],
   "source": [
    "legend = Image.open(os.path.join('..', 'data', 'Legend.png'))"
   ]
  },
  {
   "cell_type": "code",
   "execution_count": null,
   "metadata": {
    "collapsed": true
   },
   "outputs": [],
   "source": [
    "data_dir = os.path.join('..', 'data', str(project_id))"
   ]
  },
  {
   "cell_type": "code",
   "execution_count": null,
   "metadata": {
    "collapsed": true
   },
   "outputs": [],
   "source": [
    "os.makedirs(data_dir, exist_ok=True)"
   ]
  },
  {
   "cell_type": "code",
   "execution_count": null,
   "metadata": {},
   "outputs": [],
   "source": [
    "for day in tqdm(range(nb_days + 1)):\n",
    "    for plot_lock in [True, False]:\n",
    "        fig, ax = plt.subplots(nrows=1, ncols=1, figsize=(10, 10), dpi=100, sharex=True)\n",
    "\n",
    "        for feature in data_project['tasks']['features']:\n",
    "            # Plot borders\n",
    "            arr = np.array(feature['geometry']['coordinates'][0][0]).transpose()\n",
    "            plt.plot(arr[0], arr[1], color='black')\n",
    "\n",
    "            # Plot locking or state\n",
    "            task_id = feature['properties']['taskId']\n",
    "            state = tasks_states[task_id][day]\n",
    "            if plot_lock and task_id in locked_tasks[day]:\n",
    "                ax.add_patch(patches.Polygon(arr.transpose(), color=(159/255., 188/255., 247/255.))) # blue\n",
    "                continue\n",
    "            if state == 1:\n",
    "                ax.add_patch(patches.Polygon(arr.transpose(), color=(254/255., 231/255., 156/255.))) # yellow\n",
    "                continue\n",
    "            if state == 2:\n",
    "                ax.add_patch(patches.Polygon(arr.transpose(), color=(245/255., 156/255., 178/255.))) # pink\n",
    "                continue\n",
    "            if state == 3:\n",
    "                ax.add_patch(patches.Polygon(arr.transpose(), color=(152/255., 203/255., 151/255.))) # green\n",
    "                continue\n",
    "            if state == 4:\n",
    "                ax.add_patch(patches.Polygon(arr.transpose(), color=(152/255., 152/255., 151/255.))) # black \n",
    "                continue\n",
    "\n",
    "        # Plot priority area\n",
    "        for priority_area in data_project['priorityAreas']:\n",
    "            ax.add_patch(patches.Polygon(priority_area['coordinates'][0], fill=False, color='r', lw=2))\n",
    "\n",
    "        str_day_title = (start + pd.Timedelta(days=day)).strftime('%d-%m-%Y')\n",
    "        title = '\\n'.join(textwrap.wrap(data_project['name'] + ' #' + str(project_id), 50)) + '\\n'+ str_day_title\n",
    "        ax.set_title(title, fontsize=16)\n",
    "        ax.axis('off')\n",
    "\n",
    "        # Save plot\n",
    "        str_day_file = (start + pd.Timedelta(days=day)).strftime('%Y-%m-%d')\n",
    "        suffix = '_2' if not plot_lock else ''\n",
    "        file_path = os.path.join(data_dir, str_day_file + suffix + '.png')\n",
    "        plt.savefig(file_path, dpi=100)\n",
    "        plt.close()\n",
    "\n",
    "        # Add CartONG logo\n",
    "        im = Image.open(file_path)\n",
    "        im.paste(cartong_logo, (0,0))\n",
    "        im.paste(legend, (0, 1000-legend.size[1]))\n",
    "        im.save(file_path)"
   ]
  },
  {
   "cell_type": "code",
   "execution_count": null,
   "metadata": {
    "collapsed": true
   },
   "outputs": [],
   "source": []
  }
 ],
 "metadata": {
  "kernelspec": {
   "display_name": "Python 3",
   "language": "python",
   "name": "python3"
  },
  "language_info": {
   "codemirror_mode": {
    "name": "ipython",
    "version": 3
   },
   "file_extension": ".py",
   "mimetype": "text/x-python",
   "name": "python",
   "nbconvert_exporter": "python",
   "pygments_lexer": "ipython3",
   "version": "3.6.2"
  }
 },
 "nbformat": 4,
 "nbformat_minor": 2
}
