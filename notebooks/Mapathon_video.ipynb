{
 "cells": [
  {
   "cell_type": "code",
   "execution_count": 33,
   "metadata": {
    "collapsed": true
   },
   "outputs": [],
   "source": [
    "import datetime\n",
    "import numpy as np\n",
    "import pandas as pd"
   ]
  },
  {
   "cell_type": "code",
   "execution_count": 2,
   "metadata": {},
   "outputs": [
    {
     "name": "stdout",
     "output_type": "stream",
     "text": [
      "Data file found and the project has not been changed. It won't be downloaded again.\n"
     ]
    }
   ],
   "source": [
    "%run ../tasking_manager_stats/data_management"
   ]
  },
  {
   "cell_type": "code",
   "execution_count": 22,
   "metadata": {},
   "outputs": [
    {
     "data": {
      "text/plain": [
       "DatetimeIndex(['2020-11-23 17:00:00', '2020-11-23 17:05:00',\n",
       "               '2020-11-23 17:10:00', '2020-11-23 17:15:00',\n",
       "               '2020-11-23 17:20:00', '2020-11-23 17:25:00',\n",
       "               '2020-11-23 17:30:00', '2020-11-23 17:35:00',\n",
       "               '2020-11-23 17:40:00', '2020-11-23 17:45:00',\n",
       "               '2020-11-23 17:50:00', '2020-11-23 17:55:00',\n",
       "               '2020-11-23 18:00:00', '2020-11-23 18:05:00',\n",
       "               '2020-11-23 18:10:00', '2020-11-23 18:15:00',\n",
       "               '2020-11-23 18:20:00', '2020-11-23 18:25:00',\n",
       "               '2020-11-23 18:30:00', '2020-11-23 18:35:00',\n",
       "               '2020-11-23 18:40:00', '2020-11-23 18:45:00',\n",
       "               '2020-11-23 18:50:00', '2020-11-23 18:55:00',\n",
       "               '2020-11-23 19:00:00'],\n",
       "              dtype='datetime64[ns]', freq='5T')"
      ]
     },
     "execution_count": 22,
     "metadata": {},
     "output_type": "execute_result"
    }
   ],
   "source": [
    "start_date = datetime.datetime.strptime('2020-11-23 18:00:00', '%Y-%m-%d %H:%M:%S')\n",
    "start_date -= datetime.timedelta(hours=1) # Winter\n",
    "timestamps = pd.date_range(start_date, start_date + datetime.timedelta(hours=2), freq='5min')\n",
    "timestamps"
   ]
  },
  {
   "cell_type": "code",
   "execution_count": 3,
   "metadata": {},
   "outputs": [
    {
     "name": "stdout",
     "output_type": "stream",
     "text": [
      "Data file not found locally and on GitHub, it will be downloaded again.\n",
      "Download tasking manager data for project 9849\n"
     ]
    },
    {
     "name": "stderr",
     "output_type": "stream",
     "text": [
      "100%|██████████████████████████████████████████████████████████████████████████████████████████████████████████████████████████████████████████████████████████████████████████████████████████████████████████████████████████████████| 87/87 [03:26<00:00,  4.93s/it]\n"
     ]
    }
   ],
   "source": [
    "project_id = 9849\n",
    "db = Database(project_id)"
   ]
  },
  {
   "cell_type": "code",
   "execution_count": 7,
   "metadata": {},
   "outputs": [],
   "source": [
    "for task_id in db.get_task_ids():\n",
    "    if str(task_id) not in db.get_task_history():\n",
    "        print(f'Task {task_id} missing')\n",
    "        continue\n",
    "    task_data = db.get_task_history()[str(task_id)]\n",
    "    "
   ]
  },
  {
   "cell_type": "code",
   "execution_count": 10,
   "metadata": {},
   "outputs": [],
   "source": [
    "task_id = db.get_task_ids()[0]\n",
    "task_data = db.get_task_history()[str(task_id)]"
   ]
  },
  {
   "cell_type": "code",
   "execution_count": 12,
   "metadata": {},
   "outputs": [
    {
     "data": {
      "text/plain": [
       "[{'action': 'LOCKED_FOR_MAPPING',\n",
       "  'actionBy': 'MM14',\n",
       "  'actionDate': '2020-11-28T12:01:51.236675Z',\n",
       "  'actionText': '00:03:16.927169',\n",
       "  'historyId': 13735017,\n",
       "  'issues': None,\n",
       "  'pictureUrl': None,\n",
       "  'taskId': None},\n",
       " {'action': 'LOCKED_FOR_MAPPING',\n",
       "  'actionBy': 'heidilam',\n",
       "  'actionDate': '2020-11-27T04:19:22.501003Z',\n",
       "  'actionText': '00:00:11.475808',\n",
       "  'historyId': 13718505,\n",
       "  'issues': None,\n",
       "  'pictureUrl': None,\n",
       "  'taskId': None},\n",
       " {'action': 'LOCKED_FOR_MAPPING',\n",
       "  'actionBy': 'heidilam',\n",
       "  'actionDate': '2020-11-27T03:52:18.537029Z',\n",
       "  'actionText': '00:26:57.162846',\n",
       "  'historyId': 13718389,\n",
       "  'issues': None,\n",
       "  'pictureUrl': None,\n",
       "  'taskId': None},\n",
       " {'action': 'LOCKED_FOR_MAPPING',\n",
       "  'actionBy': 'Mhenking',\n",
       "  'actionDate': '2020-11-24T16:41:36.674341Z',\n",
       "  'actionText': '00:00:55.968501',\n",
       "  'historyId': 13674535,\n",
       "  'issues': None,\n",
       "  'pictureUrl': None,\n",
       "  'taskId': None},\n",
       " {'action': 'LOCKED_FOR_MAPPING',\n",
       "  'actionBy': 'micmaz',\n",
       "  'actionDate': '2020-11-24T16:40:41.534170Z',\n",
       "  'actionText': '00:00:20.314790',\n",
       "  'historyId': 13674529,\n",
       "  'issues': None,\n",
       "  'pictureUrl': None,\n",
       "  'taskId': None},\n",
       " {'action': 'LOCKED_FOR_MAPPING',\n",
       "  'actionBy': 'micmaz',\n",
       "  'actionDate': '2020-11-24T16:39:56.944340Z',\n",
       "  'actionText': '00:00:32.558347',\n",
       "  'historyId': 13674521,\n",
       "  'issues': None,\n",
       "  'pictureUrl': None,\n",
       "  'taskId': None},\n",
       " {'action': 'STATE_CHANGE',\n",
       "  'actionBy': 'micmaz',\n",
       "  'actionDate': '2020-11-24T16:39:47.600093Z',\n",
       "  'actionText': 'INVALIDATED',\n",
       "  'historyId': 13674517,\n",
       "  'issues': None,\n",
       "  'pictureUrl': None,\n",
       "  'taskId': None},\n",
       " {'action': 'LOCKED_FOR_VALIDATION',\n",
       "  'actionBy': 'micmaz',\n",
       "  'actionDate': '2020-11-24T16:36:40.928595Z',\n",
       "  'actionText': '00:03:06.680769',\n",
       "  'historyId': 13674494,\n",
       "  'issues': None,\n",
       "  'pictureUrl': None,\n",
       "  'taskId': None},\n",
       " {'action': 'LOCKED_FOR_VALIDATION',\n",
       "  'actionBy': 'micmaz',\n",
       "  'actionDate': '2020-11-24T16:32:01.576665Z',\n",
       "  'actionText': '00:04:33.048918',\n",
       "  'historyId': 13674470,\n",
       "  'issues': None,\n",
       "  'pictureUrl': None,\n",
       "  'taskId': None},\n",
       " {'action': 'LOCKED_FOR_VALIDATION',\n",
       "  'actionBy': 'NicolasGrosjean',\n",
       "  'actionDate': '2020-11-23T17:50:28.300025Z',\n",
       "  'actionText': '00:00:20.560250',\n",
       "  'historyId': 13659855,\n",
       "  'issues': None,\n",
       "  'pictureUrl': None,\n",
       "  'taskId': None},\n",
       " {'action': 'STATE_CHANGE',\n",
       "  'actionBy': 'Mhenking',\n",
       "  'actionDate': '2020-11-23T17:37:57.321776Z',\n",
       "  'actionText': 'MAPPED',\n",
       "  'historyId': 13659641,\n",
       "  'issues': None,\n",
       "  'pictureUrl': None,\n",
       "  'taskId': None},\n",
       " {'action': 'LOCKED_FOR_MAPPING',\n",
       "  'actionBy': 'Mhenking',\n",
       "  'actionDate': '2020-11-23T17:05:27.459425Z',\n",
       "  'actionText': '00:32:29.865094',\n",
       "  'historyId': 13659029,\n",
       "  'issues': None,\n",
       "  'pictureUrl': None,\n",
       "  'taskId': None},\n",
       " {'action': 'LOCKED_FOR_MAPPING',\n",
       "  'actionBy': 'Eric_21',\n",
       "  'actionDate': '2020-11-20T09:02:57.225821Z',\n",
       "  'actionText': '00:00:17.081461',\n",
       "  'historyId': 13588500,\n",
       "  'issues': None,\n",
       "  'pictureUrl': None,\n",
       "  'taskId': None},\n",
       " {'action': 'LOCKED_FOR_MAPPING',\n",
       "  'actionBy': 'Eric_21',\n",
       "  'actionDate': '2020-11-19T23:36:35.427465Z',\n",
       "  'actionText': '00:00:59.396822',\n",
       "  'historyId': 13580237,\n",
       "  'issues': None,\n",
       "  'pictureUrl': None,\n",
       "  'taskId': None},\n",
       " {'action': 'LOCKED_FOR_MAPPING',\n",
       "  'actionBy': 'DFae',\n",
       "  'actionDate': '2020-11-17T17:55:49.990532Z',\n",
       "  'actionText': '00:00:46.071233',\n",
       "  'historyId': 13527509,\n",
       "  'issues': None,\n",
       "  'pictureUrl': 'https://www.gravatar.com/avatar/8f2b022d88bd3d7d36916206ab1718d6.jpg?s=100&d=https%3A%2F%2Fwww.openstreetmap.org%2Fassets%2Favatar_large-54d681ddaf47c4181b05dbfae378dc0201b393bbad3ff0e68143c3d5f3880ace.png',\n",
       "  'taskId': None},\n",
       " {'action': 'AUTO_UNLOCKED_FOR_MAPPING',\n",
       "  'actionBy': 'AmyBicknell',\n",
       "  'actionDate': '2020-11-16T20:26:12.510024Z',\n",
       "  'actionText': '02:00:00',\n",
       "  'historyId': 13509037,\n",
       "  'issues': None,\n",
       "  'pictureUrl': 'https://www.gravatar.com/avatar/db77c479c86c9e81eb496e28733e0b17.jpg?s=100&d=https%3A%2F%2Fwww.openstreetmap.org%2Fassets%2Favatar_large-54d681ddaf47c4181b05dbfae378dc0201b393bbad3ff0e68143c3d5f3880ace.png',\n",
       "  'taskId': None},\n",
       " {'action': 'LOCKED_FOR_MAPPING',\n",
       "  'actionBy': 'garrityc',\n",
       "  'actionDate': '2020-11-16T15:55:17.752913Z',\n",
       "  'actionText': '01:03:10.415489',\n",
       "  'historyId': 13502055,\n",
       "  'issues': None,\n",
       "  'pictureUrl': None,\n",
       "  'taskId': None}]"
      ]
     },
     "execution_count": 12,
     "metadata": {},
     "output_type": "execute_result"
    }
   ],
   "source": [
    "task_data['taskHistory']"
   ]
  },
  {
   "cell_type": "code",
   "execution_count": 41,
   "metadata": {},
   "outputs": [
    {
     "data": {
      "text/plain": [
       "Timestamp('2020-11-23 17:50:48.860275')"
      ]
     },
     "execution_count": 41,
     "metadata": {},
     "output_type": "execute_result"
    }
   ],
   "source": [
    "task_hist = task_data['taskHistory'][-8]\n",
    "date = pd.to_datetime(task_hist['actionDate'])\n",
    "# task_states = np.zeros(len(timestamps))\n",
    "# task_states[date < timestamps]\n",
    "date + pd.to_timedelta(task_hist['actionText'])"
   ]
  },
  {
   "cell_type": "code",
   "execution_count": 60,
   "metadata": {
    "collapsed": true
   },
   "outputs": [],
   "source": [
    "def compute_task_states(task_data, timestamps):\n",
    "    task_states = np.zeros(len(timestamps))\n",
    "    task_locked = np.zeros(len(timestamps))\n",
    "    for task_hist in reversed(task_data['taskHistory']):\n",
    "        date = pd.to_datetime(task_hist['actionDate'])\n",
    "        timestamp = (date - timestamps[0]).days\n",
    "        if task_hist['action'].startswith('LOCK'):\n",
    "            task_locked[date < timestamps] = 1\n",
    "            task_locked[date + pd.to_timedelta(task_hist['actionText']) < timestamps] = 0\n",
    "            continue\n",
    "        if task_hist['action'] != 'STATE_CHANGE':\n",
    "            continue\n",
    "        if task_hist['actionText'] == 'MAPPED':\n",
    "            task_states[date < timestamps] = 1\n",
    "            continue\n",
    "        if task_hist['actionText'] == 'INVALIDATED':\n",
    "            task_states[date < timestamps] = 2\n",
    "            continue\n",
    "        if task_hist['actionText'] == 'VALIDATED':\n",
    "            task_states[date < timestamps] = 3\n",
    "            continue\n",
    "        if task_hist['actionText'] == 'BADIMAGERY':\n",
    "            task_states[date < timestamps] = 4\n",
    "            continue\n",
    "    return task_states, task_locked"
   ]
  },
  {
   "cell_type": "code",
   "execution_count": 65,
   "metadata": {
    "collapsed": true
   },
   "outputs": [],
   "source": [
    "def get_task_states_and_locked_tasks(db, timestamps):\n",
    "    tasks_states = dict()\n",
    "    tasks_locked = dict()\n",
    "    for task_id in db.get_task_ids():\n",
    "        task_states, task_locked = compute_task_states(db.get_task_history()[str(task_id)], timestamps)\n",
    "        tasks_states[task_id] = task_states\n",
    "        tasks_locked[task_id] = task_locked\n",
    "    return tasks_states, tasks_locked"
   ]
  },
  {
   "cell_type": "code",
   "execution_count": 66,
   "metadata": {},
   "outputs": [],
   "source": [
    "tasks_states, tasks_locked = get_task_states_and_locked_tasks(db, timestamps)"
   ]
  },
  {
   "cell_type": "code",
   "execution_count": 68,
   "metadata": {},
   "outputs": [
    {
     "data": {
      "text/plain": [
       "array([ 0.,  0.,  1.,  1.,  1.,  1.,  1.,  1.,  0.,  0.,  0.,  0.,  0.,\n",
       "        0.,  0.,  0.,  0.,  0.,  0.,  0.,  0.,  0.,  0.,  0.,  0.])"
      ]
     },
     "execution_count": 68,
     "metadata": {},
     "output_type": "execute_result"
    }
   ],
   "source": [
    "tasks_locked[task_id]"
   ]
  },
  {
   "cell_type": "code",
   "execution_count": null,
   "metadata": {
    "collapsed": true
   },
   "outputs": [],
   "source": []
  }
 ],
 "metadata": {
  "kernelspec": {
   "display_name": "Python 3",
   "language": "python",
   "name": "python3"
  },
  "language_info": {
   "codemirror_mode": {
    "name": "ipython",
    "version": 3
   },
   "file_extension": ".py",
   "mimetype": "text/x-python",
   "name": "python",
   "nbconvert_exporter": "python",
   "pygments_lexer": "ipython3",
   "version": "3.6.2"
  }
 },
 "nbformat": 4,
 "nbformat_minor": 2
}
