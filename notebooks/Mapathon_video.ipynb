{
 "cells": [
  {
   "cell_type": "markdown",
   "metadata": {},
   "source": [
    "# Run the notebook with : jupyter notebook --NotebookApp.iopub_data_rate_limit=1.0e10"
   ]
  },
  {
   "cell_type": "code",
   "execution_count": null,
   "metadata": {
    "collapsed": true
   },
   "outputs": [],
   "source": [
    "import datetime\n",
    "import numpy as np\n",
    "import pandas as pd\n",
    "import plotly.graph_objects as go"
   ]
  },
  {
   "cell_type": "code",
   "execution_count": null,
   "metadata": {},
   "outputs": [],
   "source": [
    "%run ../tasking_manager_stats/data_management"
   ]
  },
  {
   "cell_type": "code",
   "execution_count": null,
   "metadata": {},
   "outputs": [],
   "source": [
    "start_date = datetime.datetime.strptime('2020-11-23 18:00:00', '%Y-%m-%d %H:%M:%S')\n",
    "start_date -= datetime.timedelta(hours=1) # Winter\n",
    "timestamps = pd.date_range(start_date, start_date + datetime.timedelta(hours=2), freq='5min')\n",
    "timestamps"
   ]
  },
  {
   "cell_type": "code",
   "execution_count": null,
   "metadata": {},
   "outputs": [],
   "source": [
    "project_id = 9849\n",
    "db = Database(project_id)"
   ]
  },
  {
   "cell_type": "code",
   "execution_count": null,
   "metadata": {
    "collapsed": true
   },
   "outputs": [],
   "source": [
    "def compute_task_states(task_data, timestamps):\n",
    "    task_states = np.zeros(len(timestamps))\n",
    "    task_locked = np.zeros(len(timestamps))\n",
    "    for task_hist in reversed(task_data['taskHistory']):\n",
    "        date = pd.to_datetime(task_hist['actionDate'])\n",
    "        timestamp = (date - timestamps[0]).days\n",
    "        if task_hist['action'].startswith('LOCK'):\n",
    "            task_locked[date < timestamps] = 1\n",
    "            task_locked[date + pd.to_timedelta(task_hist['actionText']) < timestamps] = 0\n",
    "            continue\n",
    "        if task_hist['action'] != 'STATE_CHANGE':\n",
    "            continue\n",
    "        if task_hist['actionText'] == 'MAPPED':\n",
    "            task_states[date < timestamps] = 1\n",
    "            continue\n",
    "        if task_hist['actionText'] == 'INVALIDATED':\n",
    "            task_states[date < timestamps] = 2\n",
    "            continue\n",
    "        if task_hist['actionText'] == 'VALIDATED':\n",
    "            task_states[date < timestamps] = 3\n",
    "            continue\n",
    "        if task_hist['actionText'] == 'BADIMAGERY':\n",
    "            task_states[date < timestamps] = 4\n",
    "            continue\n",
    "    return task_states, task_locked"
   ]
  },
  {
   "cell_type": "code",
   "execution_count": null,
   "metadata": {
    "collapsed": true
   },
   "outputs": [],
   "source": [
    "def get_task_states_and_locked_tasks(db, timestamps):\n",
    "    tasks_states = dict()\n",
    "    tasks_locked = dict()\n",
    "    for task_id in db.get_task_ids():\n",
    "        task_states, task_locked = compute_task_states(db.get_task_history()[str(task_id)], timestamps)\n",
    "        tasks_states[task_id] = task_states\n",
    "        tasks_locked[task_id] = task_locked\n",
    "    return tasks_states, tasks_locked"
   ]
  },
  {
   "cell_type": "code",
   "execution_count": null,
   "metadata": {
    "collapsed": true
   },
   "outputs": [],
   "source": [
    "tasks_states, tasks_locked = get_task_states_and_locked_tasks(db, timestamps)"
   ]
  },
  {
   "cell_type": "code",
   "execution_count": null,
   "metadata": {},
   "outputs": [],
   "source": [
    "for feature in db.get_task_features():    \n",
    "    arr = np.array(feature['geometry']['coordinates'][0][0]).transpose()\n",
    "    task_id = feature['properties']['taskId']\n",
    "    if task_id == 40:\n",
    "        break\n",
    "fig = go.Figure()\n",
    "fig.add_trace(go.Scatter(x=arr[0], y=arr[1], marker=dict(color='#ADE6EF'), mode='lines', fill=\"toself\"))\n",
    "fig.add_trace(go.Scatter(x=arr[0], y=arr[1], marker=dict(color='black'), mode='lines', name=''))\n",
    "fig.add_layout_image(dict(source=\"../data/lock.png\",x=arr[0][:-1].mean(), y=arr[1][:-1].mean()))\n",
    "fig.update_layout_images(dict(xref=\"x\", yref=\"y\", sizex=arr[0].max() - arr[0].min(), sizey=arr[1].max() - arr[1].min(),\n",
    "                              xanchor=\"center\", yanchor=\"middle\"))\n",
    "fig.show()"
   ]
  },
  {
   "cell_type": "code",
   "execution_count": null,
   "metadata": {},
   "outputs": [],
   "source": [
    "time_id = -1\n",
    "fig = go.Figure()\n",
    "# Plot state and lock\n",
    "for feature in db.get_task_features():    \n",
    "    arr = np.array(feature['geometry']['coordinates'][0][0]).transpose()\n",
    "    task_id = feature['properties']['taskId']\n",
    "    state = tasks_states[task_id][time_id]\n",
    "    if state == 1: # MAPPED\n",
    "        fig.add_trace(go.Scatter(x=arr[0], y=arr[1], marker=dict(color='#ADE6EF'), mode='lines', fill='toself', name=''))\n",
    "    elif state == 2: # INVALIDATED\n",
    "        fig.add_trace(go.Scatter(x=arr[0], y=arr[1], marker=dict(color='#FCECA4'), mode='lines', fill='toself', name=''))\n",
    "    elif state == 3: # VALIDATED\n",
    "        fig.add_trace(go.Scatter(x=arr[0], y=arr[1], marker=dict(color='#40AC8C'), mode='lines', fill='toself', name=''))\n",
    "    elif state == 4: # BADIMAGERY\n",
    "        fig.add_trace(go.Scatter(x=arr[0], y=arr[1], marker=dict(color='#D8DAE4'), mode='lines', fill='toself', name=''))\n",
    "        \n",
    "    # Add lock if there is one\n",
    "    if tasks_locked[task_id][time_id] == 1:\n",
    "        fig.add_layout_image(dict(source=\"../data/lock.png\",x=arr[0][:-1].mean(), y=arr[1][:-1].mean()))\n",
    "        fig.update_layout_images(dict(xref=\"x\", yref=\"y\", sizex=arr[0].max() - arr[0].min(),\n",
    "                                      sizey=arr[1].max() - arr[1].min(), xanchor=\"center\", yanchor=\"middle\"))\n",
    "        \n",
    "# Plot borders\n",
    "for feature in db.get_task_features(): \n",
    "    arr = np.array(feature['geometry']['coordinates'][0][0]).transpose()\n",
    "    fig.add_trace(go.Scatter(x=arr[0], y=arr[1], marker=dict(color='#999DB5'), mode='lines', name=''))   \n",
    "fig.update_layout(showlegend=False, plot_bgcolor='rgba(0,0,0,0)', xaxis=dict(visible=False), yaxis=dict(visible=False))\n",
    "fig.update_yaxes(scaleanchor = \"x\",scaleratio = 1)\n",
    "fig.show()"
   ]
  },
  {
   "cell_type": "code",
   "execution_count": null,
   "metadata": {
    "collapsed": true
   },
   "outputs": [],
   "source": []
  }
 ],
 "metadata": {
  "kernelspec": {
   "display_name": "Python 3",
   "language": "python",
   "name": "python3"
  },
  "language_info": {
   "codemirror_mode": {
    "name": "ipython",
    "version": 3
   },
   "file_extension": ".py",
   "mimetype": "text/x-python",
   "name": "python",
   "nbconvert_exporter": "python",
   "pygments_lexer": "ipython3",
   "version": "3.6.2"
  }
 },
 "nbformat": 4,
 "nbformat_minor": 2
}
